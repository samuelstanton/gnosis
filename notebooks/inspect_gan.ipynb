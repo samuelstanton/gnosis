{
 "cells": [
  {
   "cell_type": "code",
   "execution_count": null,
   "metadata": {},
   "outputs": [],
   "source": [
    "import pandas as pd\n",
    "import matplotlib.pyplot as plt\n",
    "import seaborn as sns\n",
    "import numpy as np\n",
    "import math\n",
    "import os\n",
    "import torch\n",
    "\n",
    "from upcycle.plotting.credible_regions import get_arm, draw_arm_comparison\n",
    "from upcycle import cuda\n",
    "from pathlib import Path\n",
    "\n",
    "sns.set(style='whitegrid', font_scale=1.25)"
   ]
  },
  {
   "cell_type": "code",
   "execution_count": null,
   "metadata": {},
   "outputs": [],
   "source": [
    "exp_dir = '../data/experiments/image_generation'\n",
    "\n",
    "arms = {\n",
    "    'CIFAR-10': 'sngan_cifar10_v0.0.5',\n",
    "    'CIFAR-100': 'sngan_cifar100_v0.0.5',\n",
    "}\n",
    "window = 1"
   ]
  },
  {
   "cell_type": "code",
   "execution_count": null,
   "metadata": {},
   "outputs": [],
   "source": [
    "fig = plt.figure(figsize=(10, 4))\n",
    "\n",
    "ax_1 = fig.add_subplot(1, 2, 1)\n",
    "ax_1 = draw_arm_comparison(ax_1, exp_dir, arms, 'train_metrics', 'step', 'fid_score')\n",
    "\n",
    "ax_2 = fig.add_subplot(1, 2, 2)\n",
    "ax_2 = draw_arm_comparison(ax_2, exp_dir, arms, 'train_metrics', 'step', 'is_score')\n",
    "\n",
    "ax_2.legend()\n",
    "plt.tight_layout()"
   ]
  },
  {
   "cell_type": "code",
   "execution_count": null,
   "metadata": {},
   "outputs": [],
   "source": [
    "fig = plt.figure(figsize=(10, 4))\n",
    "\n",
    "ax_1 = fig.add_subplot(1, 2, 1)\n",
    "ax_1 = draw_arm_comparison(ax_1, exp_dir, arms, 'train_metrics', 'step', 'disc_loss')\n",
    "\n",
    "ax_2 = fig.add_subplot(1, 2, 2)\n",
    "ax_2 = draw_arm_comparison(ax_2, exp_dir, arms, 'train_metrics', 'step', 'gen_loss')\n",
    "\n",
    "ax_2.legend()\n",
    "plt.tight_layout()\n",
    "plt.tight_layout()"
   ]
  },
  {
   "cell_type": "code",
   "execution_count": null,
   "metadata": {},
   "outputs": [],
   "source": [
    "from oil.architectures.img_gen.resnetgan import Generator\n",
    "import pickle as pkl\n",
    "\n",
    "gen_kwargs = dict(img_channels=3, z_dim=128, k=256)\n",
    "gen_net = Generator(**gen_kwargs)\n",
    "gen_net = cuda.try_cuda(gen_net)\n",
    "\n",
    "epoch = 500\n",
    "arm_name = 'sngan_cifar10_v0.0.5'\n",
    "ckpt_files = list(Path(os.path.join(exp_dir, arm_name)).rglob(f'*generator_{epoch}.ckpt'))\n",
    "with open(ckpt_files[0], 'rb') as f:\n",
    "    state_dict = pkl.load(f)\n",
    "\n",
    "gen_net.load_state_dict(state_dict)\n",
    "_, fid_score, _, _ = get_arm(exp_dir, arm_name, 'train_metrics.csv', 'step', 'fid_score', window)\n",
    "_, is_score, _, _ = get_arm(exp_dir, arm_name, 'train_metrics.csv', 'step', 'is_score', window)\n",
    "print(f'FID Score: {fid_score[epoch - 1]:0.4f}')\n",
    "print(f'IS Score: {is_score[epoch - 1]:0.4f}')"
   ]
  },
  {
   "cell_type": "code",
   "execution_count": null,
   "metadata": {},
   "outputs": [],
   "source": [
    "import torchvision.utils as tv_utils\n",
    "fig = plt.figure(figsize=(8, 8))\n",
    "num_rows = 8\n",
    "with torch.no_grad():\n",
    "    fake_images = gen_net.sample(num_rows ** 2).cpu()\n",
    "img_grid = tv_utils.make_grid(fake_images, nrow=num_rows, normalize=True)\n",
    "img_grid = np.transpose(img_grid, (1, 2, 0))\n",
    "\n",
    "plt.axis('off')\n",
    "plt.imshow(img_grid)"
   ]
  },
  {
   "cell_type": "raw",
   "metadata": {},
   "source": []
  }
 ],
 "metadata": {
  "kernelspec": {
   "display_name": "Python 3",
   "language": "python",
   "name": "python3"
  },
  "language_info": {
   "codemirror_mode": {
    "name": "ipython",
    "version": 3
   },
   "file_extension": ".py",
   "mimetype": "text/x-python",
   "name": "python",
   "nbconvert_exporter": "python",
   "pygments_lexer": "ipython3",
   "version": "3.8.5"
  }
 },
 "nbformat": 4,
 "nbformat_minor": 4
}
