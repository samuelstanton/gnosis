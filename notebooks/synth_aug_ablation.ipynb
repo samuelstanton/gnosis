{
 "cells": [
  {
   "cell_type": "code",
   "execution_count": null,
   "metadata": {},
   "outputs": [],
   "source": [
    "import pandas as pd\n",
    "import matplotlib.pyplot as plt\n",
    "import seaborn as sns\n",
    "import numpy as np\n",
    "import math\n",
    "import itertools\n",
    "\n",
    "from upcycle.plotting.credible_regions import get_arm, draw_arm_comparison\n",
    "from pathlib import Path\n",
    "\n",
    "sns.set(style='whitegrid', font_scale=1.5)"
   ]
  },
  {
   "cell_type": "code",
   "execution_count": null,
   "metadata": {},
   "outputs": [],
   "source": [
    "def aggregate_data(arms, keys):\n",
    "    records = []\n",
    "    for s_ratio in synth_ratios:\n",
    "        for n_teach in num_teachers:\n",
    "            metrics = dict(num_synth=s_ratio*50000, s_ratio=s_ratio, n_teach=n_teach)\n",
    "            for key in keys:\n",
    "                arm_tuple = get_arm(exp_dir, arms[f'{n_teach}-->1 ({s_ratio})'], 'student_train_metrics', 'epoch', key)\n",
    "                metrics.update({\n",
    "                    f'{key}_mean': arm_tuple[1][-1],\n",
    "                    f'{key}_lb': arm_tuple[2][-1],\n",
    "                    f'{key}_ub': arm_tuple[3][-1],\n",
    "                })\n",
    "            records.append(metrics)\n",
    "    df = pd.DataFrame(records)\n",
    "    return df"
   ]
  },
  {
   "cell_type": "markdown",
   "metadata": {},
   "source": [
    "### Static Synthetic Augmentation"
   ]
  },
  {
   "cell_type": "code",
   "execution_count": null,
   "metadata": {},
   "outputs": [],
   "source": [
    "exp_dir = '../data/experiments/image_classification'\n",
    "dataset = 'cifar100'\n",
    "version = 'v0.0.10'\n",
    "teacher_depth = 56\n",
    "student_depth = 56\n",
    "synth_ratios = [0.0, 0.25, 0.5, 0.75, 1.0]\n",
    "num_teachers = [5]\n",
    "alpha = 0.0\n",
    "num_classes = dict(cifar10=10, cifar100=100)\n",
    "\n",
    "arms = {}\n",
    "for s_ratio, n_teach in itertools.product(synth_ratios, num_teachers):\n",
    "    arms[f'{n_teach}-->1 ({s_ratio})'] = f'synth_aug_{s_ratio}_{dataset}_ts_soft_cross_ent_alpha_{alpha}_{version}/'\\\n",
    "                                         f'preresnet{teacher_depth}_{n_teach}-preresnet{student_depth}_1'"
   ]
  },
  {
   "cell_type": "code",
   "execution_count": null,
   "metadata": {},
   "outputs": [],
   "source": [
    "fig = plt.figure(figsize=(6, 5))\n",
    "keys = ['test_ts_agree']\n",
    "\n",
    "ax_2 = fig.add_subplot(1, 1, 1)\n",
    "df = aggregate_data(arms, keys)\n",
    "\n",
    "ax_2.plot(df.num_synth, df.test_ts_agree_mean, linewidth=2, color='blue')\n",
    "ax_2.fill_between(df.num_synth, df.test_ts_agree_lb, df.test_ts_agree_ub, alpha=0.25, color='blue')\n",
    "ax_2.scatter(df.num_synth, df.test_ts_agree_mean, color='blue')\n",
    "ax_2.set_xlabel('# Synthetic Examples')\n",
    "ax_2.set_ylabel('T/S Test Agreement')\n",
    "\n",
    "# fig.suptitle(f'ResNet{teacher_depth}-3 --> ResNet{student_depth}, {dataset.upper()}')\n",
    "plt.tight_layout()\n",
    "# plt.savefig(f'figures/image_classification/synth_aug_ablation_{dataset}_test_agree.pdf')"
   ]
  },
  {
   "cell_type": "code",
   "execution_count": null,
   "metadata": {},
   "outputs": [],
   "source": [
    "# for npz\n",
    "saved_arrays = dict(\n",
    "    num_synth = df.num_synth.values,\n",
    "    test_ts_agree_mean = df.test_ts_agree_mean.values,\n",
    "    test_ts_agree_lb = df.test_ts_agree_lb.values,\n",
    "    test_ts_agree_ub = df.test_ts_agree_ub.values,\n",
    ")"
   ]
  },
  {
   "cell_type": "code",
   "execution_count": null,
   "metadata": {},
   "outputs": [],
   "source": [
    "fig = plt.figure(figsize=(6, 5))\n",
    "keys = ['test_acc', 'teacher_test_acc']\n",
    "\n",
    "ax_2 = fig.add_subplot(1, 1, 1)\n",
    "df = aggregate_data(arms, keys)\n",
    "\n",
    "ax_2.plot(df.num_synth, df.test_acc_mean, linewidth=2, color='blue', label='student')\n",
    "ax_2.fill_between(df.num_synth, df.test_acc_lb, df.test_acc_ub, alpha=0.25, color='blue')\n",
    "ax_2.scatter(df.num_synth, df.test_acc_mean, color='blue')\n",
    "xlim = plt.xlim()\n",
    "ax_2.set_xlim(xlim)\n",
    "ax_2.set_ylim((70, 77))\n",
    "ax_2.hlines(df.teacher_test_acc_mean.iloc[0], *xlim, linestyle='--', color='green', label='teacher')\n",
    "ax_2.set_xlabel('# Synthetic Examples')\n",
    "ax_2.set_ylabel('Test Accuracy')\n",
    "\n",
    "# fig.suptitle(f'ResNet{teacher_depth}-3 --> ResNet{student_depth}, {dataset.upper()}')\n",
    "plt.tight_layout()\n",
    "plt.legend()\n",
    "# plt.savefig(f'figures/image_classification/synth_aug_ablation_{dataset}_test_acc.pdf')"
   ]
  },
  {
   "cell_type": "code",
   "execution_count": null,
   "metadata": {},
   "outputs": [],
   "source": [
    "saved_arrays.update(dict(\n",
    "    test_acc_mean = df.test_acc_mean.values,\n",
    "    test_acc_lb = df.test_acc_lb.values,\n",
    "    test_acc_ub = df.test_acc_ub.values,\n",
    "    teacher_test_acc_mean=df.teacher_test_acc_mean.values,\n",
    "))\n",
    "\n",
    "np.savez('num_synth_ablation.npz', **saved_arrays)"
   ]
  },
  {
   "cell_type": "code",
   "execution_count": null,
   "metadata": {},
   "outputs": [],
   "source": [
    "saved_arrays = np.load('num_synth_ablation.npz')\n",
    "list(saved_arrays.keys())"
   ]
  },
  {
   "cell_type": "code",
   "execution_count": null,
   "metadata": {},
   "outputs": [],
   "source": [
    "fig = plt.figure(figsize=(6, 5))\n",
    "keys = ['train_acc', 'teacher_train_acc']\n",
    "\n",
    "ax_2 = fig.add_subplot(1, 1, 1)\n",
    "df = aggregate_data(arms, keys)\n",
    "\n",
    "ax_2.plot(df.num_synth, df.train_acc_mean, linewidth=2, color='blue', label='student')\n",
    "ax_2.fill_between(df.num_synth, df.train_acc_lb, df.train_acc_ub, alpha=0.25, color='blue')\n",
    "ax_2.scatter(df.num_synth, df.train_acc_mean, color='blue')\n",
    "xlim = plt.xlim()\n",
    "ax_2.set_xlim(xlim)\n",
    "ax_2.hlines(df.teacher_train_acc_mean.iloc[0], *xlim, linestyle='--', color='green', label='teacher')\n",
    "ax_2.set_xlabel('# Synthetic Examples')\n",
    "ax_2.set_ylabel('Train Accuracy')\n",
    "\n",
    "# fig.suptitle(f'ResNet{teacher_depth}-3 --> ResNet{student_depth}, {dataset.upper()}')\n",
    "plt.tight_layout()\n",
    "# plt.legend()\n",
    "# plt.savefig(f'figures/image_classification/synth_aug_ablation_{dataset}_train_acc.pdf')"
   ]
  },
  {
   "cell_type": "code",
   "execution_count": null,
   "metadata": {},
   "outputs": [],
   "source": [
    "fig = plt.figure(figsize=(6, 5))\n",
    "keys = ['train_loss']\n",
    "\n",
    "ax_2 = fig.add_subplot(1, 1, 1)\n",
    "df = aggregate_data(arms, keys)\n",
    "\n",
    "ax_2.plot(df.num_synth, df.train_loss_mean, linewidth=2, color='blue', label='student')\n",
    "ax_2.fill_between(df.num_synth, df.train_loss_lb, df.train_loss_ub, alpha=0.25, color='blue')\n",
    "ax_2.scatter(df.num_synth, df.train_loss_mean, color='blue')\n",
    "ax_2.set_xlabel('# Synthetic Examples')\n",
    "ax_2.set_ylabel('Train Loss')\n",
    "\n",
    "# fig.suptitle(f'ResNet{teacher_depth}-3 --> ResNet{student_depth}, {dataset.upper()}')\n",
    "plt.tight_layout()\n",
    "# plt.legend()\n",
    "# plt.savefig(f'figures/image_classification/synth_aug_ablation_{dataset}_train_acc.pdf')"
   ]
  },
  {
   "cell_type": "markdown",
   "metadata": {},
   "source": [
    "### Online Synthetic Augmentation"
   ]
  },
  {
   "cell_type": "code",
   "execution_count": null,
   "metadata": {},
   "outputs": [],
   "source": [
    "exp_dir = '../data/experiments/image_classification'\n",
    "dataset = 'cifar100'\n",
    "version = 'v0.0.10'\n",
    "teacher_depth = 56\n",
    "student_depth = 56\n",
    "synth_ratios = [0.2, 0.4, 0.6, 0.8]\n",
    "num_teachers = [5]\n",
    "alpha = 0.0\n",
    "temp = 4.0\n",
    "num_classes = dict(cifar10=10, cifar100=100)\n",
    "\n",
    "arms = {}\n",
    "for s_ratio, n_teach in itertools.product(synth_ratios, num_teachers):\n",
    "    arms[f'{n_teach}-->1 ({s_ratio})'] = f'synthetic_augmentation/'\\\n",
    "                                         f'{dataset}_synth_ratio_{s_ratio}_alpha_{alpha}_temp_{temp}/'\\\n",
    "                                         f'preresnet{teacher_depth}_{n_teach}-preresnet{student_depth}_1'"
   ]
  },
  {
   "cell_type": "code",
   "execution_count": null,
   "metadata": {},
   "outputs": [],
   "source": [
    "fig = plt.figure(figsize=(6, 5))\n",
    "keys = ['test_acc', 'teacher_test_acc']\n",
    "\n",
    "ax_2 = fig.add_subplot(1, 1, 1)\n",
    "df = aggregate_data(arms, keys)\n",
    "\n",
    "ax_2.plot(df.s_ratio, df.test_acc_mean, linewidth=2, color='blue', label='student')\n",
    "ax_2.fill_between(df.s_ratio, df.test_acc_lb, df.test_acc_ub, alpha=0.25, color='blue')\n",
    "ax_2.scatter(df.s_ratio, df.test_acc_mean, color='blue')\n",
    "xlim = plt.xlim()\n",
    "ax_2.set_xlim(xlim)\n",
    "ax_2.set_ylim((71, 77))\n",
    "ax_2.hlines(df.teacher_test_acc_mean.iloc[0], *xlim, linestyle='--', color='green', label='teacher')\n",
    "ax_2.set_xlabel('Synthetic Ratio')\n",
    "ax_2.set_ylabel('Test Accuracy')\n",
    "\n",
    "# fig.suptitle(f'ResNet{teacher_depth}-3 --> ResNet{student_depth}, {dataset.upper()}')\n",
    "plt.tight_layout()\n",
    "plt.legend(loc='lower left')\n",
    "# plt.savefig(f'figures/image_classification/synth_aug_ablation_{dataset}_test_acc.pdf')"
   ]
  },
  {
   "cell_type": "code",
   "execution_count": null,
   "metadata": {},
   "outputs": [],
   "source": [
    "fig = plt.figure(figsize=(6, 5))\n",
    "keys = ['test_ts_agree']\n",
    "\n",
    "ax_2 = fig.add_subplot(1, 1, 1)\n",
    "df = aggregate_data(arms, keys)\n",
    "\n",
    "ax_2.plot(df.s_ratio, df.test_ts_agree_mean, linewidth=2, color='blue')\n",
    "ax_2.fill_between(df.s_ratio, df.test_ts_agree_lb, df.test_ts_agree_ub, alpha=0.25, color='blue')\n",
    "ax_2.scatter(df.s_ratio, df.test_ts_agree_mean, color='blue')\n",
    "ax_2.set_xlabel('Synthetic Ratio')\n",
    "ax_2.set_ylabel('T/S Test Agreement')\n",
    "\n",
    "# fig.suptitle(f'ResNet{teacher_depth}-3 --> ResNet{student_depth}, {dataset.upper()}')\n",
    "plt.tight_layout()\n",
    "# plt.savefig(f'figures/image_classification/synth_aug_ablation_{dataset}_test_agree.pdf')"
   ]
  },
  {
   "cell_type": "code",
   "execution_count": null,
   "metadata": {},
   "outputs": [],
   "source": [
    "keys = ['train_acc', 'teacher_train_acc']\n",
    "\n",
    "fig = plt.figure(figsize=(6, 5))\n",
    "ax_2 = fig.add_subplot(1, 1, 1)\n",
    "df = aggregate_data(arms, keys)\n",
    "\n",
    "ax_2.plot(df.s_ratio, df.train_acc_mean, linewidth=2, color='blue', label='student')\n",
    "ax_2.fill_between(df.s_ratio, df.train_acc_lb, df.train_acc_ub, alpha=0.25, color='blue')\n",
    "ax_2.scatter(df.s_ratio, df.train_acc_mean, color='blue')\n",
    "xlim = plt.xlim()\n",
    "ax_2.set_xlim(xlim)\n",
    "ax_2.hlines(df.teacher_train_acc_mean.iloc[0], *xlim, linestyle='--', color='green', label='teacher')\n",
    "ax_2.set_xlabel('Synthetic Ratio')\n",
    "ax_2.set_ylabel('Train Accuracy')\n",
    "\n",
    "# fig.suptitle(f'ResNet{teacher_depth}-3 --> ResNet{student_depth}, {dataset.upper()}')\n",
    "plt.tight_layout()\n",
    "# plt.legend()\n",
    "# plt.savefig(f'figures/image_classification/synth_aug_ablation_{dataset}_train_acc.pdf')"
   ]
  },
  {
   "cell_type": "code",
   "execution_count": null,
   "metadata": {},
   "outputs": [],
   "source": []
  }
 ],
 "metadata": {
  "kernelspec": {
   "display_name": "Python 3",
   "language": "python",
   "name": "python3"
  },
  "language_info": {
   "codemirror_mode": {
    "name": "ipython",
    "version": 3
   },
   "file_extension": ".py",
   "mimetype": "text/x-python",
   "name": "python",
   "nbconvert_exporter": "python",
   "pygments_lexer": "ipython3",
   "version": "3.8.5"
  }
 },
 "nbformat": 4,
 "nbformat_minor": 4
}
