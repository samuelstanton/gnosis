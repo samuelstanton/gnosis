{
 "cells": [
  {
   "cell_type": "code",
   "execution_count": 1,
   "id": "blind-perception",
   "metadata": {},
   "outputs": [],
   "source": [
    "import numpy as np\n",
    "import torch\n",
    "from upcycle.logging import DataFrameLogger as logger\n",
    "import pickle\n",
    "import os\n",
    "import yaml\n",
    "import tqdm\n",
    "import gnosis\n",
    "\n",
    "\n",
    "from matplotlib import pyplot as plt\n",
    "%load_ext autoreload\n",
    "%autoreload 2\n",
    "%matplotlib inline"
   ]
  },
  {
   "cell_type": "markdown",
   "id": "sufficient-instrument",
   "metadata": {},
   "source": [
    "## Models"
   ]
  },
  {
   "cell_type": "code",
   "execution_count": 2,
   "id": "likely-attendance",
   "metadata": {},
   "outputs": [],
   "source": [
    "from gnosis.models import PreResNet\n",
    "from gnosis.models import ClassifierEnsemble"
   ]
  },
  {
   "cell_type": "code",
   "execution_count": 3,
   "id": "increasing-holiday",
   "metadata": {},
   "outputs": [],
   "source": [
    "def make_resnet(depth):\n",
    "    return PreResNet(name=\"preresnet\", num_classes=100, depth=depth, input_size=32, skip_connections=True)"
   ]
  },
  {
   "cell_type": "markdown",
   "id": "touched-might",
   "metadata": {},
   "source": [
    "## Datasets"
   ]
  },
  {
   "cell_type": "code",
   "execution_count": 4,
   "id": "perceived-yield",
   "metadata": {},
   "outputs": [],
   "source": [
    "from torchvision.datasets import CIFAR100\n",
    "import torchvision"
   ]
  },
  {
   "cell_type": "code",
   "execution_count": 5,
   "id": "optional-lending",
   "metadata": {},
   "outputs": [
    {
     "name": "stdout",
     "output_type": "stream",
     "text": [
      "Files already downloaded and verified\n",
      "Files already downloaded and verified\n"
     ]
    }
   ],
   "source": [
    "def get_unit_cube_normalization():\n",
    "    min_vals = [0., 0., 0.]\n",
    "    max_vals = [1., 1., 1.]\n",
    "    offset = [0.5 * (min_val + max_val) for min_val, max_val in zip(min_vals, max_vals)]\n",
    "    scale = [(max_val - min_val) / 2 for max_val, min_val in zip(max_vals, min_vals)]\n",
    "    return torchvision.transforms.Normalize(offset, scale)\n",
    "\n",
    "\n",
    "def make_cifar100(transforms, tensor_transforms):\n",
    "    normalize_transforms = [\n",
    "        torchvision.transforms.ToTensor(),\n",
    "        get_unit_cube_normalization()\n",
    "    ]\n",
    "    transforms = torchvision.transforms.Compose(transforms + normalize_transforms + tensor_transforms)\n",
    "    \n",
    "    train_dataset = CIFAR100(root=\"/datasets\", download=True, train=True, transform=transforms)\n",
    "    test_dataset = CIFAR100(root=\"/datasets\", download=True, train=False, transform=transforms)\n",
    "    \n",
    "    train_loader = torch.utils.data.DataLoader(dataset=train_dataset, batch_size=1000, shuffle=False)\n",
    "    test_loader = torch.utils.data.DataLoader(dataset=test_dataset, batch_size=1000, shuffle=False)\n",
    "    \n",
    "    return train_loader, test_loader\n",
    "\n",
    "\n",
    "clean_train_loader, clean_test_loader = make_cifar100([], [])"
   ]
  },
  {
   "cell_type": "markdown",
   "id": "coral-gospel",
   "metadata": {},
   "source": [
    "## Utils"
   ]
  },
  {
   "cell_type": "code",
   "execution_count": 6,
   "id": "urban-discount",
   "metadata": {},
   "outputs": [],
   "source": [
    "import torch.nn.functional as F"
   ]
  },
  {
   "cell_type": "code",
   "execution_count": 7,
   "id": "apparent-climb",
   "metadata": {},
   "outputs": [],
   "source": [
    "# def mixup_data(x, alpha=1., seed):\n",
    "#     np.random.seed(seed)\n",
    "#     lam = np.random.beta(alpha, alpha)\n",
    "#     batch_size = x.size()[0]\n",
    "#     index = try_cuda(torch.randperm(batch_size))\n",
    "#     mixed_x = lam * x + (1 - lam) * x[index, :]\n",
    "#     return mixed_x"
   ]
  },
  {
   "cell_type": "code",
   "execution_count": 8,
   "id": "scientific-child",
   "metadata": {},
   "outputs": [],
   "source": [
    "def compute_probs(model, loader, use_mixup=False):\n",
    "    model.eval()\n",
    "    probs_list, labels_list = [], []\n",
    "    with torch.no_grad():\n",
    "        for x, y in tqdm.tqdm(loader):\n",
    "#             if use_mixup\n",
    "            logits = model(x.cuda())\n",
    "            probs = F.softmax(logits, dim=-1)\n",
    "            probs_list.append(probs.detach().cpu().numpy())\n",
    "            labels_list.append(y.detach().numpy())\n",
    "    return np.concatenate(probs_list), np.concatenate(labels_list)"
   ]
  },
  {
   "cell_type": "code",
   "execution_count": 9,
   "id": "hollow-mongolia",
   "metadata": {},
   "outputs": [],
   "source": [
    "def get_accuracy(probs, labels):\n",
    "    preds = np.argmax(probs, axis=-1)\n",
    "    assert preds.shape == labels.shape\n",
    "    return (preds == labels).mean()"
   ]
  },
  {
   "cell_type": "code",
   "execution_count": 10,
   "id": "persistent-alberta",
   "metadata": {},
   "outputs": [],
   "source": [
    "torch.cuda.empty_cache()"
   ]
  },
  {
   "cell_type": "markdown",
   "id": "level-consideration",
   "metadata": {},
   "source": [
    "## File traversal"
   ]
  },
  {
   "cell_type": "code",
   "execution_count": 27,
   "id": "muslim-playlist",
   "metadata": {},
   "outputs": [],
   "source": [
    "def is_leaf_directory(path):\n",
    "    return all([file in os.listdir(path) for file in [\"student.ckpt\"]])\n",
    "\n",
    "\n",
    "def process_all_subdirectories(path, process_leaf_directory):\n",
    "#     print(path)\n",
    "    if not os.path.isdir(path):\n",
    "        return \n",
    "    if is_leaf_directory(path):\n",
    "        process_leaf_directory(path)\n",
    "        return\n",
    "    for subdir in os.listdir(path):\n",
    "        full_path = os.path.join(path, subdir)\n",
    "        process_all_subdirectories(full_path, process_leaf_directory)"
   ]
  },
  {
   "cell_type": "code",
   "execution_count": 28,
   "id": "inappropriate-aberdeen",
   "metadata": {},
   "outputs": [],
   "source": [
    "def get_student_model(config, path):\n",
    "    student_model = make_resnet(config['classifier']['depth']).cuda()\n",
    "    print(\"Student:\")\n",
    "    print(\"\\tDepth: {}\".format(config['classifier']['depth']))\n",
    "    with open(os.path.join(path, \"student.ckpt\"), \"rb\") as f:\n",
    "        student_model.load_state_dict(pickle.load(f))\n",
    "    return student_model.eval()\n",
    "\n",
    "def get_teacher_model(config, path):\n",
    "    teachers = []\n",
    "    print(\"Teacher:\")\n",
    "    print(\"\\tDepth: {}\".format(config['teacher']['depth']))\n",
    "    print(\"\\tNumber of components: {}\".format(config['teacher']['num_components']))\n",
    "    \n",
    "    for i in range(config[\"teacher\"][\"num_components\"]):\n",
    "        teacher = make_resnet(config['teacher']['depth'])\n",
    "        teachers.append(teacher.cuda())\n",
    "        \n",
    "    if \"teacher_ensemble.ckpt\" in os.listdir(path):\n",
    "        teacher_ensemble = ClassifierEnsemble(*teachers)\n",
    "        with open(os.path.join(path, \"teacher_ensemble.ckpt\"), \"rb\") as f:\n",
    "            teacher_ensemble.load_state_dict(pickle.load(f))\n",
    "        return teacher_ensemble.eval()\n",
    "\n",
    "    elif \"teacher_0.ckpt\" in os.listdir(path):\n",
    "        for i in range(config[\"teacher\"][\"num_components\"]):\n",
    "            with open(os.path.join(path, \"teacher_{}.ckpt\".format(i)), \"rb\") as f:\n",
    "                teachers[i].load_state_dict(pickle.load(f))\n",
    "            teacher_ensemble = ClassifierEnsemble(*teachers)\n",
    "        return teacher_ensemble\n",
    "    else:\n",
    "        print(\"No teacher checkpoints found\")\n",
    "        return None\n",
    "    \n",
    "def get_config(path):\n",
    "    path1 = os.path.join(path, \"hydra_config.txt\")\n",
    "    path2 = os.path.join(path, \".hydra/config.yaml\")\n",
    "    if os.path.exists(path1):\n",
    "        path = path1\n",
    "    else:\n",
    "        path = path2\n",
    "    with open(path, \"rb\") as f:\n",
    "        config = yaml.full_load(f)\n",
    "    return config"
   ]
  },
  {
   "cell_type": "code",
   "execution_count": 33,
   "id": "educational-chest",
   "metadata": {},
   "outputs": [],
   "source": [
    "def make_const_aug_loader(aug_train_loader, aug_test_loader):\n",
    "    def fn(config):\n",
    "        return aug_train_loader, aug_test_loader\n",
    "    return fn\n",
    "\n",
    "\n",
    "def make_student_process_leaf_directory(\n",
    "    train_loader, test_loader, get_aug_loaders,\n",
    "    recompute_existing=False\n",
    "):\n",
    "    def process_leaf_directory(path):\n",
    "        print(\"Pocessing {}\".format(path))\n",
    "        \n",
    "        config = get_config(path)\n",
    "        aug_train_loader, aug_test_loader = get_aug_loaders(config)\n",
    "        \n",
    "        print(\"Trial: {}\".format(config[\"trial_id\"]))\n",
    "\n",
    "        student_model = get_student_model(config, path)\n",
    "        teacher_model = get_teacher_model(config, path)\n",
    "        \n",
    "        models_files = [[student_model, \"student_probs.npz\"], \n",
    "                        [teacher_model, \"teacher_probs.npz\"]]\n",
    "#         models_files = [[teacher_model, \"teacher_probs.npz\"]]\n",
    "#         models_files = [[student_model, \"student_probs.npz\"]]\n",
    "\n",
    "        if all([os.path.exists(os.path.join(path, file))\n",
    "               for _, file in models_files]) and not recompute_existing:\n",
    "            print(\"Files already exist, skipping...\")\n",
    "            return\n",
    "        \n",
    "        for model, file in models_files:\n",
    "            if model is None:\n",
    "                print(\"Warning: no model for {}\".format(file))\n",
    "                continue\n",
    "            filename = os.path.join(path, file)\n",
    "            train_probs, train_labels = compute_probs(model, train_loader)\n",
    "            test_probs, test_labels = compute_probs(model, test_loader)\n",
    "            aug_train_probs, _ = compute_probs(model, aug_train_loader)\n",
    "            aug_test_probs, _ = compute_probs(model, aug_test_loader)\n",
    "            print(\"Done...\")\n",
    "            np.savez(\n",
    "                filename,\n",
    "                train_probs=train_probs,\n",
    "                test_probs=test_probs,\n",
    "                aug_train_probs=aug_train_probs,\n",
    "                aug_test_probs=aug_test_probs,\n",
    "                train_labels=train_labels,\n",
    "                test_labels=test_labels\n",
    "                )\n",
    "        \n",
    "    return process_leaf_directory"
   ]
  },
  {
   "cell_type": "markdown",
   "id": "continent-national",
   "metadata": {},
   "source": [
    "## Baseline distillation"
   ]
  },
  {
   "cell_type": "code",
   "execution_count": 148,
   "id": "proud-advisory",
   "metadata": {},
   "outputs": [
    {
     "name": "stdout",
     "output_type": "stream",
     "text": [
      "Files already downloaded and verified\n",
      "Files already downloaded and verified\n"
     ]
    }
   ],
   "source": [
    "baseline_train_loader, baseline_test_loader = make_cifar100(\n",
    "    [torchvision.transforms.RandomCrop(32, 4), \n",
    "     torchvision.transforms.RandomHorizontalFlip()], [])\n",
    "\n",
    "process_leaf_directory_fn = make_student_process_leaf_directory(\n",
    "    clean_train_loader, clean_test_loader, baseline_train_loader, baseline_test_loader, recompute_existing=True)"
   ]
  },
  {
   "cell_type": "code",
   "execution_count": 139,
   "id": "given-manual",
   "metadata": {},
   "outputs": [
    {
     "name": "stdout",
     "output_type": "stream",
     "text": [
      "Pocessing ../../gnosis_checkpoints/pavel_baseline_distillation_soft_only_300epochs/synth_aug_0.0_cifar100_ts_soft_cross_ent_v0.0.10/preresnet56_3-preresnet56_1/trial_1/2021-01-24_10-59-18\n",
      "Trial: 1\n",
      "Student:\n",
      "\tDepth: 56\n",
      "Teacher:\n",
      "\tDepth: 56\n",
      "\tNumber of components: 3\n"
     ]
    },
    {
     "name": "stderr",
     "output_type": "stream",
     "text": [
      "100%|██████████| 50/50 [00:15<00:00,  3.19it/s]\n",
      "100%|██████████| 10/10 [00:03<00:00,  3.18it/s]\n",
      "100%|██████████| 50/50 [00:19<00:00,  2.60it/s]\n",
      "100%|██████████| 10/10 [00:03<00:00,  2.57it/s]\n"
     ]
    },
    {
     "name": "stdout",
     "output_type": "stream",
     "text": [
      "Done...\n",
      "Pocessing ../../gnosis_checkpoints/pavel_baseline_distillation_soft_only_300epochs/synth_aug_0.0_cifar100_ts_soft_cross_ent_v0.0.10/preresnet56_3-preresnet56_1/trial_3/2021-01-24_10-59-18\n",
      "Trial: 3\n",
      "Student:\n",
      "\tDepth: 56\n",
      "Teacher:\n",
      "\tDepth: 56\n",
      "\tNumber of components: 3\n"
     ]
    },
    {
     "name": "stderr",
     "output_type": "stream",
     "text": [
      "100%|██████████| 50/50 [00:15<00:00,  3.21it/s]\n",
      "100%|██████████| 10/10 [00:03<00:00,  3.22it/s]\n",
      "100%|██████████| 50/50 [00:19<00:00,  2.62it/s]\n",
      "100%|██████████| 10/10 [00:03<00:00,  2.61it/s]\n"
     ]
    },
    {
     "name": "stdout",
     "output_type": "stream",
     "text": [
      "Done...\n",
      "Pocessing ../../gnosis_checkpoints/pavel_baseline_distillation_soft_only_300epochs/synth_aug_0.0_cifar100_ts_soft_cross_ent_v0.0.10/preresnet56_3-preresnet56_1/trial_2/2021-01-24_10-59-18\n",
      "Trial: 2\n",
      "Student:\n",
      "\tDepth: 56\n",
      "Teacher:\n",
      "\tDepth: 56\n",
      "\tNumber of components: 3\n"
     ]
    },
    {
     "name": "stderr",
     "output_type": "stream",
     "text": [
      "100%|██████████| 50/50 [00:15<00:00,  3.19it/s]\n",
      "100%|██████████| 10/10 [00:03<00:00,  3.22it/s]\n",
      "100%|██████████| 50/50 [00:19<00:00,  2.61it/s]\n",
      "100%|██████████| 10/10 [00:03<00:00,  2.60it/s]\n"
     ]
    },
    {
     "name": "stdout",
     "output_type": "stream",
     "text": [
      "Done...\n"
     ]
    },
    {
     "name": "stderr",
     "output_type": "stream",
     "text": [
      "\r",
      "  0%|          | 0/50 [00:00<?, ?it/s]"
     ]
    },
    {
     "name": "stdout",
     "output_type": "stream",
     "text": [
      "Pocessing ../../gnosis_checkpoints/pavel_baseline_distillation_soft_only_300epochs/synth_aug_0.0_cifar100_ts_soft_cross_ent_v0.0.10/preresnet20_5-preresnet20_1/trial_1/2021-01-24_10-59-18\n",
      "Trial: 1\n",
      "Student:\n",
      "\tDepth: 20\n",
      "Teacher:\n",
      "\tDepth: 20\n",
      "\tNumber of components: 5\n"
     ]
    },
    {
     "name": "stderr",
     "output_type": "stream",
     "text": [
      "100%|██████████| 50/50 [00:10<00:00,  4.94it/s]\n",
      "100%|██████████| 10/10 [00:02<00:00,  4.89it/s]\n",
      "100%|██████████| 50/50 [00:13<00:00,  3.66it/s]\n",
      "100%|██████████| 10/10 [00:02<00:00,  3.65it/s]\n"
     ]
    },
    {
     "name": "stdout",
     "output_type": "stream",
     "text": [
      "Done...\n"
     ]
    },
    {
     "name": "stderr",
     "output_type": "stream",
     "text": [
      "\r",
      "  0%|          | 0/50 [00:00<?, ?it/s]"
     ]
    },
    {
     "name": "stdout",
     "output_type": "stream",
     "text": [
      "Pocessing ../../gnosis_checkpoints/pavel_baseline_distillation_soft_only_300epochs/synth_aug_0.0_cifar100_ts_soft_cross_ent_v0.0.10/preresnet20_5-preresnet20_1/trial_3/2021-01-24_10-59-18\n",
      "Trial: 3\n",
      "Student:\n",
      "\tDepth: 20\n",
      "Teacher:\n",
      "\tDepth: 20\n",
      "\tNumber of components: 5\n"
     ]
    },
    {
     "name": "stderr",
     "output_type": "stream",
     "text": [
      "100%|██████████| 50/50 [00:10<00:00,  4.92it/s]\n",
      "100%|██████████| 10/10 [00:02<00:00,  4.96it/s]\n",
      "100%|██████████| 50/50 [00:13<00:00,  3.69it/s]\n",
      "100%|██████████| 10/10 [00:02<00:00,  3.66it/s]\n"
     ]
    },
    {
     "name": "stdout",
     "output_type": "stream",
     "text": [
      "Done...\n"
     ]
    },
    {
     "name": "stderr",
     "output_type": "stream",
     "text": [
      "\r",
      "  0%|          | 0/50 [00:00<?, ?it/s]"
     ]
    },
    {
     "name": "stdout",
     "output_type": "stream",
     "text": [
      "Pocessing ../../gnosis_checkpoints/pavel_baseline_distillation_soft_only_300epochs/synth_aug_0.0_cifar100_ts_soft_cross_ent_v0.0.10/preresnet20_5-preresnet20_1/trial_2/2021-01-24_10-59-18\n",
      "Trial: 2\n",
      "Student:\n",
      "\tDepth: 20\n",
      "Teacher:\n",
      "\tDepth: 20\n",
      "\tNumber of components: 5\n"
     ]
    },
    {
     "name": "stderr",
     "output_type": "stream",
     "text": [
      "100%|██████████| 50/50 [00:10<00:00,  4.92it/s]\n",
      "100%|██████████| 10/10 [00:02<00:00,  4.88it/s]\n",
      "100%|██████████| 50/50 [00:13<00:00,  3.62it/s]\n",
      "100%|██████████| 10/10 [00:02<00:00,  3.58it/s]\n"
     ]
    },
    {
     "name": "stdout",
     "output_type": "stream",
     "text": [
      "Done...\n",
      "Pocessing ../../gnosis_checkpoints/pavel_baseline_distillation_soft_only_300epochs/synth_aug_0.0_cifar100_ts_soft_cross_ent_v0.0.10/preresnet110_3-preresnet110_1/trial_1/2021-01-24_10-59-18\n",
      "Trial: 1\n",
      "Student:\n",
      "\tDepth: 110\n",
      "Teacher:\n",
      "\tDepth: 110\n",
      "\tNumber of components: 3\n"
     ]
    },
    {
     "name": "stderr",
     "output_type": "stream",
     "text": [
      "100%|██████████| 50/50 [00:24<00:00,  2.01it/s]\n",
      "100%|██████████| 10/10 [00:04<00:00,  2.01it/s]\n",
      "100%|██████████| 50/50 [00:28<00:00,  1.75it/s]\n",
      "100%|██████████| 10/10 [00:05<00:00,  1.76it/s]\n"
     ]
    },
    {
     "name": "stdout",
     "output_type": "stream",
     "text": [
      "Done...\n",
      "Pocessing ../../gnosis_checkpoints/pavel_baseline_distillation_soft_only_300epochs/synth_aug_0.0_cifar100_ts_soft_cross_ent_v0.0.10/preresnet110_3-preresnet110_1/trial_2/2021-01-24_10-59-18\n",
      "Trial: 2\n",
      "Student:\n",
      "\tDepth: 110\n",
      "Teacher:\n",
      "\tDepth: 110\n",
      "\tNumber of components: 3\n"
     ]
    },
    {
     "name": "stderr",
     "output_type": "stream",
     "text": [
      "100%|██████████| 50/50 [00:24<00:00,  2.00it/s]\n",
      "100%|██████████| 10/10 [00:05<00:00,  1.98it/s]\n",
      "100%|██████████| 50/50 [00:27<00:00,  1.79it/s]\n",
      "100%|██████████| 10/10 [00:05<00:00,  1.80it/s]\n"
     ]
    },
    {
     "name": "stdout",
     "output_type": "stream",
     "text": [
      "Done...\n",
      "Pocessing ../../gnosis_checkpoints/pavel_baseline_distillation_soft_only_300epochs/synth_aug_0.0_cifar100_ts_soft_cross_ent_v0.0.10/preresnet110_1-preresnet110_1/trial_1/2021-01-24_10-59-18\n",
      "Trial: 1\n",
      "Student:\n",
      "\tDepth: 110\n",
      "Teacher:\n",
      "\tDepth: 110\n",
      "\tNumber of components: 1\n"
     ]
    },
    {
     "name": "stderr",
     "output_type": "stream",
     "text": [
      "100%|██████████| 50/50 [00:11<00:00,  4.19it/s]\n",
      "100%|██████████| 10/10 [00:02<00:00,  4.20it/s]\n",
      "100%|██████████| 50/50 [00:15<00:00,  3.22it/s]\n",
      "100%|██████████| 10/10 [00:03<00:00,  3.22it/s]\n"
     ]
    },
    {
     "name": "stdout",
     "output_type": "stream",
     "text": [
      "Done...\n",
      "Pocessing ../../gnosis_checkpoints/pavel_baseline_distillation_soft_only_300epochs/synth_aug_0.0_cifar100_ts_soft_cross_ent_v0.0.10/preresnet110_1-preresnet110_1/trial_3/2021-01-24_10-59-18\n",
      "Trial: 3\n",
      "Student:\n",
      "\tDepth: 110\n",
      "Teacher:\n",
      "\tDepth: 110\n",
      "\tNumber of components: 1\n"
     ]
    },
    {
     "name": "stderr",
     "output_type": "stream",
     "text": [
      "100%|██████████| 50/50 [00:12<00:00,  4.14it/s]\n",
      "100%|██████████| 10/10 [00:02<00:00,  4.07it/s]\n",
      "100%|██████████| 50/50 [00:15<00:00,  3.18it/s]\n",
      "100%|██████████| 10/10 [00:03<00:00,  3.13it/s]\n"
     ]
    },
    {
     "name": "stdout",
     "output_type": "stream",
     "text": [
      "Done...\n",
      "Pocessing ../../gnosis_checkpoints/pavel_baseline_distillation_soft_only_300epochs/synth_aug_0.0_cifar100_ts_soft_cross_ent_v0.0.10/preresnet110_1-preresnet110_1/trial_2/2021-01-24_10-59-18\n",
      "Trial: 2\n",
      "Student:\n",
      "\tDepth: 110\n"
     ]
    },
    {
     "name": "stderr",
     "output_type": "stream",
     "text": [
      "\r",
      "  0%|          | 0/50 [00:00<?, ?it/s]"
     ]
    },
    {
     "name": "stdout",
     "output_type": "stream",
     "text": [
      "Teacher:\n",
      "\tDepth: 110\n",
      "\tNumber of components: 1\n"
     ]
    },
    {
     "name": "stderr",
     "output_type": "stream",
     "text": [
      "100%|██████████| 50/50 [00:12<00:00,  4.13it/s]\n",
      "100%|██████████| 10/10 [00:02<00:00,  4.18it/s]\n",
      "100%|██████████| 50/50 [00:15<00:00,  3.23it/s]\n",
      "100%|██████████| 10/10 [00:03<00:00,  3.21it/s]\n",
      "  0%|          | 0/50 [00:00<?, ?it/s]"
     ]
    },
    {
     "name": "stdout",
     "output_type": "stream",
     "text": [
      "Done...\n",
      "Pocessing ../../gnosis_checkpoints/pavel_baseline_distillation_soft_only_300epochs/synth_aug_0.0_cifar100_ts_soft_cross_ent_v0.0.10/preresnet56_1-preresnet56_1/trial_1/2021-01-24_10-59-18\n",
      "Trial: 1\n",
      "Student:\n",
      "\tDepth: 56\n",
      "Teacher:\n",
      "\tDepth: 56\n",
      "\tNumber of components: 1\n"
     ]
    },
    {
     "name": "stderr",
     "output_type": "stream",
     "text": [
      "100%|██████████| 50/50 [00:09<00:00,  5.50it/s]\n",
      "100%|██████████| 10/10 [00:01<00:00,  5.55it/s]\n",
      "100%|██████████| 50/50 [00:12<00:00,  3.93it/s]\n",
      "100%|██████████| 10/10 [00:02<00:00,  3.90it/s]\n",
      "  0%|          | 0/50 [00:00<?, ?it/s]"
     ]
    },
    {
     "name": "stdout",
     "output_type": "stream",
     "text": [
      "Done...\n",
      "Pocessing ../../gnosis_checkpoints/pavel_baseline_distillation_soft_only_300epochs/synth_aug_0.0_cifar100_ts_soft_cross_ent_v0.0.10/preresnet56_1-preresnet56_1/trial_3/2021-01-24_10-59-18\n",
      "Trial: 3\n",
      "Student:\n",
      "\tDepth: 56\n",
      "Teacher:\n",
      "\tDepth: 56\n",
      "\tNumber of components: 1\n"
     ]
    },
    {
     "name": "stderr",
     "output_type": "stream",
     "text": [
      "100%|██████████| 50/50 [00:09<00:00,  5.48it/s]\n",
      "100%|██████████| 10/10 [00:01<00:00,  5.31it/s]\n",
      "100%|██████████| 50/50 [00:12<00:00,  3.92it/s]\n",
      "100%|██████████| 10/10 [00:02<00:00,  3.89it/s]\n",
      "  0%|          | 0/50 [00:00<?, ?it/s]"
     ]
    },
    {
     "name": "stdout",
     "output_type": "stream",
     "text": [
      "Done...\n",
      "Pocessing ../../gnosis_checkpoints/pavel_baseline_distillation_soft_only_300epochs/synth_aug_0.0_cifar100_ts_soft_cross_ent_v0.0.10/preresnet56_1-preresnet56_1/trial_2/2021-01-24_10-59-18\n",
      "Trial: 2\n",
      "Student:\n",
      "\tDepth: 56\n",
      "Teacher:\n",
      "\tDepth: 56\n",
      "\tNumber of components: 1\n"
     ]
    },
    {
     "name": "stderr",
     "output_type": "stream",
     "text": [
      "100%|██████████| 50/50 [00:09<00:00,  5.52it/s]\n",
      "100%|██████████| 10/10 [00:01<00:00,  5.52it/s]\n",
      "100%|██████████| 50/50 [00:12<00:00,  3.93it/s]\n",
      "100%|██████████| 10/10 [00:02<00:00,  3.93it/s]\n"
     ]
    },
    {
     "name": "stdout",
     "output_type": "stream",
     "text": [
      "Done...\n",
      "Pocessing ../../gnosis_checkpoints/pavel_baseline_distillation_soft_only_300epochs/synth_aug_0.0_cifar100_ts_soft_cross_ent_v0.0.10/preresnet56_5-preresnet56_1/trial_1/2021-01-24_10-59-18\n",
      "Trial: 1\n",
      "Student:\n",
      "\tDepth: 56\n",
      "Teacher:\n",
      "\tDepth: 56\n",
      "\tNumber of components: 5\n"
     ]
    },
    {
     "name": "stderr",
     "output_type": "stream",
     "text": [
      "100%|██████████| 50/50 [00:21<00:00,  2.31it/s]\n",
      "100%|██████████| 10/10 [00:04<00:00,  2.29it/s]\n",
      "100%|██████████| 50/50 [00:25<00:00,  1.97it/s]\n",
      "100%|██████████| 10/10 [00:05<00:00,  1.98it/s]\n"
     ]
    },
    {
     "name": "stdout",
     "output_type": "stream",
     "text": [
      "Done...\n",
      "Pocessing ../../gnosis_checkpoints/pavel_baseline_distillation_soft_only_300epochs/synth_aug_0.0_cifar100_ts_soft_cross_ent_v0.0.10/preresnet56_5-preresnet56_1/trial_3/2021-01-24_10-59-18\n",
      "Trial: 3\n",
      "Student:\n",
      "\tDepth: 56\n",
      "Teacher:\n",
      "\tDepth: 56\n",
      "\tNumber of components: 5\n"
     ]
    },
    {
     "name": "stderr",
     "output_type": "stream",
     "text": [
      "100%|██████████| 50/50 [00:21<00:00,  2.29it/s]\n",
      "100%|██████████| 10/10 [00:04<00:00,  2.29it/s]\n",
      "100%|██████████| 50/50 [00:25<00:00,  1.97it/s]\n",
      "100%|██████████| 10/10 [00:05<00:00,  1.96it/s]\n"
     ]
    },
    {
     "name": "stdout",
     "output_type": "stream",
     "text": [
      "Done...\n",
      "Pocessing ../../gnosis_checkpoints/pavel_baseline_distillation_soft_only_300epochs/synth_aug_0.0_cifar100_ts_soft_cross_ent_v0.0.10/preresnet56_5-preresnet56_1/trial_2/2021-01-24_10-59-18\n",
      "Trial: 2\n",
      "Student:\n",
      "\tDepth: 56\n",
      "Teacher:\n",
      "\tDepth: 56\n",
      "\tNumber of components: 5\n"
     ]
    },
    {
     "name": "stderr",
     "output_type": "stream",
     "text": [
      "100%|██████████| 50/50 [00:21<00:00,  2.29it/s]\n",
      "100%|██████████| 10/10 [00:04<00:00,  2.30it/s]\n",
      "100%|██████████| 50/50 [00:25<00:00,  1.97it/s]\n",
      "100%|██████████| 10/10 [00:05<00:00,  1.98it/s]\n"
     ]
    },
    {
     "name": "stdout",
     "output_type": "stream",
     "text": [
      "Done...\n",
      "Pocessing ../../gnosis_checkpoints/pavel_baseline_distillation_soft_only_300epochs/synth_aug_0.0_cifar100_ts_soft_cross_ent_v0.0.10/preresnet110_5-preresnet110_1/trial_1/2021-01-24_10-59-18\n",
      "Trial: 1\n",
      "Student:\n",
      "\tDepth: 110\n",
      "Teacher:\n",
      "\tDepth: 110\n",
      "\tNumber of components: 5\n"
     ]
    },
    {
     "name": "stderr",
     "output_type": "stream",
     "text": [
      "100%|██████████| 50/50 [00:36<00:00,  1.36it/s]\n",
      "100%|██████████| 10/10 [00:07<00:00,  1.35it/s]\n",
      "100%|██████████| 50/50 [00:40<00:00,  1.24it/s]\n",
      "100%|██████████| 10/10 [00:08<00:00,  1.25it/s]\n"
     ]
    },
    {
     "name": "stdout",
     "output_type": "stream",
     "text": [
      "Done...\n",
      "Pocessing ../../gnosis_checkpoints/pavel_baseline_distillation_soft_only_300epochs/synth_aug_0.0_cifar100_ts_soft_cross_ent_v0.0.10/preresnet110_5-preresnet110_1/trial_2/2021-01-24_10-59-18\n",
      "Trial: 2\n",
      "Student:\n",
      "\tDepth: 110\n",
      "Teacher:\n",
      "\tDepth: 110\n",
      "\tNumber of components: 5\n"
     ]
    },
    {
     "name": "stderr",
     "output_type": "stream",
     "text": [
      "100%|██████████| 50/50 [00:36<00:00,  1.37it/s]\n",
      "100%|██████████| 10/10 [00:07<00:00,  1.37it/s]\n",
      "100%|██████████| 50/50 [00:40<00:00,  1.24it/s]\n",
      "100%|██████████| 10/10 [00:08<00:00,  1.25it/s]\n"
     ]
    },
    {
     "name": "stdout",
     "output_type": "stream",
     "text": [
      "Done...\n"
     ]
    },
    {
     "name": "stderr",
     "output_type": "stream",
     "text": [
      "  2%|▏         | 1/50 [00:00<00:07,  6.93it/s]"
     ]
    },
    {
     "name": "stdout",
     "output_type": "stream",
     "text": [
      "Pocessing ../../gnosis_checkpoints/pavel_baseline_distillation_soft_only_300epochs/synth_aug_0.0_cifar100_ts_soft_cross_ent_v0.0.10/preresnet20_1-preresnet20_1/trial_1/2021-01-24_10-59-18\n",
      "Trial: 1\n",
      "Student:\n",
      "\tDepth: 20\n",
      "Teacher:\n",
      "\tDepth: 20\n",
      "\tNumber of components: 1\n"
     ]
    },
    {
     "name": "stderr",
     "output_type": "stream",
     "text": [
      "100%|██████████| 50/50 [00:07<00:00,  7.13it/s]\n",
      "100%|██████████| 10/10 [00:01<00:00,  7.19it/s]\n",
      "100%|██████████| 50/50 [00:10<00:00,  4.68it/s]\n",
      "100%|██████████| 10/10 [00:02<00:00,  4.75it/s]\n",
      "  0%|          | 0/50 [00:00<?, ?it/s]"
     ]
    },
    {
     "name": "stdout",
     "output_type": "stream",
     "text": [
      "Done...\n",
      "Pocessing ../../gnosis_checkpoints/pavel_baseline_distillation_soft_only_300epochs/synth_aug_0.0_cifar100_ts_soft_cross_ent_v0.0.10/preresnet20_1-preresnet20_1/trial_3/2021-01-24_10-59-18\n",
      "Trial: 3\n",
      "Student:\n",
      "\tDepth: 20\n",
      "Teacher:\n",
      "\tDepth: 20\n",
      "\tNumber of components: 1\n"
     ]
    },
    {
     "name": "stderr",
     "output_type": "stream",
     "text": [
      "100%|██████████| 50/50 [00:06<00:00,  7.20it/s]\n",
      "100%|██████████| 10/10 [00:01<00:00,  7.24it/s]\n",
      "100%|██████████| 50/50 [00:10<00:00,  4.80it/s]\n",
      "100%|██████████| 10/10 [00:02<00:00,  4.80it/s]\n",
      "  0%|          | 0/50 [00:00<?, ?it/s]"
     ]
    },
    {
     "name": "stdout",
     "output_type": "stream",
     "text": [
      "Done...\n",
      "Pocessing ../../gnosis_checkpoints/pavel_baseline_distillation_soft_only_300epochs/synth_aug_0.0_cifar100_ts_soft_cross_ent_v0.0.10/preresnet20_1-preresnet20_1/trial_2/2021-01-24_10-59-18\n",
      "Trial: 2\n",
      "Student:\n",
      "\tDepth: 20\n",
      "Teacher:\n",
      "\tDepth: 20\n",
      "\tNumber of components: 1\n"
     ]
    },
    {
     "name": "stderr",
     "output_type": "stream",
     "text": [
      "100%|██████████| 50/50 [00:06<00:00,  7.32it/s]\n",
      "100%|██████████| 10/10 [00:01<00:00,  6.93it/s]\n",
      "100%|██████████| 50/50 [00:10<00:00,  4.81it/s]\n",
      "100%|██████████| 10/10 [00:02<00:00,  4.81it/s]\n",
      "  0%|          | 0/50 [00:00<?, ?it/s]"
     ]
    },
    {
     "name": "stdout",
     "output_type": "stream",
     "text": [
      "Done...\n",
      "Pocessing ../../gnosis_checkpoints/pavel_baseline_distillation_soft_only_300epochs/synth_aug_0.0_cifar100_ts_soft_cross_ent_v0.0.10/preresnet20_3-preresnet20_1/trial_1/2021-01-24_10-59-18\n",
      "Trial: 1\n",
      "Student:\n",
      "\tDepth: 20\n",
      "Teacher:\n",
      "\tDepth: 20\n",
      "\tNumber of components: 3\n"
     ]
    },
    {
     "name": "stderr",
     "output_type": "stream",
     "text": [
      "100%|██████████| 50/50 [00:08<00:00,  5.89it/s]\n",
      "100%|██████████| 10/10 [00:01<00:00,  5.78it/s]\n",
      "100%|██████████| 50/50 [00:12<00:00,  4.06it/s]\n",
      "100%|██████████| 10/10 [00:02<00:00,  4.10it/s]\n"
     ]
    },
    {
     "name": "stdout",
     "output_type": "stream",
     "text": [
      "Done...\n"
     ]
    },
    {
     "name": "stderr",
     "output_type": "stream",
     "text": [
      "\r",
      "  0%|          | 0/50 [00:00<?, ?it/s]"
     ]
    },
    {
     "name": "stdout",
     "output_type": "stream",
     "text": [
      "Pocessing ../../gnosis_checkpoints/pavel_baseline_distillation_soft_only_300epochs/synth_aug_0.0_cifar100_ts_soft_cross_ent_v0.0.10/preresnet20_3-preresnet20_1/trial_3/2021-01-24_10-59-18\n",
      "Trial: 3\n",
      "Student:\n",
      "\tDepth: 20\n",
      "Teacher:\n",
      "\tDepth: 20\n",
      "\tNumber of components: 3\n"
     ]
    },
    {
     "name": "stderr",
     "output_type": "stream",
     "text": [
      "100%|██████████| 50/50 [00:08<00:00,  5.90it/s]\n",
      "100%|██████████| 10/10 [00:01<00:00,  5.90it/s]\n",
      "100%|██████████| 50/50 [00:12<00:00,  4.14it/s]\n",
      "100%|██████████| 10/10 [00:02<00:00,  4.18it/s]\n"
     ]
    },
    {
     "name": "stdout",
     "output_type": "stream",
     "text": [
      "Done...\n"
     ]
    },
    {
     "name": "stderr",
     "output_type": "stream",
     "text": [
      "\r",
      "  0%|          | 0/50 [00:00<?, ?it/s]"
     ]
    },
    {
     "name": "stdout",
     "output_type": "stream",
     "text": [
      "Pocessing ../../gnosis_checkpoints/pavel_baseline_distillation_soft_only_300epochs/synth_aug_0.0_cifar100_ts_soft_cross_ent_v0.0.10/preresnet20_3-preresnet20_1/trial_2/2021-01-24_10-59-18\n",
      "Trial: 2\n",
      "Student:\n",
      "\tDepth: 20\n",
      "Teacher:\n",
      "\tDepth: 20\n",
      "\tNumber of components: 3\n"
     ]
    },
    {
     "name": "stderr",
     "output_type": "stream",
     "text": [
      "100%|██████████| 50/50 [00:08<00:00,  6.03it/s]\n",
      "100%|██████████| 10/10 [00:01<00:00,  6.05it/s]\n",
      "100%|██████████| 50/50 [00:11<00:00,  4.18it/s]\n",
      "100%|██████████| 10/10 [00:02<00:00,  4.20it/s]\n"
     ]
    },
    {
     "name": "stdout",
     "output_type": "stream",
     "text": [
      "Done...\n"
     ]
    }
   ],
   "source": [
    "base_dir = \"../../gnosis_checkpoints/pavel_baseline_distillation_soft_only_300epochs/synth_aug_0.0_cifar100_ts_soft_cross_ent_v0.0.10/\"\n",
    "process_all_subdirectories(base_dir, process_leaf_directory_fn)"
   ]
  },
  {
   "cell_type": "markdown",
   "id": "concrete-folder",
   "metadata": {},
   "source": [
    "## Architecture Cross-Over"
   ]
  },
  {
   "cell_type": "code",
   "execution_count": 149,
   "id": "liberal-government",
   "metadata": {},
   "outputs": [
    {
     "name": "stdout",
     "output_type": "stream",
     "text": [
      "Files already downloaded and verified\n",
      "Files already downloaded and verified\n"
     ]
    }
   ],
   "source": [
    "baseline_train_loader, baseline_test_loader = make_cifar100(\n",
    "    [torchvision.transforms.RandomCrop(32, 4), \n",
    "     torchvision.transforms.RandomHorizontalFlip()], [])\n",
    "\n",
    "process_leaf_directory_fn = make_student_process_leaf_directory(\n",
    "    clean_train_loader, clean_test_loader, baseline_train_loader, baseline_test_loader, recompute_existing=True)"
   ]
  },
  {
   "cell_type": "code",
   "execution_count": 150,
   "id": "every-discretion",
   "metadata": {},
   "outputs": [
    {
     "name": "stdout",
     "output_type": "stream",
     "text": [
      "Pocessing ../../gnosis_checkpoints/architecture_crossover_300epochs/synth_aug_0.0_cifar100_ts_soft_cross_ent_alpha_0.0_v0.0.10/preresnet110_3-preresnet56_1/trial_1/2021-01-24_18-15-54\n",
      "Trial: 1\n",
      "Student:\n",
      "\tDepth: 56\n",
      "Teacher:\n",
      "\tDepth: 110\n",
      "\tNumber of components: 3\n"
     ]
    },
    {
     "name": "stderr",
     "output_type": "stream",
     "text": [
      "100%|██████████| 50/50 [00:09<00:00,  5.44it/s]\n",
      "100%|██████████| 10/10 [00:01<00:00,  5.51it/s]\n",
      "100%|██████████| 50/50 [00:12<00:00,  3.94it/s]\n",
      "100%|██████████| 10/10 [00:02<00:00,  3.95it/s]\n"
     ]
    },
    {
     "name": "stdout",
     "output_type": "stream",
     "text": [
      "Done...\n",
      "Pocessing ../../gnosis_checkpoints/architecture_crossover_300epochs/synth_aug_0.0_cifar100_ts_soft_cross_ent_alpha_0.0_v0.0.10/preresnet110_3-preresnet56_1/trial_3/2021-01-24_18-15-54\n",
      "Trial: 3\n",
      "Student:\n",
      "\tDepth: 56\n",
      "Teacher:\n",
      "\tDepth: 110\n",
      "\tNumber of components: 3\n"
     ]
    },
    {
     "name": "stderr",
     "output_type": "stream",
     "text": [
      "100%|██████████| 50/50 [00:09<00:00,  5.27it/s]\n",
      "100%|██████████| 10/10 [00:01<00:00,  5.47it/s]\n",
      "100%|██████████| 50/50 [00:12<00:00,  3.89it/s]\n",
      "100%|██████████| 10/10 [00:02<00:00,  3.94it/s]\n"
     ]
    },
    {
     "name": "stdout",
     "output_type": "stream",
     "text": [
      "Done...\n",
      "Pocessing ../../gnosis_checkpoints/architecture_crossover_300epochs/synth_aug_0.0_cifar100_ts_soft_cross_ent_alpha_0.0_v0.0.10/preresnet110_3-preresnet56_1/trial_2/2021-01-24_18-15-54\n",
      "Trial: 2\n",
      "Student:\n",
      "\tDepth: 56\n",
      "Teacher:\n",
      "\tDepth: 110\n",
      "\tNumber of components: 3\n"
     ]
    },
    {
     "name": "stderr",
     "output_type": "stream",
     "text": [
      "100%|██████████| 50/50 [00:09<00:00,  5.50it/s]\n",
      "100%|██████████| 10/10 [00:01<00:00,  5.28it/s]\n",
      "100%|██████████| 50/50 [00:13<00:00,  3.83it/s]\n",
      "100%|██████████| 10/10 [00:02<00:00,  3.89it/s]\n",
      "  0%|          | 0/50 [00:00<?, ?it/s]"
     ]
    },
    {
     "name": "stdout",
     "output_type": "stream",
     "text": [
      "Done...\n",
      "Pocessing ../../gnosis_checkpoints/architecture_crossover_300epochs/synth_aug_0.0_cifar100_ts_soft_cross_ent_alpha_0.0_v0.0.10/preresnet20_3-preresnet56_1/trial_1/2021-01-24_18-15-54\n",
      "Trial: 1\n",
      "Student:\n",
      "\tDepth: 56\n",
      "Teacher:\n",
      "\tDepth: 20\n",
      "\tNumber of components: 3\n"
     ]
    },
    {
     "name": "stderr",
     "output_type": "stream",
     "text": [
      "100%|██████████| 50/50 [00:09<00:00,  5.26it/s]\n",
      "100%|██████████| 10/10 [00:01<00:00,  5.33it/s]\n",
      "100%|██████████| 50/50 [00:13<00:00,  3.67it/s]\n",
      "100%|██████████| 10/10 [00:02<00:00,  3.85it/s]\n",
      "  0%|          | 0/50 [00:00<?, ?it/s]"
     ]
    },
    {
     "name": "stdout",
     "output_type": "stream",
     "text": [
      "Done...\n",
      "Pocessing ../../gnosis_checkpoints/architecture_crossover_300epochs/synth_aug_0.0_cifar100_ts_soft_cross_ent_alpha_0.0_v0.0.10/preresnet20_3-preresnet56_1/trial_3/2021-01-24_18-15-54\n",
      "Trial: 3\n",
      "Student:\n",
      "\tDepth: 56\n",
      "Teacher:\n",
      "\tDepth: 20\n",
      "\tNumber of components: 3\n"
     ]
    },
    {
     "name": "stderr",
     "output_type": "stream",
     "text": [
      "100%|██████████| 50/50 [00:09<00:00,  5.39it/s]\n",
      "100%|██████████| 10/10 [00:01<00:00,  5.47it/s]\n",
      "100%|██████████| 50/50 [00:12<00:00,  3.96it/s]\n",
      "100%|██████████| 10/10 [00:02<00:00,  3.93it/s]\n",
      "  0%|          | 0/50 [00:00<?, ?it/s]"
     ]
    },
    {
     "name": "stdout",
     "output_type": "stream",
     "text": [
      "Done...\n",
      "Pocessing ../../gnosis_checkpoints/architecture_crossover_300epochs/synth_aug_0.0_cifar100_ts_soft_cross_ent_alpha_0.0_v0.0.10/preresnet20_3-preresnet56_1/trial_2/2021-01-24_18-15-54\n",
      "Trial: 2\n",
      "Student:\n",
      "\tDepth: 56\n",
      "Teacher:\n",
      "\tDepth: 20\n",
      "\tNumber of components: 3\n"
     ]
    },
    {
     "name": "stderr",
     "output_type": "stream",
     "text": [
      "100%|██████████| 50/50 [00:09<00:00,  5.53it/s]\n",
      "100%|██████████| 10/10 [00:01<00:00,  5.45it/s]\n",
      "100%|██████████| 50/50 [00:12<00:00,  3.91it/s]\n",
      "100%|██████████| 10/10 [00:02<00:00,  3.92it/s]\n"
     ]
    },
    {
     "name": "stdout",
     "output_type": "stream",
     "text": [
      "Done...\n",
      "Pocessing ../../gnosis_checkpoints/architecture_crossover_300epochs/synth_aug_0.0_cifar100_ts_soft_cross_ent_alpha_0.0_v0.0.10/preresnet110_5-preresnet56_1/trial_1/2021-01-24_18-15-54\n",
      "Trial: 1\n",
      "Student:\n",
      "\tDepth: 56\n",
      "Teacher:\n",
      "\tDepth: 110\n",
      "\tNumber of components: 5\n"
     ]
    },
    {
     "name": "stderr",
     "output_type": "stream",
     "text": [
      "100%|██████████| 50/50 [00:09<00:00,  5.54it/s]\n",
      "100%|██████████| 10/10 [00:01<00:00,  5.54it/s]\n",
      "100%|██████████| 50/50 [00:12<00:00,  3.94it/s]\n",
      "100%|██████████| 10/10 [00:02<00:00,  3.97it/s]\n"
     ]
    },
    {
     "name": "stdout",
     "output_type": "stream",
     "text": [
      "Done...\n",
      "Pocessing ../../gnosis_checkpoints/architecture_crossover_300epochs/synth_aug_0.0_cifar100_ts_soft_cross_ent_alpha_0.0_v0.0.10/preresnet110_5-preresnet56_1/trial_3/2021-01-24_18-15-54\n",
      "Trial: 3\n",
      "Student:\n",
      "\tDepth: 56\n",
      "Teacher:\n",
      "\tDepth: 110\n",
      "\tNumber of components: 5\n"
     ]
    },
    {
     "name": "stderr",
     "output_type": "stream",
     "text": [
      "100%|██████████| 50/50 [00:09<00:00,  5.31it/s]\n",
      "100%|██████████| 10/10 [00:01<00:00,  5.37it/s]\n",
      "100%|██████████| 50/50 [00:12<00:00,  3.89it/s]\n",
      "100%|██████████| 10/10 [00:02<00:00,  3.88it/s]\n"
     ]
    },
    {
     "name": "stdout",
     "output_type": "stream",
     "text": [
      "Done...\n",
      "Pocessing ../../gnosis_checkpoints/architecture_crossover_300epochs/synth_aug_0.0_cifar100_ts_soft_cross_ent_alpha_0.0_v0.0.10/preresnet110_5-preresnet56_1/trial_2/2021-01-24_18-15-54\n",
      "Trial: 2\n",
      "Student:\n",
      "\tDepth: 56\n",
      "Teacher:\n",
      "\tDepth: 110\n",
      "\tNumber of components: 5\n"
     ]
    },
    {
     "name": "stderr",
     "output_type": "stream",
     "text": [
      "100%|██████████| 50/50 [00:09<00:00,  5.36it/s]\n",
      "100%|██████████| 10/10 [00:01<00:00,  5.21it/s]\n",
      "100%|██████████| 50/50 [00:12<00:00,  3.92it/s]\n",
      "100%|██████████| 10/10 [00:02<00:00,  3.96it/s]\n"
     ]
    },
    {
     "name": "stdout",
     "output_type": "stream",
     "text": [
      "Done...\n",
      "Pocessing ../../gnosis_checkpoints/architecture_crossover_300epochs/synth_aug_0.0_cifar100_ts_soft_cross_ent_alpha_0.0_v0.0.10/preresnet20_5-preresnet56_1/trial_1/2021-01-24_18-15-54\n",
      "Trial: 1\n",
      "Student:\n",
      "\tDepth: 56\n",
      "Teacher:\n",
      "\tDepth: 20\n",
      "\tNumber of components: 5\n"
     ]
    },
    {
     "name": "stderr",
     "output_type": "stream",
     "text": [
      "100%|██████████| 50/50 [00:09<00:00,  5.46it/s]\n",
      "100%|██████████| 10/10 [00:01<00:00,  5.49it/s]\n",
      "100%|██████████| 50/50 [00:12<00:00,  3.96it/s]\n",
      "100%|██████████| 10/10 [00:02<00:00,  3.95it/s]\n"
     ]
    },
    {
     "name": "stdout",
     "output_type": "stream",
     "text": [
      "Done...\n",
      "Pocessing ../../gnosis_checkpoints/architecture_crossover_300epochs/synth_aug_0.0_cifar100_ts_soft_cross_ent_alpha_0.0_v0.0.10/preresnet20_5-preresnet56_1/trial_3/2021-01-24_18-15-54\n",
      "Trial: 3\n",
      "Student:\n",
      "\tDepth: 56\n",
      "Teacher:\n",
      "\tDepth: 20\n",
      "\tNumber of components: 5\n"
     ]
    },
    {
     "name": "stderr",
     "output_type": "stream",
     "text": [
      "100%|██████████| 50/50 [00:09<00:00,  5.53it/s]\n",
      "100%|██████████| 10/10 [00:01<00:00,  5.54it/s]\n",
      "100%|██████████| 50/50 [00:12<00:00,  3.94it/s]\n",
      "100%|██████████| 10/10 [00:02<00:00,  3.92it/s]\n"
     ]
    },
    {
     "name": "stdout",
     "output_type": "stream",
     "text": [
      "Done...\n",
      "Pocessing ../../gnosis_checkpoints/architecture_crossover_300epochs/synth_aug_0.0_cifar100_ts_soft_cross_ent_alpha_0.0_v0.0.10/preresnet20_5-preresnet56_1/trial_2/2021-01-24_18-15-54\n",
      "Trial: 2\n",
      "Student:\n",
      "\tDepth: 56\n",
      "Teacher:\n",
      "\tDepth: 20\n",
      "\tNumber of components: 5\n"
     ]
    },
    {
     "name": "stderr",
     "output_type": "stream",
     "text": [
      "100%|██████████| 50/50 [00:09<00:00,  5.49it/s]\n",
      "100%|██████████| 10/10 [00:01<00:00,  5.50it/s]\n",
      "100%|██████████| 50/50 [00:12<00:00,  3.93it/s]\n",
      "100%|██████████| 10/10 [00:02<00:00,  3.92it/s]\n"
     ]
    },
    {
     "name": "stdout",
     "output_type": "stream",
     "text": [
      "Done...\n",
      "Pocessing ../../gnosis_checkpoints/architecture_crossover_300epochs/synth_aug_0.0_cifar100_ts_soft_cross_ent_alpha_0.0_v0.0.10/preresnet110_1-preresnet56_1/trial_1/2021-01-24_18-15-54\n",
      "Trial: 1\n",
      "Student:\n",
      "\tDepth: 56\n",
      "Teacher:\n",
      "\tDepth: 110\n",
      "\tNumber of components: 1\n"
     ]
    },
    {
     "name": "stderr",
     "output_type": "stream",
     "text": [
      "100%|██████████| 50/50 [00:09<00:00,  5.46it/s]\n",
      "100%|██████████| 10/10 [00:01<00:00,  5.23it/s]\n",
      "100%|██████████| 50/50 [00:12<00:00,  3.85it/s]\n",
      "100%|██████████| 10/10 [00:02<00:00,  3.96it/s]\n"
     ]
    },
    {
     "name": "stdout",
     "output_type": "stream",
     "text": [
      "Done...\n",
      "Pocessing ../../gnosis_checkpoints/architecture_crossover_300epochs/synth_aug_0.0_cifar100_ts_soft_cross_ent_alpha_0.0_v0.0.10/preresnet110_1-preresnet56_1/trial_3/2021-01-24_18-15-54\n",
      "Trial: 3\n",
      "Student:\n",
      "\tDepth: 56\n",
      "Teacher:\n",
      "\tDepth: 110\n",
      "\tNumber of components: 1\n"
     ]
    },
    {
     "name": "stderr",
     "output_type": "stream",
     "text": [
      "100%|██████████| 50/50 [00:09<00:00,  5.46it/s]\n",
      "100%|██████████| 10/10 [00:01<00:00,  5.49it/s]\n",
      "100%|██████████| 50/50 [00:12<00:00,  3.92it/s]\n",
      "100%|██████████| 10/10 [00:02<00:00,  3.95it/s]\n"
     ]
    },
    {
     "name": "stdout",
     "output_type": "stream",
     "text": [
      "Done...\n",
      "Pocessing ../../gnosis_checkpoints/architecture_crossover_300epochs/synth_aug_0.0_cifar100_ts_soft_cross_ent_alpha_0.0_v0.0.10/preresnet110_1-preresnet56_1/trial_2/2021-01-24_18-15-54\n",
      "Trial: 2\n",
      "Student:\n",
      "\tDepth: 56\n",
      "Teacher:\n",
      "\tDepth: 110\n",
      "\tNumber of components: 1\n"
     ]
    },
    {
     "name": "stderr",
     "output_type": "stream",
     "text": [
      "100%|██████████| 50/50 [00:09<00:00,  5.50it/s]\n",
      "100%|██████████| 10/10 [00:01<00:00,  5.51it/s]\n",
      "100%|██████████| 50/50 [00:12<00:00,  3.92it/s]\n",
      "100%|██████████| 10/10 [00:02<00:00,  3.93it/s]\n",
      "  0%|          | 0/50 [00:00<?, ?it/s]"
     ]
    },
    {
     "name": "stdout",
     "output_type": "stream",
     "text": [
      "Done...\n",
      "Pocessing ../../gnosis_checkpoints/architecture_crossover_300epochs/synth_aug_0.0_cifar100_ts_soft_cross_ent_alpha_0.0_v0.0.10/preresnet20_1-preresnet56_1/trial_1/2021-01-24_18-15-54\n",
      "Trial: 1\n",
      "Student:\n",
      "\tDepth: 56\n",
      "Teacher:\n",
      "\tDepth: 20\n",
      "\tNumber of components: 1\n"
     ]
    },
    {
     "name": "stderr",
     "output_type": "stream",
     "text": [
      "100%|██████████| 50/50 [00:09<00:00,  5.42it/s]\n",
      "100%|██████████| 10/10 [00:01<00:00,  5.53it/s]\n",
      "100%|██████████| 50/50 [00:12<00:00,  3.90it/s]\n",
      "100%|██████████| 10/10 [00:02<00:00,  3.92it/s]\n",
      "  0%|          | 0/50 [00:00<?, ?it/s]"
     ]
    },
    {
     "name": "stdout",
     "output_type": "stream",
     "text": [
      "Done...\n",
      "Pocessing ../../gnosis_checkpoints/architecture_crossover_300epochs/synth_aug_0.0_cifar100_ts_soft_cross_ent_alpha_0.0_v0.0.10/preresnet20_1-preresnet56_1/trial_3/2021-01-24_18-15-54\n",
      "Trial: 3\n",
      "Student:\n",
      "\tDepth: 56\n",
      "Teacher:\n",
      "\tDepth: 20\n",
      "\tNumber of components: 1\n"
     ]
    },
    {
     "name": "stderr",
     "output_type": "stream",
     "text": [
      "100%|██████████| 50/50 [00:09<00:00,  5.42it/s]\n",
      "100%|██████████| 10/10 [00:01<00:00,  5.34it/s]\n",
      "100%|██████████| 50/50 [00:12<00:00,  3.87it/s]\n",
      "100%|██████████| 10/10 [00:02<00:00,  3.81it/s]\n",
      "  0%|          | 0/50 [00:00<?, ?it/s]"
     ]
    },
    {
     "name": "stdout",
     "output_type": "stream",
     "text": [
      "Done...\n",
      "Pocessing ../../gnosis_checkpoints/architecture_crossover_300epochs/synth_aug_0.0_cifar100_ts_soft_cross_ent_alpha_0.0_v0.0.10/preresnet20_1-preresnet56_1/trial_2/2021-01-24_18-15-54\n",
      "Trial: 2\n",
      "Student:\n",
      "\tDepth: 56\n",
      "Teacher:\n",
      "\tDepth: 20\n",
      "\tNumber of components: 1\n"
     ]
    },
    {
     "name": "stderr",
     "output_type": "stream",
     "text": [
      "100%|██████████| 50/50 [00:09<00:00,  5.43it/s]\n",
      "100%|██████████| 10/10 [00:01<00:00,  5.48it/s]\n",
      "100%|██████████| 50/50 [00:12<00:00,  3.92it/s]\n",
      "100%|██████████| 10/10 [00:02<00:00,  3.94it/s]"
     ]
    },
    {
     "name": "stdout",
     "output_type": "stream",
     "text": [
      "Done...\n"
     ]
    },
    {
     "name": "stderr",
     "output_type": "stream",
     "text": [
      "\n"
     ]
    }
   ],
   "source": [
    "base_dir = \"../../gnosis_checkpoints/architecture_crossover_300epochs/\"\n",
    "process_all_subdirectories(base_dir, process_leaf_directory_fn)"
   ]
  },
  {
   "cell_type": "markdown",
   "id": "foster-crossing",
   "metadata": {},
   "source": [
    "## MixUP"
   ]
  },
  {
   "cell_type": "code",
   "execution_count": 152,
   "id": "falling-flavor",
   "metadata": {},
   "outputs": [
    {
     "name": "stdout",
     "output_type": "stream",
     "text": [
      "Files already downloaded and verified\n",
      "Files already downloaded and verified\n"
     ]
    }
   ],
   "source": [
    "baseline_train_loader, baseline_test_loader = make_cifar100(\n",
    "    [torchvision.transforms.RandomCrop(32, 4), \n",
    "     torchvision.transforms.RandomHorizontalFlip()], [])\n",
    "\n",
    "process_leaf_directory_fn = make_student_process_leaf_directory(\n",
    "    clean_train_loader, clean_test_loader, baseline_train_loader, baseline_test_loader, recompute_existing=True)"
   ]
  },
  {
   "cell_type": "code",
   "execution_count": 153,
   "id": "continental-whole",
   "metadata": {},
   "outputs": [
    {
     "name": "stdout",
     "output_type": "stream",
     "text": [
      "Pocessing ../../gnosis_checkpoints/mixup_300epochs/cifar100_ts_soft_cross_ent_alpha_0.0_v0.0.10/preresnet56_3-preresnet56_1/trial_1/2021-01-24_18-06-59\n",
      "Trial: 1\n",
      "Student:\n",
      "\tDepth: 56\n",
      "Teacher:\n",
      "\tDepth: 56\n",
      "\tNumber of components: 3\n"
     ]
    },
    {
     "name": "stderr",
     "output_type": "stream",
     "text": [
      "100%|██████████| 50/50 [00:09<00:00,  5.40it/s]\n",
      "100%|██████████| 10/10 [00:01<00:00,  5.22it/s]\n",
      "100%|██████████| 50/50 [00:12<00:00,  3.85it/s]\n",
      "100%|██████████| 10/10 [00:02<00:00,  3.89it/s]\n",
      "  0%|          | 0/50 [00:00<?, ?it/s]"
     ]
    },
    {
     "name": "stdout",
     "output_type": "stream",
     "text": [
      "Done...\n"
     ]
    },
    {
     "name": "stderr",
     "output_type": "stream",
     "text": [
      "100%|██████████| 50/50 [00:16<00:00,  3.11it/s]\n",
      "100%|██████████| 10/10 [00:03<00:00,  3.05it/s]\n",
      "100%|██████████| 50/50 [00:20<00:00,  2.48it/s]\n",
      "100%|██████████| 10/10 [00:04<00:00,  2.48it/s]\n"
     ]
    },
    {
     "name": "stdout",
     "output_type": "stream",
     "text": [
      "Done...\n",
      "Pocessing ../../gnosis_checkpoints/mixup_300epochs/cifar100_ts_soft_cross_ent_alpha_0.0_v0.0.10/preresnet56_3-preresnet56_1/trial_3/2021-01-24_18-06-59\n",
      "Trial: 3\n",
      "Student:\n",
      "\tDepth: 56\n"
     ]
    },
    {
     "name": "stderr",
     "output_type": "stream",
     "text": [
      "\r",
      "  0%|          | 0/50 [00:00<?, ?it/s]"
     ]
    },
    {
     "name": "stdout",
     "output_type": "stream",
     "text": [
      "Teacher:\n",
      "\tDepth: 56\n",
      "\tNumber of components: 3\n"
     ]
    },
    {
     "name": "stderr",
     "output_type": "stream",
     "text": [
      "100%|██████████| 50/50 [00:09<00:00,  5.32it/s]\n",
      "100%|██████████| 10/10 [00:01<00:00,  5.25it/s]\n",
      "100%|██████████| 50/50 [00:13<00:00,  3.79it/s]\n",
      "100%|██████████| 10/10 [00:02<00:00,  3.73it/s]\n",
      "  0%|          | 0/50 [00:00<?, ?it/s]"
     ]
    },
    {
     "name": "stdout",
     "output_type": "stream",
     "text": [
      "Done...\n"
     ]
    },
    {
     "name": "stderr",
     "output_type": "stream",
     "text": [
      "100%|██████████| 50/50 [00:16<00:00,  3.03it/s]\n",
      "100%|██████████| 10/10 [00:03<00:00,  2.93it/s]\n",
      "100%|██████████| 50/50 [00:20<00:00,  2.50it/s]\n",
      "100%|██████████| 10/10 [00:04<00:00,  2.40it/s]\n"
     ]
    },
    {
     "name": "stdout",
     "output_type": "stream",
     "text": [
      "Done...\n",
      "Pocessing ../../gnosis_checkpoints/mixup_300epochs/cifar100_ts_soft_cross_ent_alpha_0.0_v0.0.10/preresnet56_3-preresnet56_1/trial_2/2021-01-24_18-06-59\n",
      "Trial: 2\n",
      "Student:\n",
      "\tDepth: 56\n",
      "Teacher:\n",
      "\tDepth: 56\n",
      "\tNumber of components: 3\n"
     ]
    },
    {
     "name": "stderr",
     "output_type": "stream",
     "text": [
      "100%|██████████| 50/50 [00:09<00:00,  5.15it/s]\n",
      "100%|██████████| 10/10 [00:01<00:00,  5.28it/s]\n",
      "100%|██████████| 50/50 [00:13<00:00,  3.72it/s]\n",
      "100%|██████████| 10/10 [00:02<00:00,  3.74it/s]\n",
      "  0%|          | 0/50 [00:00<?, ?it/s]"
     ]
    },
    {
     "name": "stdout",
     "output_type": "stream",
     "text": [
      "Done...\n"
     ]
    },
    {
     "name": "stderr",
     "output_type": "stream",
     "text": [
      "100%|██████████| 50/50 [00:16<00:00,  3.09it/s]\n",
      "100%|██████████| 10/10 [00:03<00:00,  3.12it/s]\n",
      "100%|██████████| 50/50 [00:19<00:00,  2.54it/s]\n",
      "100%|██████████| 10/10 [00:03<00:00,  2.53it/s]\n"
     ]
    },
    {
     "name": "stdout",
     "output_type": "stream",
     "text": [
      "Done...\n",
      "Pocessing ../../gnosis_checkpoints/mixup_300epochs/cifar100_ts_soft_cross_ent_alpha_0.0_v0.0.10/preresnet56_1-preresnet56_1/trial_1/2021-01-24_18-06-59\n",
      "Trial: 1\n",
      "Student:\n",
      "\tDepth: 56\n"
     ]
    },
    {
     "name": "stderr",
     "output_type": "stream",
     "text": [
      "\r",
      "  0%|          | 0/50 [00:00<?, ?it/s]"
     ]
    },
    {
     "name": "stdout",
     "output_type": "stream",
     "text": [
      "Teacher:\n",
      "\tDepth: 56\n",
      "\tNumber of components: 1\n"
     ]
    },
    {
     "name": "stderr",
     "output_type": "stream",
     "text": [
      "100%|██████████| 50/50 [00:09<00:00,  5.34it/s]\n",
      "100%|██████████| 10/10 [00:01<00:00,  5.38it/s]\n",
      "100%|██████████| 50/50 [00:13<00:00,  3.82it/s]\n",
      "100%|██████████| 10/10 [00:02<00:00,  3.86it/s]\n",
      "  0%|          | 0/50 [00:00<?, ?it/s]"
     ]
    },
    {
     "name": "stdout",
     "output_type": "stream",
     "text": [
      "Done...\n"
     ]
    },
    {
     "name": "stderr",
     "output_type": "stream",
     "text": [
      "100%|██████████| 50/50 [00:09<00:00,  5.37it/s]\n",
      "100%|██████████| 10/10 [00:01<00:00,  5.36it/s]\n",
      "100%|██████████| 50/50 [00:12<00:00,  3.87it/s]\n",
      "100%|██████████| 10/10 [00:02<00:00,  3.84it/s]\n",
      "  0%|          | 0/50 [00:00<?, ?it/s]"
     ]
    },
    {
     "name": "stdout",
     "output_type": "stream",
     "text": [
      "Done...\n",
      "Pocessing ../../gnosis_checkpoints/mixup_300epochs/cifar100_ts_soft_cross_ent_alpha_0.0_v0.0.10/preresnet56_1-preresnet56_1/trial_3/2021-01-24_18-06-59\n",
      "Trial: 3\n",
      "Student:\n",
      "\tDepth: 56\n",
      "Teacher:\n",
      "\tDepth: 56\n",
      "\tNumber of components: 1\n"
     ]
    },
    {
     "name": "stderr",
     "output_type": "stream",
     "text": [
      "100%|██████████| 50/50 [00:09<00:00,  5.33it/s]\n",
      "100%|██████████| 10/10 [00:01<00:00,  5.44it/s]\n",
      "100%|██████████| 50/50 [00:13<00:00,  3.83it/s]\n",
      "100%|██████████| 10/10 [00:02<00:00,  3.82it/s]\n",
      "  0%|          | 0/50 [00:00<?, ?it/s]"
     ]
    },
    {
     "name": "stdout",
     "output_type": "stream",
     "text": [
      "Done...\n"
     ]
    },
    {
     "name": "stderr",
     "output_type": "stream",
     "text": [
      "100%|██████████| 50/50 [00:09<00:00,  5.31it/s]\n",
      "100%|██████████| 10/10 [00:01<00:00,  5.35it/s]\n",
      "100%|██████████| 50/50 [00:13<00:00,  3.82it/s]\n",
      "100%|██████████| 10/10 [00:02<00:00,  3.77it/s]\n",
      "  0%|          | 0/50 [00:00<?, ?it/s]"
     ]
    },
    {
     "name": "stdout",
     "output_type": "stream",
     "text": [
      "Done...\n",
      "Pocessing ../../gnosis_checkpoints/mixup_300epochs/cifar100_ts_soft_cross_ent_alpha_0.0_v0.0.10/preresnet56_1-preresnet56_1/trial_2/2021-01-24_18-06-59\n",
      "Trial: 2\n",
      "Student:\n",
      "\tDepth: 56\n",
      "Teacher:\n",
      "\tDepth: 56\n",
      "\tNumber of components: 1\n"
     ]
    },
    {
     "name": "stderr",
     "output_type": "stream",
     "text": [
      "100%|██████████| 50/50 [00:09<00:00,  5.37it/s]\n",
      "100%|██████████| 10/10 [00:01<00:00,  5.32it/s]\n",
      "100%|██████████| 50/50 [00:12<00:00,  3.85it/s]\n",
      "100%|██████████| 10/10 [00:02<00:00,  3.89it/s]\n",
      "  0%|          | 0/50 [00:00<?, ?it/s]"
     ]
    },
    {
     "name": "stdout",
     "output_type": "stream",
     "text": [
      "Done...\n"
     ]
    },
    {
     "name": "stderr",
     "output_type": "stream",
     "text": [
      "100%|██████████| 50/50 [00:09<00:00,  5.34it/s]\n",
      "100%|██████████| 10/10 [00:01<00:00,  5.35it/s]\n",
      "100%|██████████| 50/50 [00:12<00:00,  3.86it/s]\n",
      "100%|██████████| 10/10 [00:02<00:00,  3.86it/s]\n"
     ]
    },
    {
     "name": "stdout",
     "output_type": "stream",
     "text": [
      "Done...\n",
      "Pocessing ../../gnosis_checkpoints/mixup_300epochs/cifar100_ts_soft_cross_ent_alpha_0.0_v0.0.10/preresnet56_5-preresnet56_1/trial_1/2021-01-24_18-06-59\n",
      "Trial: 1\n",
      "Student:\n",
      "\tDepth: 56\n",
      "Teacher:\n",
      "\tDepth: 56\n",
      "\tNumber of components: 5\n"
     ]
    },
    {
     "name": "stderr",
     "output_type": "stream",
     "text": [
      "100%|██████████| 50/50 [00:09<00:00,  5.40it/s]\n",
      "100%|██████████| 10/10 [00:01<00:00,  5.20it/s]\n",
      "100%|██████████| 50/50 [00:13<00:00,  3.83it/s]\n",
      "100%|██████████| 10/10 [00:02<00:00,  3.89it/s]\n",
      "  0%|          | 0/50 [00:00<?, ?it/s]"
     ]
    },
    {
     "name": "stdout",
     "output_type": "stream",
     "text": [
      "Done...\n"
     ]
    },
    {
     "name": "stderr",
     "output_type": "stream",
     "text": [
      "100%|██████████| 50/50 [00:22<00:00,  2.21it/s]\n",
      "100%|██████████| 10/10 [00:04<00:00,  2.17it/s]\n",
      "100%|██████████| 50/50 [00:26<00:00,  1.89it/s]\n",
      "100%|██████████| 10/10 [00:05<00:00,  1.91it/s]\n"
     ]
    },
    {
     "name": "stdout",
     "output_type": "stream",
     "text": [
      "Done...\n",
      "Pocessing ../../gnosis_checkpoints/mixup_300epochs/cifar100_ts_soft_cross_ent_alpha_0.0_v0.0.10/preresnet56_5-preresnet56_1/trial_3/2021-01-24_18-06-59\n",
      "Trial: 3\n",
      "Student:\n",
      "\tDepth: 56\n",
      "Teacher:\n",
      "\tDepth: 56\n",
      "\tNumber of components: 5\n"
     ]
    },
    {
     "name": "stderr",
     "output_type": "stream",
     "text": [
      "100%|██████████| 50/50 [00:09<00:00,  5.32it/s]\n",
      "100%|██████████| 10/10 [00:01<00:00,  5.22it/s]\n",
      "100%|██████████| 50/50 [00:13<00:00,  3.80it/s]\n",
      "100%|██████████| 10/10 [00:02<00:00,  3.77it/s]\n",
      "  0%|          | 0/50 [00:00<?, ?it/s]"
     ]
    },
    {
     "name": "stdout",
     "output_type": "stream",
     "text": [
      "Done...\n"
     ]
    },
    {
     "name": "stderr",
     "output_type": "stream",
     "text": [
      "100%|██████████| 50/50 [00:22<00:00,  2.21it/s]\n",
      "100%|██████████| 10/10 [00:04<00:00,  2.20it/s]\n",
      "100%|██████████| 50/50 [00:26<00:00,  1.89it/s]\n",
      "100%|██████████| 10/10 [00:05<00:00,  1.90it/s]\n"
     ]
    },
    {
     "name": "stdout",
     "output_type": "stream",
     "text": [
      "Done...\n",
      "Pocessing ../../gnosis_checkpoints/mixup_300epochs/cifar100_ts_soft_cross_ent_alpha_0.0_v0.0.10/preresnet56_5-preresnet56_1/trial_2/2021-01-24_18-06-59\n",
      "Trial: 2\n",
      "Student:\n",
      "\tDepth: 56\n",
      "Teacher:\n",
      "\tDepth: 56\n",
      "\tNumber of components: 5\n"
     ]
    },
    {
     "name": "stderr",
     "output_type": "stream",
     "text": [
      "100%|██████████| 50/50 [00:09<00:00,  5.36it/s]\n",
      "100%|██████████| 10/10 [00:01<00:00,  5.40it/s]\n",
      "100%|██████████| 50/50 [00:13<00:00,  3.80it/s]\n",
      "100%|██████████| 10/10 [00:02<00:00,  3.74it/s]\n",
      "  0%|          | 0/50 [00:00<?, ?it/s]"
     ]
    },
    {
     "name": "stdout",
     "output_type": "stream",
     "text": [
      "Done...\n"
     ]
    },
    {
     "name": "stderr",
     "output_type": "stream",
     "text": [
      "100%|██████████| 50/50 [00:22<00:00,  2.18it/s]\n",
      "100%|██████████| 10/10 [00:04<00:00,  2.21it/s]\n",
      "100%|██████████| 50/50 [00:26<00:00,  1.90it/s]\n",
      "100%|██████████| 10/10 [00:05<00:00,  1.90it/s]\n"
     ]
    },
    {
     "name": "stdout",
     "output_type": "stream",
     "text": [
      "Done...\n"
     ]
    }
   ],
   "source": [
    "base_dir = \"../../gnosis_checkpoints/mixup_300epochs/\"\n",
    "process_all_subdirectories(base_dir, process_leaf_directory_fn)"
   ]
  },
  {
   "cell_type": "markdown",
   "id": "chubby-louisville",
   "metadata": {},
   "source": [
    "## SVHN augmentation"
   ]
  },
  {
   "cell_type": "code",
   "execution_count": 16,
   "id": "brutal-brother",
   "metadata": {},
   "outputs": [],
   "source": [
    "from gnosis.datasets.svhn_augmentation import make_cifar100_svhn"
   ]
  },
  {
   "cell_type": "code",
   "execution_count": 17,
   "id": "indian-germany",
   "metadata": {},
   "outputs": [],
   "source": [
    "transforms = [torchvision.transforms.RandomCrop(32, 4), \n",
    "              torchvision.transforms.RandomHorizontalFlip()]\n",
    "normalize_transforms = [\n",
    "        torchvision.transforms.ToTensor(),\n",
    "        get_unit_cube_normalization()\n",
    "    ]\n",
    "transforms = torchvision.transforms.Compose(transforms + normalize_transforms)"
   ]
  },
  {
   "cell_type": "code",
   "execution_count": 18,
   "id": "italic-popularity",
   "metadata": {
    "scrolled": true
   },
   "outputs": [
    {
     "name": "stdout",
     "output_type": "stream",
     "text": [
      "Files already downloaded and verified\n",
      "Using downloaded and verified file: /datasets/train_32x32.mat\n",
      "Files already downloaded and verified\n"
     ]
    }
   ],
   "source": [
    "train_dataset = make_cifar100_svhn(root=\"/datasets\", download=True, num_svhn_data=20000, train=True, transform=transforms)\n",
    "test_dataset = make_cifar100_svhn(root=\"/datasets\", download=True, num_svhn_data=20000, train=False, transform=transforms)\n",
    "\n",
    "cifar100svhn_train_loader = torch.utils.data.DataLoader(dataset=train_dataset, batch_size=1000, shuffle=False)\n",
    "cifar100svhn_test_loader = torch.utils.data.DataLoader(dataset=test_dataset, batch_size=1000, shuffle=False)"
   ]
  },
  {
   "cell_type": "code",
   "execution_count": 19,
   "id": "reflected-lodging",
   "metadata": {},
   "outputs": [],
   "source": [
    "process_leaf_directory_fn = make_student_process_leaf_directory(\n",
    "    clean_train_loader, clean_test_loader, cifar100svhn_train_loader, cifar100svhn_test_loader, recompute_existing=True)"
   ]
  },
  {
   "cell_type": "code",
   "execution_count": 20,
   "id": "pretty-consortium",
   "metadata": {},
   "outputs": [
    {
     "name": "stdout",
     "output_type": "stream",
     "text": [
      "Pocessing ../../gnosis_checkpoints/svhn_augmentation/synth_aug_0.0_cifar100_svhn_ts_soft_cross_ent_v0.0.10/preresnet56_3-preresnet56_1/trial_1/2021-01-22_22-59-20\n",
      "Trial: 1\n"
     ]
    },
    {
     "name": "stderr",
     "output_type": "stream",
     "text": [
      "\r",
      "  0%|          | 0/50 [00:00<?, ?it/s]"
     ]
    },
    {
     "name": "stdout",
     "output_type": "stream",
     "text": [
      "Student:\n",
      "\tDepth: 56\n",
      "Teacher:\n",
      "\tDepth: 56\n",
      "\tNumber of components: 3\n"
     ]
    },
    {
     "name": "stderr",
     "output_type": "stream",
     "text": [
      "100%|██████████| 50/50 [00:10<00:00,  4.98it/s]\n",
      "100%|██████████| 10/10 [00:01<00:00,  5.17it/s]\n",
      "100%|██████████| 70/70 [00:18<00:00,  3.84it/s]\n",
      "100%|██████████| 10/10 [00:02<00:00,  3.90it/s]\n",
      "  0%|          | 0/50 [00:00<?, ?it/s]"
     ]
    },
    {
     "name": "stdout",
     "output_type": "stream",
     "text": [
      "Done...\n"
     ]
    },
    {
     "name": "stderr",
     "output_type": "stream",
     "text": [
      "100%|██████████| 50/50 [00:15<00:00,  3.19it/s]\n",
      "100%|██████████| 10/10 [00:03<00:00,  3.22it/s]\n",
      "100%|██████████| 70/70 [00:26<00:00,  2.60it/s]\n",
      "100%|██████████| 10/10 [00:03<00:00,  2.60it/s]\n"
     ]
    },
    {
     "name": "stdout",
     "output_type": "stream",
     "text": [
      "Done...\n",
      "Pocessing ../../gnosis_checkpoints/svhn_augmentation/synth_aug_0.0_cifar100_svhn_ts_soft_cross_ent_v0.0.10/preresnet56_3-preresnet56_1/trial_3/2021-01-22_22-59-20\n",
      "Trial: 3\n"
     ]
    },
    {
     "name": "stderr",
     "output_type": "stream",
     "text": [
      "\r",
      "  0%|          | 0/50 [00:00<?, ?it/s]"
     ]
    },
    {
     "name": "stdout",
     "output_type": "stream",
     "text": [
      "Student:\n",
      "\tDepth: 56\n",
      "Teacher:\n",
      "\tDepth: 56\n",
      "\tNumber of components: 3\n"
     ]
    },
    {
     "name": "stderr",
     "output_type": "stream",
     "text": [
      "100%|██████████| 50/50 [00:09<00:00,  5.47it/s]\n",
      "100%|██████████| 10/10 [00:01<00:00,  5.37it/s]\n",
      "100%|██████████| 70/70 [00:17<00:00,  3.91it/s]\n",
      "100%|██████████| 10/10 [00:02<00:00,  3.95it/s]\n",
      "  0%|          | 0/50 [00:00<?, ?it/s]"
     ]
    },
    {
     "name": "stdout",
     "output_type": "stream",
     "text": [
      "Done...\n"
     ]
    },
    {
     "name": "stderr",
     "output_type": "stream",
     "text": [
      "100%|██████████| 50/50 [00:15<00:00,  3.20it/s]\n",
      "100%|██████████| 10/10 [00:03<00:00,  3.20it/s]\n",
      "100%|██████████| 70/70 [00:26<00:00,  2.61it/s]\n",
      "100%|██████████| 10/10 [00:03<00:00,  2.62it/s]\n"
     ]
    },
    {
     "name": "stdout",
     "output_type": "stream",
     "text": [
      "Done...\n",
      "Pocessing ../../gnosis_checkpoints/svhn_augmentation/synth_aug_0.0_cifar100_svhn_ts_soft_cross_ent_v0.0.10/preresnet56_3-preresnet56_1/trial_2/2021-01-22_22-59-20\n",
      "Trial: 2\n"
     ]
    },
    {
     "name": "stderr",
     "output_type": "stream",
     "text": [
      "\r",
      "  0%|          | 0/50 [00:00<?, ?it/s]"
     ]
    },
    {
     "name": "stdout",
     "output_type": "stream",
     "text": [
      "Student:\n",
      "\tDepth: 56\n",
      "Teacher:\n",
      "\tDepth: 56\n",
      "\tNumber of components: 3\n"
     ]
    },
    {
     "name": "stderr",
     "output_type": "stream",
     "text": [
      "100%|██████████| 50/50 [00:09<00:00,  5.49it/s]\n",
      "100%|██████████| 10/10 [00:01<00:00,  5.47it/s]\n",
      "100%|██████████| 70/70 [00:17<00:00,  3.90it/s]\n",
      "100%|██████████| 10/10 [00:02<00:00,  3.90it/s]\n",
      "  0%|          | 0/50 [00:00<?, ?it/s]"
     ]
    },
    {
     "name": "stdout",
     "output_type": "stream",
     "text": [
      "Done...\n"
     ]
    },
    {
     "name": "stderr",
     "output_type": "stream",
     "text": [
      "100%|██████████| 50/50 [00:15<00:00,  3.21it/s]\n",
      "100%|██████████| 10/10 [00:03<00:00,  3.21it/s]\n",
      "100%|██████████| 70/70 [00:26<00:00,  2.59it/s]\n",
      "100%|██████████| 10/10 [00:03<00:00,  2.61it/s]\n"
     ]
    },
    {
     "name": "stdout",
     "output_type": "stream",
     "text": [
      "Done...\n",
      "Pocessing ../../gnosis_checkpoints/svhn_augmentation/synth_aug_0.0_cifar100_svhn_ts_soft_cross_ent_v0.0.10/preresnet56_1-preresnet56_1/trial_1/2021-01-22_22-59-20\n",
      "Trial: 1\n"
     ]
    },
    {
     "name": "stderr",
     "output_type": "stream",
     "text": [
      "\r",
      "  0%|          | 0/50 [00:00<?, ?it/s]"
     ]
    },
    {
     "name": "stdout",
     "output_type": "stream",
     "text": [
      "Student:\n",
      "\tDepth: 56\n",
      "Teacher:\n",
      "\tDepth: 56\n",
      "\tNumber of components: 1\n"
     ]
    },
    {
     "name": "stderr",
     "output_type": "stream",
     "text": [
      "100%|██████████| 50/50 [00:09<00:00,  5.46it/s]\n",
      "100%|██████████| 10/10 [00:01<00:00,  5.50it/s]\n",
      "100%|██████████| 70/70 [00:17<00:00,  3.90it/s]\n",
      "100%|██████████| 10/10 [00:02<00:00,  3.86it/s]\n",
      "  0%|          | 0/50 [00:00<?, ?it/s]"
     ]
    },
    {
     "name": "stdout",
     "output_type": "stream",
     "text": [
      "Done...\n"
     ]
    },
    {
     "name": "stderr",
     "output_type": "stream",
     "text": [
      "100%|██████████| 50/50 [00:09<00:00,  5.41it/s]\n",
      "100%|██████████| 10/10 [00:01<00:00,  5.48it/s]\n",
      "100%|██████████| 70/70 [00:17<00:00,  3.89it/s]\n",
      "100%|██████████| 10/10 [00:02<00:00,  3.86it/s]\n",
      "  0%|          | 0/50 [00:00<?, ?it/s]"
     ]
    },
    {
     "name": "stdout",
     "output_type": "stream",
     "text": [
      "Done...\n",
      "Pocessing ../../gnosis_checkpoints/svhn_augmentation/synth_aug_0.0_cifar100_svhn_ts_soft_cross_ent_v0.0.10/preresnet56_1-preresnet56_1/trial_3/2021-01-22_22-59-20\n",
      "Trial: 3\n",
      "Student:\n",
      "\tDepth: 56\n",
      "Teacher:\n",
      "\tDepth: 56\n",
      "\tNumber of components: 1\n"
     ]
    },
    {
     "name": "stderr",
     "output_type": "stream",
     "text": [
      "100%|██████████| 50/50 [00:09<00:00,  5.45it/s]\n",
      "100%|██████████| 10/10 [00:01<00:00,  5.48it/s]\n",
      "100%|██████████| 70/70 [00:17<00:00,  3.90it/s]\n",
      "100%|██████████| 10/10 [00:02<00:00,  3.86it/s]\n",
      "  0%|          | 0/50 [00:00<?, ?it/s]"
     ]
    },
    {
     "name": "stdout",
     "output_type": "stream",
     "text": [
      "Done...\n"
     ]
    },
    {
     "name": "stderr",
     "output_type": "stream",
     "text": [
      "100%|██████████| 50/50 [00:09<00:00,  5.40it/s]\n",
      "100%|██████████| 10/10 [00:01<00:00,  5.48it/s]\n",
      "100%|██████████| 70/70 [00:17<00:00,  3.89it/s]\n",
      "100%|██████████| 10/10 [00:02<00:00,  3.94it/s]\n",
      "  0%|          | 0/50 [00:00<?, ?it/s]"
     ]
    },
    {
     "name": "stdout",
     "output_type": "stream",
     "text": [
      "Done...\n",
      "Pocessing ../../gnosis_checkpoints/svhn_augmentation/synth_aug_0.0_cifar100_svhn_ts_soft_cross_ent_v0.0.10/preresnet56_1-preresnet56_1/trial_2/2021-01-22_22-59-20\n",
      "Trial: 2\n",
      "Student:\n",
      "\tDepth: 56\n",
      "Teacher:\n",
      "\tDepth: 56\n",
      "\tNumber of components: 1\n"
     ]
    },
    {
     "name": "stderr",
     "output_type": "stream",
     "text": [
      "100%|██████████| 50/50 [00:09<00:00,  5.47it/s]\n",
      "100%|██████████| 10/10 [00:01<00:00,  5.52it/s]\n",
      "100%|██████████| 70/70 [00:17<00:00,  3.89it/s]\n",
      "100%|██████████| 10/10 [00:02<00:00,  3.94it/s]\n",
      "  0%|          | 0/50 [00:00<?, ?it/s]"
     ]
    },
    {
     "name": "stdout",
     "output_type": "stream",
     "text": [
      "Done...\n"
     ]
    },
    {
     "name": "stderr",
     "output_type": "stream",
     "text": [
      "100%|██████████| 50/50 [00:08<00:00,  5.56it/s]\n",
      "100%|██████████| 10/10 [00:01<00:00,  5.57it/s]\n",
      "100%|██████████| 70/70 [00:17<00:00,  3.94it/s]\n",
      "100%|██████████| 10/10 [00:02<00:00,  3.94it/s]\n"
     ]
    },
    {
     "name": "stdout",
     "output_type": "stream",
     "text": [
      "Done...\n",
      "Pocessing ../../gnosis_checkpoints/svhn_augmentation/synth_aug_0.0_cifar100_svhn_ts_soft_cross_ent_v0.0.10/preresnet56_5-preresnet56_1/trial_1/2021-01-22_22-59-20\n",
      "Trial: 1\n",
      "Student:\n",
      "\tDepth: 56\n",
      "Teacher:\n",
      "\tDepth: 56\n",
      "\tNumber of components: 5\n"
     ]
    },
    {
     "name": "stderr",
     "output_type": "stream",
     "text": [
      "100%|██████████| 50/50 [00:09<00:00,  5.53it/s]\n",
      "100%|██████████| 10/10 [00:01<00:00,  5.55it/s]\n",
      "100%|██████████| 70/70 [00:17<00:00,  3.95it/s]\n",
      "100%|██████████| 10/10 [00:02<00:00,  3.84it/s]\n",
      "  0%|          | 0/50 [00:00<?, ?it/s]"
     ]
    },
    {
     "name": "stdout",
     "output_type": "stream",
     "text": [
      "Done...\n"
     ]
    },
    {
     "name": "stderr",
     "output_type": "stream",
     "text": [
      "100%|██████████| 50/50 [00:21<00:00,  2.29it/s]\n",
      "100%|██████████| 10/10 [00:04<00:00,  2.30it/s]\n",
      "100%|██████████| 70/70 [00:35<00:00,  1.97it/s]\n",
      "100%|██████████| 10/10 [00:05<00:00,  1.97it/s]\n"
     ]
    },
    {
     "name": "stdout",
     "output_type": "stream",
     "text": [
      "Done...\n",
      "Pocessing ../../gnosis_checkpoints/svhn_augmentation/synth_aug_0.0_cifar100_svhn_ts_soft_cross_ent_v0.0.10/preresnet56_5-preresnet56_1/trial_3/2021-01-22_22-59-20\n",
      "Trial: 3\n",
      "Student:\n",
      "\tDepth: 56\n",
      "Teacher:\n",
      "\tDepth: 56\n",
      "\tNumber of components: 5\n"
     ]
    },
    {
     "name": "stderr",
     "output_type": "stream",
     "text": [
      "100%|██████████| 50/50 [00:09<00:00,  5.51it/s]\n",
      "100%|██████████| 10/10 [00:01<00:00,  5.53it/s]\n",
      "100%|██████████| 70/70 [00:17<00:00,  3.94it/s]\n",
      "100%|██████████| 10/10 [00:02<00:00,  3.97it/s]\n",
      "  0%|          | 0/50 [00:00<?, ?it/s]"
     ]
    },
    {
     "name": "stdout",
     "output_type": "stream",
     "text": [
      "Done...\n"
     ]
    },
    {
     "name": "stderr",
     "output_type": "stream",
     "text": [
      "100%|██████████| 50/50 [00:21<00:00,  2.29it/s]\n",
      "100%|██████████| 10/10 [00:04<00:00,  2.29it/s]\n",
      "100%|██████████| 70/70 [00:36<00:00,  1.94it/s]\n",
      "100%|██████████| 10/10 [00:05<00:00,  1.93it/s]\n"
     ]
    },
    {
     "name": "stdout",
     "output_type": "stream",
     "text": [
      "Done...\n",
      "Pocessing ../../gnosis_checkpoints/svhn_augmentation/synth_aug_0.0_cifar100_svhn_ts_soft_cross_ent_v0.0.10/preresnet56_5-preresnet56_1/trial_2/2021-01-22_22-59-20\n",
      "Trial: 2\n",
      "Student:\n",
      "\tDepth: 56\n",
      "Teacher:\n",
      "\tDepth: 56\n",
      "\tNumber of components: 5\n"
     ]
    },
    {
     "name": "stderr",
     "output_type": "stream",
     "text": [
      "100%|██████████| 50/50 [00:09<00:00,  5.49it/s]\n",
      "100%|██████████| 10/10 [00:01<00:00,  5.49it/s]\n",
      "100%|██████████| 70/70 [00:17<00:00,  3.89it/s]\n",
      "100%|██████████| 10/10 [00:02<00:00,  3.93it/s]\n",
      "  0%|          | 0/50 [00:00<?, ?it/s]"
     ]
    },
    {
     "name": "stdout",
     "output_type": "stream",
     "text": [
      "Done...\n"
     ]
    },
    {
     "name": "stderr",
     "output_type": "stream",
     "text": [
      "100%|██████████| 50/50 [00:21<00:00,  2.30it/s]\n",
      "100%|██████████| 10/10 [00:04<00:00,  2.28it/s]\n",
      "100%|██████████| 70/70 [00:35<00:00,  1.97it/s]\n",
      "100%|██████████| 10/10 [00:05<00:00,  1.98it/s]\n"
     ]
    },
    {
     "name": "stdout",
     "output_type": "stream",
     "text": [
      "Done...\n"
     ]
    }
   ],
   "source": [
    "base_dir = \"../../gnosis_checkpoints/svhn_augmentation/\"\n",
    "process_all_subdirectories(base_dir, process_leaf_directory_fn)"
   ]
  },
  {
   "cell_type": "markdown",
   "id": "decent-complexity",
   "metadata": {},
   "source": [
    "## Uniform inputs"
   ]
  },
  {
   "cell_type": "code",
   "execution_count": 26,
   "id": "equipped-underground",
   "metadata": {},
   "outputs": [],
   "source": [
    "import gnosis.utils.custom_augmentations"
   ]
  },
  {
   "cell_type": "code",
   "execution_count": 27,
   "id": "requested-clause",
   "metadata": {},
   "outputs": [
    {
     "name": "stdout",
     "output_type": "stream",
     "text": [
      "Files already downloaded and verified\n",
      "Files already downloaded and verified\n"
     ]
    }
   ],
   "source": [
    "uniform_train_loader, uniform_test_loader = make_cifar100(\n",
    "    [torchvision.transforms.RandomCrop(32, 4), \n",
    "     torchvision.transforms.RandomHorizontalFlip()], \n",
    "    [gnosis.utils.custom_augmentations.MaybeReplaceWithUniform(p=0.2, min=-1., max=1.)])\n",
    "\n",
    "process_leaf_directory_fn = make_student_process_leaf_directory(\n",
    "    clean_train_loader, clean_test_loader, uniform_train_loader, uniform_test_loader, recompute_existing=True)"
   ]
  },
  {
   "cell_type": "code",
   "execution_count": 28,
   "id": "upset-screen",
   "metadata": {},
   "outputs": [
    {
     "name": "stdout",
     "output_type": "stream",
     "text": [
      "Pocessing ../../gnosis_checkpoints/uniform_inputs//synth_aug_0.0_cifar100_ts_soft_cross_ent_alpha_0.0_v0.0.10/['replace_with_uniform']_0.2/preresnet56_3-preresnet56_1/trial_1/2021-01-24_02-20-16\n",
      "Trial: 1\n",
      "Student:\n",
      "\tDepth: 56\n",
      "Teacher:\n",
      "\tDepth: 56\n",
      "\tNumber of components: 3\n"
     ]
    },
    {
     "name": "stderr",
     "output_type": "stream",
     "text": [
      "100%|██████████| 50/50 [00:09<00:00,  5.32it/s]\n",
      "100%|██████████| 10/10 [00:01<00:00,  5.52it/s]\n",
      "100%|██████████| 50/50 [00:14<00:00,  3.52it/s]\n",
      "100%|██████████| 10/10 [00:02<00:00,  3.56it/s]\n",
      "  0%|          | 0/50 [00:00<?, ?it/s]"
     ]
    },
    {
     "name": "stdout",
     "output_type": "stream",
     "text": [
      "Done...\n"
     ]
    },
    {
     "name": "stderr",
     "output_type": "stream",
     "text": [
      "100%|██████████| 50/50 [00:15<00:00,  3.21it/s]\n",
      "100%|██████████| 10/10 [00:03<00:00,  3.21it/s]\n",
      "100%|██████████| 50/50 [00:20<00:00,  2.43it/s]\n",
      "100%|██████████| 10/10 [00:04<00:00,  2.42it/s]\n"
     ]
    },
    {
     "name": "stdout",
     "output_type": "stream",
     "text": [
      "Done...\n",
      "Pocessing ../../gnosis_checkpoints/uniform_inputs//synth_aug_0.0_cifar100_ts_soft_cross_ent_alpha_0.0_v0.0.10/['replace_with_uniform']_0.2/preresnet56_3-preresnet56_1/trial_2/2021-01-24_02-20-16\n",
      "Trial: 2\n",
      "Student:\n",
      "\tDepth: 56\n"
     ]
    },
    {
     "name": "stderr",
     "output_type": "stream",
     "text": [
      "\r",
      "  0%|          | 0/50 [00:00<?, ?it/s]"
     ]
    },
    {
     "name": "stdout",
     "output_type": "stream",
     "text": [
      "Teacher:\n",
      "\tDepth: 56\n",
      "\tNumber of components: 3\n"
     ]
    },
    {
     "name": "stderr",
     "output_type": "stream",
     "text": [
      "100%|██████████| 50/50 [00:09<00:00,  5.49it/s]\n",
      "100%|██████████| 10/10 [00:01<00:00,  5.48it/s]\n",
      "100%|██████████| 50/50 [00:14<00:00,  3.54it/s]\n",
      "100%|██████████| 10/10 [00:02<00:00,  3.53it/s]\n",
      "  0%|          | 0/50 [00:00<?, ?it/s]"
     ]
    },
    {
     "name": "stdout",
     "output_type": "stream",
     "text": [
      "Done...\n"
     ]
    },
    {
     "name": "stderr",
     "output_type": "stream",
     "text": [
      "100%|██████████| 50/50 [00:15<00:00,  3.20it/s]\n",
      "100%|██████████| 10/10 [00:03<00:00,  3.19it/s]\n",
      "100%|██████████| 50/50 [00:20<00:00,  2.43it/s]\n",
      "100%|██████████| 10/10 [00:04<00:00,  2.43it/s]\n"
     ]
    },
    {
     "name": "stdout",
     "output_type": "stream",
     "text": [
      "Done...\n",
      "Pocessing ../../gnosis_checkpoints/uniform_inputs//synth_aug_0.0_cifar100_ts_soft_cross_ent_alpha_0.0_v0.0.10/['replace_with_uniform']_0.2/preresnet56_3-preresnet56_1/trial_0/2021-01-24_02-20-16\n",
      "Trial: 0\n",
      "Student:\n",
      "\tDepth: 56\n"
     ]
    },
    {
     "name": "stderr",
     "output_type": "stream",
     "text": [
      "\r",
      "  0%|          | 0/50 [00:00<?, ?it/s]"
     ]
    },
    {
     "name": "stdout",
     "output_type": "stream",
     "text": [
      "Teacher:\n",
      "\tDepth: 56\n",
      "\tNumber of components: 3\n"
     ]
    },
    {
     "name": "stderr",
     "output_type": "stream",
     "text": [
      "100%|██████████| 50/50 [00:09<00:00,  5.48it/s]\n",
      "100%|██████████| 10/10 [00:01<00:00,  5.50it/s]\n",
      "100%|██████████| 50/50 [00:14<00:00,  3.56it/s]\n",
      "100%|██████████| 10/10 [00:02<00:00,  3.56it/s]\n",
      "  0%|          | 0/50 [00:00<?, ?it/s]"
     ]
    },
    {
     "name": "stdout",
     "output_type": "stream",
     "text": [
      "Done...\n"
     ]
    },
    {
     "name": "stderr",
     "output_type": "stream",
     "text": [
      "100%|██████████| 50/50 [00:15<00:00,  3.21it/s]\n",
      "100%|██████████| 10/10 [00:03<00:00,  3.21it/s]\n",
      "100%|██████████| 50/50 [00:20<00:00,  2.43it/s]\n",
      "100%|██████████| 10/10 [00:04<00:00,  2.42it/s]\n"
     ]
    },
    {
     "name": "stdout",
     "output_type": "stream",
     "text": [
      "Done...\n",
      "Pocessing ../../gnosis_checkpoints/uniform_inputs//synth_aug_0.0_cifar100_ts_soft_cross_ent_alpha_0.0_v0.0.10/['replace_with_uniform']_0.2/preresnet56_1-preresnet56_1/trial_1/2021-01-24_02-20-16\n",
      "Trial: 1\n",
      "Student:\n",
      "\tDepth: 56\n"
     ]
    },
    {
     "name": "stderr",
     "output_type": "stream",
     "text": [
      "\r",
      "  0%|          | 0/50 [00:00<?, ?it/s]"
     ]
    },
    {
     "name": "stdout",
     "output_type": "stream",
     "text": [
      "Teacher:\n",
      "\tDepth: 56\n",
      "\tNumber of components: 1\n"
     ]
    },
    {
     "name": "stderr",
     "output_type": "stream",
     "text": [
      "100%|██████████| 50/50 [00:09<00:00,  5.49it/s]\n",
      "100%|██████████| 10/10 [00:01<00:00,  5.47it/s]\n",
      "100%|██████████| 50/50 [00:14<00:00,  3.51it/s]\n",
      "100%|██████████| 10/10 [00:02<00:00,  3.55it/s]\n",
      "  0%|          | 0/50 [00:00<?, ?it/s]"
     ]
    },
    {
     "name": "stdout",
     "output_type": "stream",
     "text": [
      "Done...\n"
     ]
    },
    {
     "name": "stderr",
     "output_type": "stream",
     "text": [
      "100%|██████████| 50/50 [00:09<00:00,  5.51it/s]\n",
      "100%|██████████| 10/10 [00:01<00:00,  5.53it/s]\n",
      "100%|██████████| 50/50 [00:14<00:00,  3.55it/s]\n",
      "100%|██████████| 10/10 [00:02<00:00,  3.55it/s]\n",
      "  0%|          | 0/50 [00:00<?, ?it/s]"
     ]
    },
    {
     "name": "stdout",
     "output_type": "stream",
     "text": [
      "Done...\n",
      "Pocessing ../../gnosis_checkpoints/uniform_inputs//synth_aug_0.0_cifar100_ts_soft_cross_ent_alpha_0.0_v0.0.10/['replace_with_uniform']_0.2/preresnet56_1-preresnet56_1/trial_2/2021-01-24_02-20-16\n",
      "Trial: 2\n",
      "Student:\n",
      "\tDepth: 56\n",
      "Teacher:\n",
      "\tDepth: 56\n",
      "\tNumber of components: 1\n"
     ]
    },
    {
     "name": "stderr",
     "output_type": "stream",
     "text": [
      "100%|██████████| 50/50 [00:09<00:00,  5.51it/s]\n",
      "100%|██████████| 10/10 [00:01<00:00,  5.52it/s]\n",
      "100%|██████████| 50/50 [00:14<00:00,  3.55it/s]\n",
      "100%|██████████| 10/10 [00:02<00:00,  3.56it/s]\n",
      "  0%|          | 0/50 [00:00<?, ?it/s]"
     ]
    },
    {
     "name": "stdout",
     "output_type": "stream",
     "text": [
      "Done...\n"
     ]
    },
    {
     "name": "stderr",
     "output_type": "stream",
     "text": [
      "100%|██████████| 50/50 [00:09<00:00,  5.50it/s]\n",
      "100%|██████████| 10/10 [00:01<00:00,  5.43it/s]\n",
      "100%|██████████| 50/50 [00:14<00:00,  3.55it/s]\n",
      "100%|██████████| 10/10 [00:02<00:00,  3.58it/s]\n",
      "  0%|          | 0/50 [00:00<?, ?it/s]"
     ]
    },
    {
     "name": "stdout",
     "output_type": "stream",
     "text": [
      "Done...\n",
      "Pocessing ../../gnosis_checkpoints/uniform_inputs//synth_aug_0.0_cifar100_ts_soft_cross_ent_alpha_0.0_v0.0.10/['replace_with_uniform']_0.2/preresnet56_1-preresnet56_1/trial_0/2021-01-24_02-20-16\n",
      "Trial: 0\n",
      "Student:\n",
      "\tDepth: 56\n",
      "Teacher:\n",
      "\tDepth: 56\n",
      "\tNumber of components: 1\n"
     ]
    },
    {
     "name": "stderr",
     "output_type": "stream",
     "text": [
      "100%|██████████| 50/50 [00:09<00:00,  5.53it/s]\n",
      "100%|██████████| 10/10 [00:01<00:00,  5.52it/s]\n",
      "100%|██████████| 50/50 [00:14<00:00,  3.57it/s]\n",
      "100%|██████████| 10/10 [00:02<00:00,  3.58it/s]\n",
      "  0%|          | 0/50 [00:00<?, ?it/s]"
     ]
    },
    {
     "name": "stdout",
     "output_type": "stream",
     "text": [
      "Done...\n"
     ]
    },
    {
     "name": "stderr",
     "output_type": "stream",
     "text": [
      "100%|██████████| 50/50 [00:08<00:00,  5.57it/s]\n",
      "100%|██████████| 10/10 [00:01<00:00,  5.58it/s]\n",
      "100%|██████████| 50/50 [00:14<00:00,  3.56it/s]\n",
      "100%|██████████| 10/10 [00:02<00:00,  3.52it/s]\n"
     ]
    },
    {
     "name": "stdout",
     "output_type": "stream",
     "text": [
      "Done...\n",
      "Pocessing ../../gnosis_checkpoints/uniform_inputs//synth_aug_0.0_cifar100_ts_soft_cross_ent_alpha_0.0_v0.0.10/['replace_with_uniform']_0.2/preresnet56_5-preresnet56_1/trial_1/2021-01-24_02-20-16\n",
      "Trial: 1\n",
      "Student:\n",
      "\tDepth: 56\n",
      "Teacher:\n",
      "\tDepth: 56\n",
      "\tNumber of components: 5\n"
     ]
    },
    {
     "name": "stderr",
     "output_type": "stream",
     "text": [
      "100%|██████████| 50/50 [00:09<00:00,  5.54it/s]\n",
      "100%|██████████| 10/10 [00:01<00:00,  5.52it/s]\n",
      "100%|██████████| 50/50 [00:14<00:00,  3.55it/s]\n",
      "100%|██████████| 10/10 [00:02<00:00,  3.60it/s]\n",
      "  0%|          | 0/50 [00:00<?, ?it/s]"
     ]
    },
    {
     "name": "stdout",
     "output_type": "stream",
     "text": [
      "Done...\n"
     ]
    },
    {
     "name": "stderr",
     "output_type": "stream",
     "text": [
      "100%|██████████| 50/50 [00:21<00:00,  2.31it/s]\n",
      "100%|██████████| 10/10 [00:04<00:00,  2.30it/s]\n",
      "100%|██████████| 50/50 [00:26<00:00,  1.88it/s]\n",
      "100%|██████████| 10/10 [00:05<00:00,  1.87it/s]\n"
     ]
    },
    {
     "name": "stdout",
     "output_type": "stream",
     "text": [
      "Done...\n",
      "Pocessing ../../gnosis_checkpoints/uniform_inputs//synth_aug_0.0_cifar100_ts_soft_cross_ent_alpha_0.0_v0.0.10/['replace_with_uniform']_0.2/preresnet56_5-preresnet56_1/trial_2/2021-01-24_02-20-16\n",
      "Trial: 2\n",
      "Student:\n",
      "\tDepth: 56\n",
      "Teacher:\n",
      "\tDepth: 56\n",
      "\tNumber of components: 5\n"
     ]
    },
    {
     "name": "stderr",
     "output_type": "stream",
     "text": [
      "100%|██████████| 50/50 [00:08<00:00,  5.58it/s]\n",
      "100%|██████████| 10/10 [00:01<00:00,  5.58it/s]\n",
      "100%|██████████| 50/50 [00:13<00:00,  3.58it/s]\n",
      "100%|██████████| 10/10 [00:02<00:00,  3.60it/s]\n",
      "  0%|          | 0/50 [00:00<?, ?it/s]"
     ]
    },
    {
     "name": "stdout",
     "output_type": "stream",
     "text": [
      "Done...\n"
     ]
    },
    {
     "name": "stderr",
     "output_type": "stream",
     "text": [
      "100%|██████████| 50/50 [00:21<00:00,  2.31it/s]\n",
      "100%|██████████| 10/10 [00:04<00:00,  2.31it/s]\n",
      "100%|██████████| 50/50 [00:26<00:00,  1.88it/s]\n",
      "100%|██████████| 10/10 [00:05<00:00,  1.88it/s]\n"
     ]
    },
    {
     "name": "stdout",
     "output_type": "stream",
     "text": [
      "Done...\n",
      "Pocessing ../../gnosis_checkpoints/uniform_inputs//synth_aug_0.0_cifar100_ts_soft_cross_ent_alpha_0.0_v0.0.10/['replace_with_uniform']_0.2/preresnet56_5-preresnet56_1/trial_0/2021-01-24_02-20-16\n",
      "Trial: 0\n",
      "Student:\n",
      "\tDepth: 56\n",
      "Teacher:\n",
      "\tDepth: 56\n",
      "\tNumber of components: 5\n"
     ]
    },
    {
     "name": "stderr",
     "output_type": "stream",
     "text": [
      "100%|██████████| 50/50 [00:08<00:00,  5.58it/s]\n",
      "100%|██████████| 10/10 [00:01<00:00,  5.59it/s]\n",
      "100%|██████████| 50/50 [00:14<00:00,  3.57it/s]\n",
      "100%|██████████| 10/10 [00:02<00:00,  3.54it/s]\n",
      "  0%|          | 0/50 [00:00<?, ?it/s]"
     ]
    },
    {
     "name": "stdout",
     "output_type": "stream",
     "text": [
      "Done...\n"
     ]
    },
    {
     "name": "stderr",
     "output_type": "stream",
     "text": [
      "100%|██████████| 50/50 [00:21<00:00,  2.30it/s]\n",
      "100%|██████████| 10/10 [00:04<00:00,  2.30it/s]\n",
      "100%|██████████| 50/50 [00:26<00:00,  1.87it/s]\n",
      "100%|██████████| 10/10 [00:05<00:00,  1.88it/s]\n"
     ]
    },
    {
     "name": "stdout",
     "output_type": "stream",
     "text": [
      "Done...\n"
     ]
    }
   ],
   "source": [
    "base_dir = \"../../gnosis_checkpoints/uniform_inputs//\"\n",
    "process_all_subdirectories(base_dir, process_leaf_directory_fn)"
   ]
  },
  {
   "cell_type": "markdown",
   "id": "balanced-surfing",
   "metadata": {},
   "source": [
    "## Augmentation Ablation"
   ]
  },
  {
   "cell_type": "code",
   "execution_count": 49,
   "id": "hairy-prediction",
   "metadata": {},
   "outputs": [
    {
     "name": "stdout",
     "output_type": "stream",
     "text": [
      "Files already downloaded and verified\n",
      "Files already downloaded and verified\n",
      "Files already downloaded and verified\n",
      "Files already downloaded and verified\n",
      "Files already downloaded and verified\n",
      "Files already downloaded and verified\n",
      "Files already downloaded and verified\n",
      "Files already downloaded and verified\n"
     ]
    }
   ],
   "source": [
    "cj_train_loader, cj_test_loader = make_cifar100(\n",
    "    [torchvision.transforms.ColorJitter(brightness=0.2, contrast=0.2, saturation=0.2, hue=0.2), \n",
    "     torchvision.transforms.RandomCrop(32, 4), \n",
    "     torchvision.transforms.RandomHorizontalFlip()], [])\n",
    "\n",
    "vflip_train_loader, vflip_test_loader = make_cifar100(\n",
    "    [torchvision.transforms.RandomVerticalFlip(), \n",
    "     torchvision.transforms.RandomCrop(32, 4), \n",
    "     torchvision.transforms.RandomHorizontalFlip()], [])\n",
    "\n",
    "rot_train_loader, rot_test_loader = make_cifar100(\n",
    "    [torchvision.transforms.RandomRotation(degrees=20), \n",
    "     torchvision.transforms.RandomCrop(32, 4), \n",
    "     torchvision.transforms.RandomHorizontalFlip()], [])\n",
    "\n",
    "all_train_loader, all_test_loader = make_cifar100(\n",
    "    [torchvision.transforms.RandomRotation(degrees=20),\n",
    "     torchvision.transforms.RandomVerticalFlip(),\n",
    "     torchvision.transforms.ColorJitter(brightness=0.2, contrast=0.2, saturation=0.2, hue=0.2),\n",
    "     torchvision.transforms.RandomCrop(32, 4), \n",
    "     torchvision.transforms.RandomHorizontalFlip()], [])\n",
    "\n",
    "def get_aug_loaders(config):\n",
    "    if config[\"augmentation\"][\"transforms_list\"] == \"colorjitter,crop,horizontal_flip\":\n",
    "        return cj_train_loader, cj_test_loader\n",
    "    elif config[\"augmentation\"][\"transforms_list\"] == \"vertical_flip,crop,horizontal_flip\":\n",
    "        return vflip_train_loader, vflip_test_loader\n",
    "    elif config[\"augmentation\"][\"transforms_list\"] == \"rotation,crop,horizontal_flip\":\n",
    "        return rot_train_loader, rot_test_loader\n",
    "    elif config[\"augmentation\"][\"transforms_list\"] == \"rotation,vertical_flip,colorjitter,crop,horizontal_flip\":\n",
    "        return all_train_loader, all_test_loader\n",
    "    else:\n",
    "        print(config[\"augmentation\"][\"transforms_list\"])"
   ]
  },
  {
   "cell_type": "code",
   "execution_count": 50,
   "id": "effective-chase",
   "metadata": {},
   "outputs": [],
   "source": [
    "process_leaf_directory_fn = make_student_process_leaf_directory(\n",
    "    clean_train_loader, clean_test_loader, get_aug_loaders, recompute_existing=True)"
   ]
  },
  {
   "cell_type": "code",
   "execution_count": 51,
   "id": "alpha-diving",
   "metadata": {},
   "outputs": [
    {
     "name": "stdout",
     "output_type": "stream",
     "text": [
      "Pocessing ../../gnosis_checkpoints/aug_ablation/augmentations_colorjitter,crop,horizontal_flip_cifar100_ts_soft_cross_ent_v0.0.10/preresnet56_3-preresnet56_1/trial_1/2021-01-22_14-42-46\n",
      "Trial: 1\n",
      "Student:\n",
      "\tDepth: 56\n",
      "Teacher:\n",
      "\tDepth: 56\n",
      "\tNumber of components: 3\n"
     ]
    },
    {
     "name": "stderr",
     "output_type": "stream",
     "text": [
      "100%|██████████| 50/50 [00:09<00:00,  5.46it/s]\n",
      "100%|██████████| 10/10 [00:01<00:00,  5.51it/s]\n",
      "100%|██████████| 50/50 [00:31<00:00,  1.58it/s]\n",
      "100%|██████████| 10/10 [00:06<00:00,  1.57it/s]\n",
      "  0%|          | 0/50 [00:00<?, ?it/s]"
     ]
    },
    {
     "name": "stdout",
     "output_type": "stream",
     "text": [
      "Done...\n"
     ]
    },
    {
     "name": "stderr",
     "output_type": "stream",
     "text": [
      "100%|██████████| 50/50 [00:15<00:00,  3.21it/s]\n",
      "100%|██████████| 10/10 [00:03<00:00,  3.22it/s]\n",
      "100%|██████████| 50/50 [00:38<00:00,  1.31it/s]\n",
      "100%|██████████| 10/10 [00:07<00:00,  1.31it/s]\n"
     ]
    },
    {
     "name": "stdout",
     "output_type": "stream",
     "text": [
      "Done...\n",
      "Pocessing ../../gnosis_checkpoints/aug_ablation/augmentations_colorjitter,crop,horizontal_flip_cifar100_ts_soft_cross_ent_v0.0.10/preresnet56_3-preresnet56_1/trial_3/2021-01-22_14-42-46\n",
      "Trial: 3\n",
      "Student:\n",
      "\tDepth: 56\n"
     ]
    },
    {
     "name": "stderr",
     "output_type": "stream",
     "text": [
      "\r",
      "  0%|          | 0/50 [00:00<?, ?it/s]"
     ]
    },
    {
     "name": "stdout",
     "output_type": "stream",
     "text": [
      "Teacher:\n",
      "\tDepth: 56\n",
      "\tNumber of components: 3\n"
     ]
    },
    {
     "name": "stderr",
     "output_type": "stream",
     "text": [
      "100%|██████████| 50/50 [00:09<00:00,  5.45it/s]\n",
      "100%|██████████| 10/10 [00:01<00:00,  5.47it/s]\n",
      "100%|██████████| 50/50 [00:31<00:00,  1.57it/s]\n",
      "100%|██████████| 10/10 [00:06<00:00,  1.57it/s]\n",
      "  0%|          | 0/50 [00:00<?, ?it/s]"
     ]
    },
    {
     "name": "stdout",
     "output_type": "stream",
     "text": [
      "Done...\n"
     ]
    },
    {
     "name": "stderr",
     "output_type": "stream",
     "text": [
      "100%|██████████| 50/50 [00:15<00:00,  3.18it/s]\n",
      "100%|██████████| 10/10 [00:03<00:00,  3.18it/s]\n",
      "100%|██████████| 50/50 [00:38<00:00,  1.31it/s]\n",
      "100%|██████████| 10/10 [00:07<00:00,  1.31it/s]\n"
     ]
    },
    {
     "name": "stdout",
     "output_type": "stream",
     "text": [
      "Done...\n",
      "Pocessing ../../gnosis_checkpoints/aug_ablation/augmentations_colorjitter,crop,horizontal_flip_cifar100_ts_soft_cross_ent_v0.0.10/preresnet56_3-preresnet56_1/trial_2/2021-01-22_14-42-46\n",
      "Trial: 2\n",
      "Student:\n",
      "\tDepth: 56\n"
     ]
    },
    {
     "name": "stderr",
     "output_type": "stream",
     "text": [
      "\r",
      "  0%|          | 0/50 [00:00<?, ?it/s]"
     ]
    },
    {
     "name": "stdout",
     "output_type": "stream",
     "text": [
      "Teacher:\n",
      "\tDepth: 56\n",
      "\tNumber of components: 3\n"
     ]
    },
    {
     "name": "stderr",
     "output_type": "stream",
     "text": [
      "100%|██████████| 50/50 [00:09<00:00,  5.45it/s]\n",
      "100%|██████████| 10/10 [00:01<00:00,  5.48it/s]\n",
      "100%|██████████| 50/50 [00:31<00:00,  1.57it/s]\n",
      "100%|██████████| 10/10 [00:06<00:00,  1.55it/s]\n",
      "  0%|          | 0/50 [00:00<?, ?it/s]"
     ]
    },
    {
     "name": "stdout",
     "output_type": "stream",
     "text": [
      "Done...\n"
     ]
    },
    {
     "name": "stderr",
     "output_type": "stream",
     "text": [
      "100%|██████████| 50/50 [00:15<00:00,  3.15it/s]\n",
      "100%|██████████| 10/10 [00:03<00:00,  3.20it/s]\n",
      "100%|██████████| 50/50 [00:38<00:00,  1.30it/s]\n",
      "100%|██████████| 10/10 [00:07<00:00,  1.30it/s]\n"
     ]
    },
    {
     "name": "stdout",
     "output_type": "stream",
     "text": [
      "Done...\n",
      "Pocessing ../../gnosis_checkpoints/aug_ablation/augmentations_colorjitter,crop,horizontal_flip_cifar100_ts_soft_cross_ent_v0.0.10/preresnet56_1-preresnet56_1/trial_1/2021-01-22_14-42-46\n",
      "Trial: 1\n",
      "Student:\n",
      "\tDepth: 56\n"
     ]
    },
    {
     "name": "stderr",
     "output_type": "stream",
     "text": [
      "\r",
      "  0%|          | 0/50 [00:00<?, ?it/s]"
     ]
    },
    {
     "name": "stdout",
     "output_type": "stream",
     "text": [
      "Teacher:\n",
      "\tDepth: 56\n",
      "\tNumber of components: 1\n"
     ]
    },
    {
     "name": "stderr",
     "output_type": "stream",
     "text": [
      "100%|██████████| 50/50 [00:09<00:00,  5.46it/s]\n",
      "100%|██████████| 10/10 [00:01<00:00,  5.40it/s]\n",
      "100%|██████████| 50/50 [00:31<00:00,  1.58it/s]\n",
      "100%|██████████| 10/10 [00:06<00:00,  1.58it/s]\n",
      "  0%|          | 0/50 [00:00<?, ?it/s]"
     ]
    },
    {
     "name": "stdout",
     "output_type": "stream",
     "text": [
      "Done...\n"
     ]
    },
    {
     "name": "stderr",
     "output_type": "stream",
     "text": [
      "100%|██████████| 50/50 [00:09<00:00,  5.43it/s]\n",
      "100%|██████████| 10/10 [00:01<00:00,  5.50it/s]\n",
      "100%|██████████| 50/50 [00:31<00:00,  1.57it/s]\n",
      "100%|██████████| 10/10 [00:06<00:00,  1.57it/s]\n",
      "  0%|          | 0/50 [00:00<?, ?it/s]"
     ]
    },
    {
     "name": "stdout",
     "output_type": "stream",
     "text": [
      "Done...\n",
      "Pocessing ../../gnosis_checkpoints/aug_ablation/augmentations_colorjitter,crop,horizontal_flip_cifar100_ts_soft_cross_ent_v0.0.10/preresnet56_1-preresnet56_1/trial_3/2021-01-22_14-42-46\n",
      "Trial: 3\n",
      "Student:\n",
      "\tDepth: 56\n",
      "Teacher:\n",
      "\tDepth: 56\n",
      "\tNumber of components: 1\n"
     ]
    },
    {
     "name": "stderr",
     "output_type": "stream",
     "text": [
      "100%|██████████| 50/50 [00:09<00:00,  5.47it/s]\n",
      "100%|██████████| 10/10 [00:01<00:00,  5.49it/s]\n",
      "100%|██████████| 50/50 [00:31<00:00,  1.57it/s]\n",
      "100%|██████████| 10/10 [00:06<00:00,  1.57it/s]\n",
      "  0%|          | 0/50 [00:00<?, ?it/s]"
     ]
    },
    {
     "name": "stdout",
     "output_type": "stream",
     "text": [
      "Done...\n"
     ]
    },
    {
     "name": "stderr",
     "output_type": "stream",
     "text": [
      "100%|██████████| 50/50 [00:09<00:00,  5.45it/s]\n",
      "100%|██████████| 10/10 [00:01<00:00,  5.49it/s]\n",
      "100%|██████████| 50/50 [00:31<00:00,  1.57it/s]\n",
      "100%|██████████| 10/10 [00:06<00:00,  1.55it/s]\n",
      "  0%|          | 0/50 [00:00<?, ?it/s]"
     ]
    },
    {
     "name": "stdout",
     "output_type": "stream",
     "text": [
      "Done...\n",
      "Pocessing ../../gnosis_checkpoints/aug_ablation/augmentations_colorjitter,crop,horizontal_flip_cifar100_ts_soft_cross_ent_v0.0.10/preresnet56_1-preresnet56_1/trial_2/2021-01-22_14-42-46\n",
      "Trial: 2\n",
      "Student:\n",
      "\tDepth: 56\n",
      "Teacher:\n",
      "\tDepth: 56\n",
      "\tNumber of components: 1\n"
     ]
    },
    {
     "name": "stderr",
     "output_type": "stream",
     "text": [
      "100%|██████████| 50/50 [00:09<00:00,  5.44it/s]\n",
      "100%|██████████| 10/10 [00:01<00:00,  5.47it/s]\n",
      "100%|██████████| 50/50 [00:32<00:00,  1.54it/s]\n",
      "100%|██████████| 10/10 [00:06<00:00,  1.55it/s]\n",
      "  0%|          | 0/50 [00:00<?, ?it/s]"
     ]
    },
    {
     "name": "stdout",
     "output_type": "stream",
     "text": [
      "Done...\n"
     ]
    },
    {
     "name": "stderr",
     "output_type": "stream",
     "text": [
      "100%|██████████| 50/50 [00:09<00:00,  5.40it/s]\n",
      "100%|██████████| 10/10 [00:01<00:00,  5.43it/s]\n",
      "100%|██████████| 50/50 [00:32<00:00,  1.56it/s]\n",
      "100%|██████████| 10/10 [00:06<00:00,  1.56it/s]\n"
     ]
    },
    {
     "name": "stdout",
     "output_type": "stream",
     "text": [
      "Done...\n",
      "Pocessing ../../gnosis_checkpoints/aug_ablation/augmentations_colorjitter,crop,horizontal_flip_cifar100_ts_soft_cross_ent_v0.0.10/preresnet56_5-preresnet56_1/trial_1/2021-01-22_14-42-46\n",
      "Trial: 1\n",
      "Student:\n",
      "\tDepth: 56\n",
      "Teacher:\n",
      "\tDepth: 56\n",
      "\tNumber of components: 5\n"
     ]
    },
    {
     "name": "stderr",
     "output_type": "stream",
     "text": [
      "100%|██████████| 50/50 [00:09<00:00,  5.43it/s]\n",
      "100%|██████████| 10/10 [00:01<00:00,  5.47it/s]\n",
      "100%|██████████| 50/50 [00:31<00:00,  1.56it/s]\n",
      "100%|██████████| 10/10 [00:06<00:00,  1.55it/s]\n",
      "  0%|          | 0/50 [00:00<?, ?it/s]"
     ]
    },
    {
     "name": "stdout",
     "output_type": "stream",
     "text": [
      "Done...\n"
     ]
    },
    {
     "name": "stderr",
     "output_type": "stream",
     "text": [
      "100%|██████████| 50/50 [00:22<00:00,  2.25it/s]\n",
      "100%|██████████| 10/10 [00:04<00:00,  2.26it/s]\n",
      "100%|██████████| 50/50 [00:44<00:00,  1.12it/s]\n",
      "100%|██████████| 10/10 [00:09<00:00,  1.11it/s]\n"
     ]
    },
    {
     "name": "stdout",
     "output_type": "stream",
     "text": [
      "Done...\n",
      "Pocessing ../../gnosis_checkpoints/aug_ablation/augmentations_colorjitter,crop,horizontal_flip_cifar100_ts_soft_cross_ent_v0.0.10/preresnet56_5-preresnet56_1/trial_3/2021-01-22_14-42-46\n",
      "Trial: 3\n",
      "Student:\n",
      "\tDepth: 56\n",
      "Teacher:\n",
      "\tDepth: 56\n",
      "\tNumber of components: 5\n"
     ]
    },
    {
     "name": "stderr",
     "output_type": "stream",
     "text": [
      "100%|██████████| 50/50 [00:09<00:00,  5.46it/s]\n",
      "100%|██████████| 10/10 [00:01<00:00,  5.46it/s]\n",
      "100%|██████████| 50/50 [00:31<00:00,  1.57it/s]\n",
      "100%|██████████| 10/10 [00:06<00:00,  1.56it/s]\n",
      "  0%|          | 0/50 [00:00<?, ?it/s]"
     ]
    },
    {
     "name": "stdout",
     "output_type": "stream",
     "text": [
      "Done...\n"
     ]
    },
    {
     "name": "stderr",
     "output_type": "stream",
     "text": [
      "100%|██████████| 50/50 [00:22<00:00,  2.26it/s]\n",
      "100%|██████████| 10/10 [00:04<00:00,  2.26it/s]\n",
      "100%|██████████| 50/50 [00:44<00:00,  1.12it/s]\n",
      "100%|██████████| 10/10 [00:08<00:00,  1.12it/s]\n"
     ]
    },
    {
     "name": "stdout",
     "output_type": "stream",
     "text": [
      "Done...\n",
      "Pocessing ../../gnosis_checkpoints/aug_ablation/augmentations_colorjitter,crop,horizontal_flip_cifar100_ts_soft_cross_ent_v0.0.10/preresnet56_5-preresnet56_1/trial_2/2021-01-22_14-42-46\n",
      "Trial: 2\n",
      "Student:\n",
      "\tDepth: 56\n",
      "Teacher:\n",
      "\tDepth: 56\n",
      "\tNumber of components: 5\n"
     ]
    },
    {
     "name": "stderr",
     "output_type": "stream",
     "text": [
      "100%|██████████| 50/50 [00:09<00:00,  5.55it/s]\n",
      "100%|██████████| 10/10 [00:01<00:00,  5.56it/s]\n",
      "100%|██████████| 50/50 [00:31<00:00,  1.57it/s]\n",
      "100%|██████████| 10/10 [00:06<00:00,  1.56it/s]\n",
      "  0%|          | 0/50 [00:00<?, ?it/s]"
     ]
    },
    {
     "name": "stdout",
     "output_type": "stream",
     "text": [
      "Done...\n"
     ]
    },
    {
     "name": "stderr",
     "output_type": "stream",
     "text": [
      "100%|██████████| 50/50 [00:21<00:00,  2.29it/s]\n",
      "100%|██████████| 10/10 [00:04<00:00,  2.30it/s]\n",
      "100%|██████████| 50/50 [00:44<00:00,  1.13it/s]\n",
      "100%|██████████| 10/10 [00:08<00:00,  1.12it/s]\n"
     ]
    },
    {
     "name": "stdout",
     "output_type": "stream",
     "text": [
      "Done...\n",
      "Pocessing ../../gnosis_checkpoints/aug_ablation/augmentations_vertical_flip,crop,horizontal_flip_cifar100_ts_soft_cross_ent_v0.0.10/preresnet56_3-preresnet56_1/trial_1/2021-01-22_14-42-46\n",
      "Trial: 1\n",
      "Student:\n",
      "\tDepth: 56\n",
      "Teacher:\n",
      "\tDepth: 56\n",
      "\tNumber of components: 3\n"
     ]
    },
    {
     "name": "stderr",
     "output_type": "stream",
     "text": [
      "100%|██████████| 50/50 [00:09<00:00,  5.51it/s]\n",
      "100%|██████████| 10/10 [00:01<00:00,  5.54it/s]\n",
      "100%|██████████| 50/50 [00:13<00:00,  3.60it/s]\n",
      "100%|██████████| 10/10 [00:02<00:00,  3.59it/s]\n",
      "  0%|          | 0/50 [00:00<?, ?it/s]"
     ]
    },
    {
     "name": "stdout",
     "output_type": "stream",
     "text": [
      "Done...\n"
     ]
    },
    {
     "name": "stderr",
     "output_type": "stream",
     "text": [
      "100%|██████████| 50/50 [00:15<00:00,  3.24it/s]\n",
      "100%|██████████| 10/10 [00:03<00:00,  3.26it/s]\n",
      "100%|██████████| 50/50 [00:20<00:00,  2.49it/s]\n",
      "100%|██████████| 10/10 [00:04<00:00,  2.48it/s]\n"
     ]
    },
    {
     "name": "stdout",
     "output_type": "stream",
     "text": [
      "Done...\n",
      "Pocessing ../../gnosis_checkpoints/aug_ablation/augmentations_vertical_flip,crop,horizontal_flip_cifar100_ts_soft_cross_ent_v0.0.10/preresnet56_3-preresnet56_1/trial_3/2021-01-22_14-42-46\n",
      "Trial: 3\n",
      "Student:\n",
      "\tDepth: 56\n"
     ]
    },
    {
     "name": "stderr",
     "output_type": "stream",
     "text": [
      "\r",
      "  0%|          | 0/50 [00:00<?, ?it/s]"
     ]
    },
    {
     "name": "stdout",
     "output_type": "stream",
     "text": [
      "Teacher:\n",
      "\tDepth: 56\n",
      "\tNumber of components: 3\n"
     ]
    },
    {
     "name": "stderr",
     "output_type": "stream",
     "text": [
      "100%|██████████| 50/50 [00:09<00:00,  5.54it/s]\n",
      "100%|██████████| 10/10 [00:01<00:00,  5.41it/s]\n",
      "100%|██████████| 50/50 [00:13<00:00,  3.58it/s]\n",
      "100%|██████████| 10/10 [00:02<00:00,  3.56it/s]\n",
      "  0%|          | 0/50 [00:00<?, ?it/s]"
     ]
    },
    {
     "name": "stdout",
     "output_type": "stream",
     "text": [
      "Done...\n"
     ]
    },
    {
     "name": "stderr",
     "output_type": "stream",
     "text": [
      "100%|██████████| 50/50 [00:15<00:00,  3.19it/s]\n",
      "100%|██████████| 10/10 [00:03<00:00,  3.07it/s]\n",
      "100%|██████████| 50/50 [00:21<00:00,  2.35it/s]\n",
      "100%|██████████| 10/10 [00:04<00:00,  2.44it/s]\n"
     ]
    },
    {
     "name": "stdout",
     "output_type": "stream",
     "text": [
      "Done...\n",
      "Pocessing ../../gnosis_checkpoints/aug_ablation/augmentations_vertical_flip,crop,horizontal_flip_cifar100_ts_soft_cross_ent_v0.0.10/preresnet56_3-preresnet56_1/trial_2/2021-01-22_14-42-46\n",
      "Trial: 2\n",
      "Student:\n",
      "\tDepth: 56\n"
     ]
    },
    {
     "name": "stderr",
     "output_type": "stream",
     "text": [
      "\r",
      "  0%|          | 0/50 [00:00<?, ?it/s]"
     ]
    },
    {
     "name": "stdout",
     "output_type": "stream",
     "text": [
      "Teacher:\n",
      "\tDepth: 56\n",
      "\tNumber of components: 3\n"
     ]
    },
    {
     "name": "stderr",
     "output_type": "stream",
     "text": [
      "100%|██████████| 50/50 [00:09<00:00,  5.42it/s]\n",
      "100%|██████████| 10/10 [00:01<00:00,  5.40it/s]\n",
      "100%|██████████| 50/50 [00:14<00:00,  3.43it/s]\n",
      "100%|██████████| 10/10 [00:02<00:00,  3.46it/s]\n",
      "  0%|          | 0/50 [00:00<?, ?it/s]"
     ]
    },
    {
     "name": "stdout",
     "output_type": "stream",
     "text": [
      "Done...\n"
     ]
    },
    {
     "name": "stderr",
     "output_type": "stream",
     "text": [
      "100%|██████████| 50/50 [00:15<00:00,  3.13it/s]\n",
      "100%|██████████| 10/10 [00:03<00:00,  3.15it/s]\n",
      "100%|██████████| 50/50 [00:21<00:00,  2.35it/s]\n",
      "100%|██████████| 10/10 [00:04<00:00,  2.42it/s]\n"
     ]
    },
    {
     "name": "stdout",
     "output_type": "stream",
     "text": [
      "Done...\n",
      "Pocessing ../../gnosis_checkpoints/aug_ablation/augmentations_vertical_flip,crop,horizontal_flip_cifar100_ts_soft_cross_ent_v0.0.10/preresnet56_1-preresnet56_1/trial_1/2021-01-22_14-42-46\n",
      "Trial: 1\n",
      "Student:\n",
      "\tDepth: 56\n"
     ]
    },
    {
     "name": "stderr",
     "output_type": "stream",
     "text": [
      "\r",
      "  0%|          | 0/50 [00:00<?, ?it/s]"
     ]
    },
    {
     "name": "stdout",
     "output_type": "stream",
     "text": [
      "Teacher:\n",
      "\tDepth: 56\n",
      "\tNumber of components: 1\n"
     ]
    },
    {
     "name": "stderr",
     "output_type": "stream",
     "text": [
      "100%|██████████| 50/50 [00:09<00:00,  5.39it/s]\n",
      "100%|██████████| 10/10 [00:01<00:00,  5.41it/s]\n",
      "100%|██████████| 50/50 [00:14<00:00,  3.46it/s]\n",
      "100%|██████████| 10/10 [00:02<00:00,  3.41it/s]\n",
      "  0%|          | 0/50 [00:00<?, ?it/s]"
     ]
    },
    {
     "name": "stdout",
     "output_type": "stream",
     "text": [
      "Done...\n"
     ]
    },
    {
     "name": "stderr",
     "output_type": "stream",
     "text": [
      "100%|██████████| 50/50 [00:09<00:00,  5.02it/s]\n",
      "100%|██████████| 10/10 [00:01<00:00,  5.11it/s]\n",
      "100%|██████████| 50/50 [00:14<00:00,  3.40it/s]\n",
      "100%|██████████| 10/10 [00:03<00:00,  3.26it/s]\n",
      "  0%|          | 0/50 [00:00<?, ?it/s]"
     ]
    },
    {
     "name": "stdout",
     "output_type": "stream",
     "text": [
      "Done...\n",
      "Pocessing ../../gnosis_checkpoints/aug_ablation/augmentations_vertical_flip,crop,horizontal_flip_cifar100_ts_soft_cross_ent_v0.0.10/preresnet56_1-preresnet56_1/trial_3/2021-01-22_14-42-46\n",
      "Trial: 3\n",
      "Student:\n",
      "\tDepth: 56\n",
      "Teacher:\n",
      "\tDepth: 56\n",
      "\tNumber of components: 1\n"
     ]
    },
    {
     "name": "stderr",
     "output_type": "stream",
     "text": [
      "100%|██████████| 50/50 [00:09<00:00,  5.24it/s]\n",
      "100%|██████████| 10/10 [00:01<00:00,  5.28it/s]\n",
      "100%|██████████| 50/50 [00:14<00:00,  3.39it/s]\n",
      "100%|██████████| 10/10 [00:02<00:00,  3.43it/s]\n",
      "  0%|          | 0/50 [00:00<?, ?it/s]"
     ]
    },
    {
     "name": "stdout",
     "output_type": "stream",
     "text": [
      "Done...\n"
     ]
    },
    {
     "name": "stderr",
     "output_type": "stream",
     "text": [
      "100%|██████████| 50/50 [00:09<00:00,  5.25it/s]\n",
      "100%|██████████| 10/10 [00:01<00:00,  5.27it/s]\n",
      "100%|██████████| 50/50 [00:14<00:00,  3.41it/s]\n",
      "100%|██████████| 10/10 [00:02<00:00,  3.45it/s]\n",
      "  0%|          | 0/50 [00:00<?, ?it/s]"
     ]
    },
    {
     "name": "stdout",
     "output_type": "stream",
     "text": [
      "Done...\n",
      "Pocessing ../../gnosis_checkpoints/aug_ablation/augmentations_vertical_flip,crop,horizontal_flip_cifar100_ts_soft_cross_ent_v0.0.10/preresnet56_1-preresnet56_1/trial_2/2021-01-22_14-42-46\n",
      "Trial: 2\n",
      "Student:\n",
      "\tDepth: 56\n",
      "Teacher:\n",
      "\tDepth: 56\n",
      "\tNumber of components: 1\n"
     ]
    },
    {
     "name": "stderr",
     "output_type": "stream",
     "text": [
      "100%|██████████| 50/50 [00:09<00:00,  5.30it/s]\n",
      "100%|██████████| 10/10 [00:01<00:00,  5.27it/s]\n",
      "100%|██████████| 50/50 [00:14<00:00,  3.43it/s]\n",
      "100%|██████████| 10/10 [00:02<00:00,  3.42it/s]\n",
      "  0%|          | 0/50 [00:00<?, ?it/s]"
     ]
    },
    {
     "name": "stdout",
     "output_type": "stream",
     "text": [
      "Done...\n"
     ]
    },
    {
     "name": "stderr",
     "output_type": "stream",
     "text": [
      "100%|██████████| 50/50 [00:09<00:00,  5.27it/s]\n",
      "100%|██████████| 10/10 [00:01<00:00,  5.25it/s]\n",
      "100%|██████████| 50/50 [00:14<00:00,  3.41it/s]\n",
      "100%|██████████| 10/10 [00:02<00:00,  3.36it/s]\n"
     ]
    },
    {
     "name": "stdout",
     "output_type": "stream",
     "text": [
      "Done...\n",
      "Pocessing ../../gnosis_checkpoints/aug_ablation/augmentations_vertical_flip,crop,horizontal_flip_cifar100_ts_soft_cross_ent_v0.0.10/preresnet56_5-preresnet56_1/trial_1/2021-01-22_14-42-46\n",
      "Trial: 1\n",
      "Student:\n",
      "\tDepth: 56\n",
      "Teacher:\n",
      "\tDepth: 56\n",
      "\tNumber of components: 5\n"
     ]
    },
    {
     "name": "stderr",
     "output_type": "stream",
     "text": [
      "100%|██████████| 50/50 [00:09<00:00,  5.16it/s]\n",
      "100%|██████████| 10/10 [00:01<00:00,  5.36it/s]\n",
      "100%|██████████| 50/50 [00:14<00:00,  3.44it/s]\n",
      "100%|██████████| 10/10 [00:03<00:00,  3.33it/s]\n",
      "  0%|          | 0/50 [00:00<?, ?it/s]"
     ]
    },
    {
     "name": "stdout",
     "output_type": "stream",
     "text": [
      "Done...\n"
     ]
    },
    {
     "name": "stderr",
     "output_type": "stream",
     "text": [
      "100%|██████████| 50/50 [00:22<00:00,  2.21it/s]\n",
      "100%|██████████| 10/10 [00:04<00:00,  2.20it/s]\n",
      "100%|██████████| 50/50 [00:27<00:00,  1.79it/s]\n",
      "100%|██████████| 10/10 [00:05<00:00,  1.79it/s]\n"
     ]
    },
    {
     "name": "stdout",
     "output_type": "stream",
     "text": [
      "Done...\n",
      "Pocessing ../../gnosis_checkpoints/aug_ablation/augmentations_vertical_flip,crop,horizontal_flip_cifar100_ts_soft_cross_ent_v0.0.10/preresnet56_5-preresnet56_1/trial_3/2021-01-22_14-42-46\n",
      "Trial: 3\n",
      "Student:\n",
      "\tDepth: 56\n",
      "Teacher:\n",
      "\tDepth: 56\n",
      "\tNumber of components: 5\n"
     ]
    },
    {
     "name": "stderr",
     "output_type": "stream",
     "text": [
      "100%|██████████| 50/50 [00:09<00:00,  5.26it/s]\n",
      "100%|██████████| 10/10 [00:01<00:00,  5.04it/s]\n",
      "100%|██████████| 50/50 [00:14<00:00,  3.39it/s]\n",
      "100%|██████████| 10/10 [00:02<00:00,  3.34it/s]\n",
      "  0%|          | 0/50 [00:00<?, ?it/s]"
     ]
    },
    {
     "name": "stdout",
     "output_type": "stream",
     "text": [
      "Done...\n"
     ]
    },
    {
     "name": "stderr",
     "output_type": "stream",
     "text": [
      "100%|██████████| 50/50 [00:23<00:00,  2.12it/s]\n",
      "100%|██████████| 10/10 [00:04<00:00,  2.09it/s]\n",
      "100%|██████████| 50/50 [00:28<00:00,  1.74it/s]\n",
      "100%|██████████| 10/10 [00:05<00:00,  1.83it/s]\n"
     ]
    },
    {
     "name": "stdout",
     "output_type": "stream",
     "text": [
      "Done...\n",
      "Pocessing ../../gnosis_checkpoints/aug_ablation/augmentations_vertical_flip,crop,horizontal_flip_cifar100_ts_soft_cross_ent_v0.0.10/preresnet56_5-preresnet56_1/trial_2/2021-01-22_14-42-46\n",
      "Trial: 2\n",
      "Student:\n",
      "\tDepth: 56\n",
      "Teacher:\n",
      "\tDepth: 56\n",
      "\tNumber of components: 5\n"
     ]
    },
    {
     "name": "stderr",
     "output_type": "stream",
     "text": [
      "100%|██████████| 50/50 [00:09<00:00,  5.38it/s]\n",
      "100%|██████████| 10/10 [00:01<00:00,  5.40it/s]\n",
      "100%|██████████| 50/50 [00:14<00:00,  3.49it/s]\n",
      "100%|██████████| 10/10 [00:02<00:00,  3.52it/s]\n",
      "  0%|          | 0/50 [00:00<?, ?it/s]"
     ]
    },
    {
     "name": "stdout",
     "output_type": "stream",
     "text": [
      "Done...\n"
     ]
    },
    {
     "name": "stderr",
     "output_type": "stream",
     "text": [
      "100%|██████████| 50/50 [00:22<00:00,  2.18it/s]\n",
      "100%|██████████| 10/10 [00:04<00:00,  2.21it/s]\n",
      "100%|██████████| 50/50 [00:28<00:00,  1.73it/s]\n",
      "100%|██████████| 10/10 [00:05<00:00,  1.74it/s]\n"
     ]
    },
    {
     "name": "stdout",
     "output_type": "stream",
     "text": [
      "Done...\n",
      "Pocessing ../../gnosis_checkpoints/aug_ablation/augmentations_rotation,vertical_flip,colorjitter,crop,horizontal_flip_cifar100_ts_soft_cross_ent_v0.0.10/preresnet56_3-preresnet56_1/trial_1/2021-01-22_14-42-46\n",
      "Trial: 1\n",
      "Student:\n",
      "\tDepth: 56\n",
      "Teacher:\n",
      "\tDepth: 56\n",
      "\tNumber of components: 3\n"
     ]
    },
    {
     "name": "stderr",
     "output_type": "stream",
     "text": [
      "100%|██████████| 50/50 [00:09<00:00,  5.18it/s]\n",
      "100%|██████████| 10/10 [00:01<00:00,  5.29it/s]\n",
      "100%|██████████| 50/50 [00:37<00:00,  1.35it/s]\n",
      "100%|██████████| 10/10 [00:07<00:00,  1.35it/s]\n",
      "  0%|          | 0/50 [00:00<?, ?it/s]"
     ]
    },
    {
     "name": "stdout",
     "output_type": "stream",
     "text": [
      "Done...\n"
     ]
    },
    {
     "name": "stderr",
     "output_type": "stream",
     "text": [
      "100%|██████████| 50/50 [00:16<00:00,  3.02it/s]\n",
      "100%|██████████| 10/10 [00:03<00:00,  3.03it/s]\n",
      "100%|██████████| 50/50 [00:43<00:00,  1.15it/s]\n",
      "100%|██████████| 10/10 [00:08<00:00,  1.12it/s]\n"
     ]
    },
    {
     "name": "stdout",
     "output_type": "stream",
     "text": [
      "Done...\n",
      "Pocessing ../../gnosis_checkpoints/aug_ablation/augmentations_rotation,vertical_flip,colorjitter,crop,horizontal_flip_cifar100_ts_soft_cross_ent_v0.0.10/preresnet56_3-preresnet56_1/trial_3/2021-01-22_14-42-46\n",
      "Trial: 3\n",
      "Student:\n",
      "\tDepth: 56\n",
      "Teacher:\n",
      "\tDepth: 56\n",
      "\tNumber of components: 3\n"
     ]
    },
    {
     "name": "stderr",
     "output_type": "stream",
     "text": [
      "100%|██████████| 50/50 [00:09<00:00,  5.18it/s]\n",
      "100%|██████████| 10/10 [00:01<00:00,  5.19it/s]\n",
      "100%|██████████| 50/50 [00:36<00:00,  1.38it/s]\n",
      "100%|██████████| 10/10 [00:07<00:00,  1.34it/s]\n",
      "  0%|          | 0/50 [00:00<?, ?it/s]"
     ]
    },
    {
     "name": "stdout",
     "output_type": "stream",
     "text": [
      "Done...\n"
     ]
    },
    {
     "name": "stderr",
     "output_type": "stream",
     "text": [
      "100%|██████████| 50/50 [00:16<00:00,  2.97it/s]\n",
      "100%|██████████| 10/10 [00:03<00:00,  2.95it/s]\n",
      "100%|██████████| 50/50 [00:43<00:00,  1.14it/s]\n",
      "100%|██████████| 10/10 [00:08<00:00,  1.13it/s]\n"
     ]
    },
    {
     "name": "stdout",
     "output_type": "stream",
     "text": [
      "Done...\n",
      "Pocessing ../../gnosis_checkpoints/aug_ablation/augmentations_rotation,vertical_flip,colorjitter,crop,horizontal_flip_cifar100_ts_soft_cross_ent_v0.0.10/preresnet56_3-preresnet56_1/trial_2/2021-01-22_14-42-46\n",
      "Trial: 2\n",
      "Student:\n",
      "\tDepth: 56\n"
     ]
    },
    {
     "name": "stderr",
     "output_type": "stream",
     "text": [
      "\r",
      "  0%|          | 0/50 [00:00<?, ?it/s]"
     ]
    },
    {
     "name": "stdout",
     "output_type": "stream",
     "text": [
      "Teacher:\n",
      "\tDepth: 56\n",
      "\tNumber of components: 3\n"
     ]
    },
    {
     "name": "stderr",
     "output_type": "stream",
     "text": [
      "100%|██████████| 50/50 [00:09<00:00,  5.05it/s]\n",
      "100%|██████████| 10/10 [00:01<00:00,  5.33it/s]\n",
      "100%|██████████| 50/50 [00:35<00:00,  1.40it/s]\n",
      "100%|██████████| 10/10 [00:07<00:00,  1.40it/s]\n",
      "  0%|          | 0/50 [00:00<?, ?it/s]"
     ]
    },
    {
     "name": "stdout",
     "output_type": "stream",
     "text": [
      "Done...\n"
     ]
    },
    {
     "name": "stderr",
     "output_type": "stream",
     "text": [
      "100%|██████████| 50/50 [00:15<00:00,  3.17it/s]\n",
      "100%|██████████| 10/10 [00:03<00:00,  3.19it/s]\n",
      "100%|██████████| 50/50 [00:41<00:00,  1.21it/s]\n",
      "100%|██████████| 10/10 [00:08<00:00,  1.21it/s]\n"
     ]
    },
    {
     "name": "stdout",
     "output_type": "stream",
     "text": [
      "Done...\n",
      "Pocessing ../../gnosis_checkpoints/aug_ablation/augmentations_rotation,vertical_flip,colorjitter,crop,horizontal_flip_cifar100_ts_soft_cross_ent_v0.0.10/preresnet56_1-preresnet56_1/trial_1/2021-01-22_14-42-46\n",
      "Trial: 1\n",
      "Student:\n",
      "\tDepth: 56\n"
     ]
    },
    {
     "name": "stderr",
     "output_type": "stream",
     "text": [
      "\r",
      "  0%|          | 0/50 [00:00<?, ?it/s]"
     ]
    },
    {
     "name": "stdout",
     "output_type": "stream",
     "text": [
      "Teacher:\n",
      "\tDepth: 56\n",
      "\tNumber of components: 1\n"
     ]
    },
    {
     "name": "stderr",
     "output_type": "stream",
     "text": [
      "100%|██████████| 50/50 [00:09<00:00,  5.34it/s]\n",
      "100%|██████████| 10/10 [00:01<00:00,  5.37it/s]\n",
      "100%|██████████| 50/50 [00:34<00:00,  1.43it/s]\n",
      "100%|██████████| 10/10 [00:06<00:00,  1.43it/s]\n",
      "  0%|          | 0/50 [00:00<?, ?it/s]"
     ]
    },
    {
     "name": "stdout",
     "output_type": "stream",
     "text": [
      "Done...\n"
     ]
    },
    {
     "name": "stderr",
     "output_type": "stream",
     "text": [
      "100%|██████████| 50/50 [00:09<00:00,  5.44it/s]\n",
      "100%|██████████| 10/10 [00:01<00:00,  5.48it/s]\n",
      "100%|██████████| 50/50 [00:34<00:00,  1.43it/s]\n",
      "100%|██████████| 10/10 [00:07<00:00,  1.41it/s]\n",
      "  0%|          | 0/50 [00:00<?, ?it/s]"
     ]
    },
    {
     "name": "stdout",
     "output_type": "stream",
     "text": [
      "Done...\n",
      "Pocessing ../../gnosis_checkpoints/aug_ablation/augmentations_rotation,vertical_flip,colorjitter,crop,horizontal_flip_cifar100_ts_soft_cross_ent_v0.0.10/preresnet56_1-preresnet56_1/trial_3/2021-01-22_14-42-46\n",
      "Trial: 3\n",
      "Student:\n",
      "\tDepth: 56\n",
      "Teacher:\n",
      "\tDepth: 56\n",
      "\tNumber of components: 1\n"
     ]
    },
    {
     "name": "stderr",
     "output_type": "stream",
     "text": [
      "100%|██████████| 50/50 [00:09<00:00,  5.25it/s]\n",
      "100%|██████████| 10/10 [00:01<00:00,  5.36it/s]\n",
      "100%|██████████| 50/50 [00:35<00:00,  1.41it/s]\n",
      "100%|██████████| 10/10 [00:07<00:00,  1.41it/s]\n",
      "  0%|          | 0/50 [00:00<?, ?it/s]"
     ]
    },
    {
     "name": "stdout",
     "output_type": "stream",
     "text": [
      "Done...\n"
     ]
    },
    {
     "name": "stderr",
     "output_type": "stream",
     "text": [
      "100%|██████████| 50/50 [00:09<00:00,  5.26it/s]\n",
      "100%|██████████| 10/10 [00:01<00:00,  5.41it/s]\n",
      "100%|██████████| 50/50 [00:35<00:00,  1.40it/s]\n",
      "100%|██████████| 10/10 [00:07<00:00,  1.40it/s]\n",
      "  0%|          | 0/50 [00:00<?, ?it/s]"
     ]
    },
    {
     "name": "stdout",
     "output_type": "stream",
     "text": [
      "Done...\n",
      "Pocessing ../../gnosis_checkpoints/aug_ablation/augmentations_rotation,vertical_flip,colorjitter,crop,horizontal_flip_cifar100_ts_soft_cross_ent_v0.0.10/preresnet56_1-preresnet56_1/trial_2/2021-01-22_14-42-46\n",
      "Trial: 2\n",
      "Student:\n",
      "\tDepth: 56\n",
      "Teacher:\n",
      "\tDepth: 56\n",
      "\tNumber of components: 1\n"
     ]
    },
    {
     "name": "stderr",
     "output_type": "stream",
     "text": [
      "100%|██████████| 50/50 [00:09<00:00,  5.36it/s]\n",
      "100%|██████████| 10/10 [00:01<00:00,  5.41it/s]\n",
      "100%|██████████| 50/50 [00:36<00:00,  1.37it/s]\n",
      "100%|██████████| 10/10 [00:07<00:00,  1.38it/s]\n",
      "  0%|          | 0/50 [00:00<?, ?it/s]"
     ]
    },
    {
     "name": "stdout",
     "output_type": "stream",
     "text": [
      "Done...\n"
     ]
    },
    {
     "name": "stderr",
     "output_type": "stream",
     "text": [
      "100%|██████████| 50/50 [00:09<00:00,  5.26it/s]\n",
      "100%|██████████| 10/10 [00:01<00:00,  5.21it/s]\n",
      "100%|██████████| 50/50 [00:36<00:00,  1.39it/s]\n",
      "100%|██████████| 10/10 [00:07<00:00,  1.40it/s]\n"
     ]
    },
    {
     "name": "stdout",
     "output_type": "stream",
     "text": [
      "Done...\n",
      "Pocessing ../../gnosis_checkpoints/aug_ablation/augmentations_rotation,vertical_flip,colorjitter,crop,horizontal_flip_cifar100_ts_soft_cross_ent_v0.0.10/preresnet56_5-preresnet56_1/trial_1/2021-01-22_14-42-46\n",
      "Trial: 1\n",
      "Student:\n",
      "\tDepth: 56\n",
      "Teacher:\n",
      "\tDepth: 56\n",
      "\tNumber of components: 5\n"
     ]
    },
    {
     "name": "stderr",
     "output_type": "stream",
     "text": [
      "100%|██████████| 50/50 [00:09<00:00,  5.29it/s]\n",
      "100%|██████████| 10/10 [00:01<00:00,  5.27it/s]\n",
      "100%|██████████| 50/50 [00:35<00:00,  1.40it/s]\n",
      "100%|██████████| 10/10 [00:07<00:00,  1.37it/s]\n",
      "  0%|          | 0/50 [00:00<?, ?it/s]"
     ]
    },
    {
     "name": "stdout",
     "output_type": "stream",
     "text": [
      "Done...\n"
     ]
    },
    {
     "name": "stderr",
     "output_type": "stream",
     "text": [
      "100%|██████████| 50/50 [00:23<00:00,  2.16it/s]\n",
      "100%|██████████| 10/10 [00:04<00:00,  2.17it/s]\n",
      "100%|██████████| 50/50 [00:49<00:00,  1.01it/s]\n",
      "100%|██████████| 10/10 [00:09<00:00,  1.01it/s]\n"
     ]
    },
    {
     "name": "stdout",
     "output_type": "stream",
     "text": [
      "Done...\n",
      "Pocessing ../../gnosis_checkpoints/aug_ablation/augmentations_rotation,vertical_flip,colorjitter,crop,horizontal_flip_cifar100_ts_soft_cross_ent_v0.0.10/preresnet56_5-preresnet56_1/trial_3/2021-01-22_14-42-46\n",
      "Trial: 3\n",
      "Student:\n",
      "\tDepth: 56\n",
      "Teacher:\n",
      "\tDepth: 56\n",
      "\tNumber of components: 5\n"
     ]
    },
    {
     "name": "stderr",
     "output_type": "stream",
     "text": [
      "100%|██████████| 50/50 [00:09<00:00,  5.31it/s]\n",
      "100%|██████████| 10/10 [00:01<00:00,  5.39it/s]\n",
      "100%|██████████| 50/50 [00:36<00:00,  1.38it/s]\n",
      "100%|██████████| 10/10 [00:07<00:00,  1.38it/s]\n",
      "  0%|          | 0/50 [00:00<?, ?it/s]"
     ]
    },
    {
     "name": "stdout",
     "output_type": "stream",
     "text": [
      "Done...\n"
     ]
    },
    {
     "name": "stderr",
     "output_type": "stream",
     "text": [
      "100%|██████████| 50/50 [00:23<00:00,  2.15it/s]\n",
      "100%|██████████| 10/10 [00:04<00:00,  2.16it/s]\n",
      "100%|██████████| 50/50 [00:49<00:00,  1.02it/s]\n",
      "100%|██████████| 10/10 [00:09<00:00,  1.01it/s]\n"
     ]
    },
    {
     "name": "stdout",
     "output_type": "stream",
     "text": [
      "Done...\n",
      "Pocessing ../../gnosis_checkpoints/aug_ablation/augmentations_rotation,vertical_flip,colorjitter,crop,horizontal_flip_cifar100_ts_soft_cross_ent_v0.0.10/preresnet56_5-preresnet56_1/trial_2/2021-01-22_14-42-46\n",
      "Trial: 2\n",
      "Student:\n",
      "\tDepth: 56\n",
      "Teacher:\n",
      "\tDepth: 56\n",
      "\tNumber of components: 5\n"
     ]
    },
    {
     "name": "stderr",
     "output_type": "stream",
     "text": [
      "100%|██████████| 50/50 [00:09<00:00,  5.28it/s]\n",
      "100%|██████████| 10/10 [00:01<00:00,  5.27it/s]\n",
      "100%|██████████| 50/50 [00:35<00:00,  1.39it/s]\n",
      "100%|██████████| 10/10 [00:07<00:00,  1.40it/s]\n",
      "  0%|          | 0/50 [00:00<?, ?it/s]"
     ]
    },
    {
     "name": "stdout",
     "output_type": "stream",
     "text": [
      "Done...\n"
     ]
    },
    {
     "name": "stderr",
     "output_type": "stream",
     "text": [
      "100%|██████████| 50/50 [00:23<00:00,  2.17it/s]\n",
      "100%|██████████| 10/10 [00:04<00:00,  2.16it/s]\n",
      "100%|██████████| 50/50 [00:49<00:00,  1.01it/s]\n",
      "100%|██████████| 10/10 [00:09<00:00,  1.02it/s]\n"
     ]
    },
    {
     "name": "stdout",
     "output_type": "stream",
     "text": [
      "Done...\n",
      "Pocessing ../../gnosis_checkpoints/aug_ablation/augmentations_rotation,crop,horizontal_flip_cifar100_ts_soft_cross_ent_v0.0.10/preresnet56_3-preresnet56_1/trial_1/2021-01-22_14-42-46\n",
      "Trial: 1\n",
      "Student:\n",
      "\tDepth: 56\n",
      "Teacher:\n",
      "\tDepth: 56\n",
      "\tNumber of components: 3\n"
     ]
    },
    {
     "name": "stderr",
     "output_type": "stream",
     "text": [
      "100%|██████████| 50/50 [00:09<00:00,  5.31it/s]\n",
      "100%|██████████| 10/10 [00:01<00:00,  5.36it/s]\n",
      "100%|██████████| 50/50 [00:14<00:00,  3.37it/s]\n",
      "100%|██████████| 10/10 [00:02<00:00,  3.38it/s]\n",
      "  0%|          | 0/50 [00:00<?, ?it/s]"
     ]
    },
    {
     "name": "stdout",
     "output_type": "stream",
     "text": [
      "Done...\n"
     ]
    },
    {
     "name": "stderr",
     "output_type": "stream",
     "text": [
      "100%|██████████| 50/50 [00:16<00:00,  3.08it/s]\n",
      "100%|██████████| 10/10 [00:03<00:00,  3.06it/s]\n",
      "100%|██████████| 50/50 [00:21<00:00,  2.32it/s]\n",
      "100%|██████████| 10/10 [00:04<00:00,  2.33it/s]\n"
     ]
    },
    {
     "name": "stdout",
     "output_type": "stream",
     "text": [
      "Done...\n",
      "Pocessing ../../gnosis_checkpoints/aug_ablation/augmentations_rotation,crop,horizontal_flip_cifar100_ts_soft_cross_ent_v0.0.10/preresnet56_3-preresnet56_1/trial_3/2021-01-22_14-42-46\n",
      "Trial: 3\n",
      "Student:\n",
      "\tDepth: 56\n"
     ]
    },
    {
     "name": "stderr",
     "output_type": "stream",
     "text": [
      "\r",
      "  0%|          | 0/50 [00:00<?, ?it/s]"
     ]
    },
    {
     "name": "stdout",
     "output_type": "stream",
     "text": [
      "Teacher:\n",
      "\tDepth: 56\n",
      "\tNumber of components: 3\n"
     ]
    },
    {
     "name": "stderr",
     "output_type": "stream",
     "text": [
      "100%|██████████| 50/50 [00:09<00:00,  5.32it/s]\n",
      "100%|██████████| 10/10 [00:01<00:00,  5.25it/s]\n",
      "100%|██████████| 50/50 [00:15<00:00,  3.33it/s]\n",
      "100%|██████████| 10/10 [00:02<00:00,  3.39it/s]\n",
      "  0%|          | 0/50 [00:00<?, ?it/s]"
     ]
    },
    {
     "name": "stdout",
     "output_type": "stream",
     "text": [
      "Done...\n"
     ]
    },
    {
     "name": "stderr",
     "output_type": "stream",
     "text": [
      "100%|██████████| 50/50 [00:16<00:00,  3.07it/s]\n",
      "100%|██████████| 10/10 [00:03<00:00,  3.06it/s]\n",
      "100%|██████████| 50/50 [00:21<00:00,  2.31it/s]\n",
      "100%|██████████| 10/10 [00:04<00:00,  2.30it/s]\n"
     ]
    },
    {
     "name": "stdout",
     "output_type": "stream",
     "text": [
      "Done...\n",
      "Pocessing ../../gnosis_checkpoints/aug_ablation/augmentations_rotation,crop,horizontal_flip_cifar100_ts_soft_cross_ent_v0.0.10/preresnet56_3-preresnet56_1/trial_2/2021-01-22_14-42-46\n",
      "Trial: 2\n",
      "Student:\n",
      "\tDepth: 56\n"
     ]
    },
    {
     "name": "stderr",
     "output_type": "stream",
     "text": [
      "\r",
      "  0%|          | 0/50 [00:00<?, ?it/s]"
     ]
    },
    {
     "name": "stdout",
     "output_type": "stream",
     "text": [
      "Teacher:\n",
      "\tDepth: 56\n",
      "\tNumber of components: 3\n"
     ]
    },
    {
     "name": "stderr",
     "output_type": "stream",
     "text": [
      "100%|██████████| 50/50 [00:09<00:00,  5.26it/s]\n",
      "100%|██████████| 10/10 [00:01<00:00,  5.28it/s]\n",
      "100%|██████████| 50/50 [00:15<00:00,  3.31it/s]\n",
      "100%|██████████| 10/10 [00:02<00:00,  3.34it/s]\n",
      "  0%|          | 0/50 [00:00<?, ?it/s]"
     ]
    },
    {
     "name": "stdout",
     "output_type": "stream",
     "text": [
      "Done...\n"
     ]
    },
    {
     "name": "stderr",
     "output_type": "stream",
     "text": [
      "100%|██████████| 50/50 [00:16<00:00,  3.09it/s]\n",
      "100%|██████████| 10/10 [00:03<00:00,  3.10it/s]\n",
      "100%|██████████| 50/50 [00:21<00:00,  2.30it/s]\n",
      "100%|██████████| 10/10 [00:04<00:00,  2.33it/s]\n"
     ]
    },
    {
     "name": "stdout",
     "output_type": "stream",
     "text": [
      "Done...\n",
      "Pocessing ../../gnosis_checkpoints/aug_ablation/augmentations_rotation,crop,horizontal_flip_cifar100_ts_soft_cross_ent_v0.0.10/preresnet56_1-preresnet56_1/trial_1/2021-01-22_14-42-46\n",
      "Trial: 1\n",
      "Student:\n",
      "\tDepth: 56\n"
     ]
    },
    {
     "name": "stderr",
     "output_type": "stream",
     "text": [
      "\r",
      "  0%|          | 0/50 [00:00<?, ?it/s]"
     ]
    },
    {
     "name": "stdout",
     "output_type": "stream",
     "text": [
      "Teacher:\n",
      "\tDepth: 56\n",
      "\tNumber of components: 1\n"
     ]
    },
    {
     "name": "stderr",
     "output_type": "stream",
     "text": [
      "100%|██████████| 50/50 [00:09<00:00,  5.30it/s]\n",
      "100%|██████████| 10/10 [00:01<00:00,  5.28it/s]\n",
      "100%|██████████| 50/50 [00:15<00:00,  3.30it/s]\n",
      "100%|██████████| 10/10 [00:03<00:00,  3.26it/s]\n",
      "  0%|          | 0/50 [00:00<?, ?it/s]"
     ]
    },
    {
     "name": "stdout",
     "output_type": "stream",
     "text": [
      "Done...\n"
     ]
    },
    {
     "name": "stderr",
     "output_type": "stream",
     "text": [
      "100%|██████████| 50/50 [00:09<00:00,  5.05it/s]\n",
      "100%|██████████| 10/10 [00:01<00:00,  5.20it/s]\n",
      "100%|██████████| 50/50 [00:15<00:00,  3.27it/s]\n",
      "100%|██████████| 10/10 [00:03<00:00,  3.31it/s]\n",
      "  0%|          | 0/50 [00:00<?, ?it/s]"
     ]
    },
    {
     "name": "stdout",
     "output_type": "stream",
     "text": [
      "Done...\n",
      "Pocessing ../../gnosis_checkpoints/aug_ablation/augmentations_rotation,crop,horizontal_flip_cifar100_ts_soft_cross_ent_v0.0.10/preresnet56_1-preresnet56_1/trial_3/2021-01-22_14-42-46\n",
      "Trial: 3\n",
      "Student:\n",
      "\tDepth: 56\n",
      "Teacher:\n",
      "\tDepth: 56\n",
      "\tNumber of components: 1\n"
     ]
    },
    {
     "name": "stderr",
     "output_type": "stream",
     "text": [
      "100%|██████████| 50/50 [00:09<00:00,  5.24it/s]\n",
      "100%|██████████| 10/10 [00:01<00:00,  5.06it/s]\n",
      "100%|██████████| 50/50 [00:15<00:00,  3.29it/s]\n",
      "100%|██████████| 10/10 [00:03<00:00,  3.26it/s]\n",
      "  0%|          | 0/50 [00:00<?, ?it/s]"
     ]
    },
    {
     "name": "stdout",
     "output_type": "stream",
     "text": [
      "Done...\n"
     ]
    },
    {
     "name": "stderr",
     "output_type": "stream",
     "text": [
      "100%|██████████| 50/50 [00:09<00:00,  5.27it/s]\n",
      "100%|██████████| 10/10 [00:01<00:00,  5.34it/s]\n",
      "100%|██████████| 50/50 [00:15<00:00,  3.31it/s]\n",
      "100%|██████████| 10/10 [00:03<00:00,  3.28it/s]\n",
      "  0%|          | 0/50 [00:00<?, ?it/s]"
     ]
    },
    {
     "name": "stdout",
     "output_type": "stream",
     "text": [
      "Done...\n",
      "Pocessing ../../gnosis_checkpoints/aug_ablation/augmentations_rotation,crop,horizontal_flip_cifar100_ts_soft_cross_ent_v0.0.10/preresnet56_1-preresnet56_1/trial_2/2021-01-22_14-42-46\n",
      "Trial: 2\n",
      "Student:\n",
      "\tDepth: 56\n",
      "Teacher:\n",
      "\tDepth: 56\n",
      "\tNumber of components: 1\n"
     ]
    },
    {
     "name": "stderr",
     "output_type": "stream",
     "text": [
      "100%|██████████| 50/50 [00:09<00:00,  5.31it/s]\n",
      "100%|██████████| 10/10 [00:01<00:00,  5.46it/s]\n",
      "100%|██████████| 50/50 [00:14<00:00,  3.35it/s]\n",
      "100%|██████████| 10/10 [00:02<00:00,  3.34it/s]\n",
      "  0%|          | 0/50 [00:00<?, ?it/s]"
     ]
    },
    {
     "name": "stdout",
     "output_type": "stream",
     "text": [
      "Done...\n"
     ]
    },
    {
     "name": "stderr",
     "output_type": "stream",
     "text": [
      "100%|██████████| 50/50 [00:09<00:00,  5.23it/s]\n",
      "100%|██████████| 10/10 [00:01<00:00,  5.39it/s]\n",
      "100%|██████████| 50/50 [00:15<00:00,  3.26it/s]\n",
      "100%|██████████| 10/10 [00:03<00:00,  3.23it/s]\n"
     ]
    },
    {
     "name": "stdout",
     "output_type": "stream",
     "text": [
      "Done...\n",
      "Pocessing ../../gnosis_checkpoints/aug_ablation/augmentations_rotation,crop,horizontal_flip_cifar100_ts_soft_cross_ent_v0.0.10/preresnet56_5-preresnet56_1/trial_1/2021-01-22_14-42-46\n",
      "Trial: 1\n",
      "Student:\n",
      "\tDepth: 56\n",
      "Teacher:\n",
      "\tDepth: 56\n",
      "\tNumber of components: 5\n"
     ]
    },
    {
     "name": "stderr",
     "output_type": "stream",
     "text": [
      "100%|██████████| 50/50 [00:09<00:00,  5.12it/s]\n",
      "100%|██████████| 10/10 [00:01<00:00,  5.09it/s]\n",
      "100%|██████████| 50/50 [00:15<00:00,  3.24it/s]\n",
      "100%|██████████| 10/10 [00:03<00:00,  3.25it/s]\n",
      "  0%|          | 0/50 [00:00<?, ?it/s]"
     ]
    },
    {
     "name": "stdout",
     "output_type": "stream",
     "text": [
      "Done...\n"
     ]
    },
    {
     "name": "stderr",
     "output_type": "stream",
     "text": [
      "100%|██████████| 50/50 [00:24<00:00,  2.04it/s]\n",
      "100%|██████████| 10/10 [00:04<00:00,  2.13it/s]\n",
      "100%|██████████| 50/50 [00:28<00:00,  1.77it/s]\n",
      "100%|██████████| 10/10 [00:05<00:00,  1.74it/s]\n"
     ]
    },
    {
     "name": "stdout",
     "output_type": "stream",
     "text": [
      "Done...\n",
      "Pocessing ../../gnosis_checkpoints/aug_ablation/augmentations_rotation,crop,horizontal_flip_cifar100_ts_soft_cross_ent_v0.0.10/preresnet56_5-preresnet56_1/trial_3/2021-01-22_14-42-46\n",
      "Trial: 3\n",
      "Student:\n",
      "\tDepth: 56\n",
      "Teacher:\n",
      "\tDepth: 56\n",
      "\tNumber of components: 5\n"
     ]
    },
    {
     "name": "stderr",
     "output_type": "stream",
     "text": [
      "100%|██████████| 50/50 [00:09<00:00,  5.19it/s]\n",
      "100%|██████████| 10/10 [00:01<00:00,  5.26it/s]\n",
      "100%|██████████| 50/50 [00:15<00:00,  3.31it/s]\n",
      "100%|██████████| 10/10 [00:03<00:00,  3.31it/s]\n",
      "  0%|          | 0/50 [00:00<?, ?it/s]"
     ]
    },
    {
     "name": "stdout",
     "output_type": "stream",
     "text": [
      "Done...\n"
     ]
    },
    {
     "name": "stderr",
     "output_type": "stream",
     "text": [
      "100%|██████████| 50/50 [00:22<00:00,  2.18it/s]\n",
      "100%|██████████| 10/10 [00:04<00:00,  2.21it/s]\n",
      "100%|██████████| 50/50 [00:28<00:00,  1.77it/s]\n",
      "100%|██████████| 10/10 [00:05<00:00,  1.76it/s]\n"
     ]
    },
    {
     "name": "stdout",
     "output_type": "stream",
     "text": [
      "Done...\n",
      "Pocessing ../../gnosis_checkpoints/aug_ablation/augmentations_rotation,crop,horizontal_flip_cifar100_ts_soft_cross_ent_v0.0.10/preresnet56_5-preresnet56_1/trial_2/2021-01-22_14-42-46\n",
      "Trial: 2\n",
      "Student:\n",
      "\tDepth: 56\n",
      "Teacher:\n",
      "\tDepth: 56\n",
      "\tNumber of components: 5\n"
     ]
    },
    {
     "name": "stderr",
     "output_type": "stream",
     "text": [
      "100%|██████████| 50/50 [00:09<00:00,  5.22it/s]\n",
      "100%|██████████| 10/10 [00:01<00:00,  5.41it/s]\n",
      "100%|██████████| 50/50 [00:15<00:00,  3.33it/s]\n",
      "100%|██████████| 10/10 [00:03<00:00,  3.25it/s]\n",
      "  0%|          | 0/50 [00:00<?, ?it/s]"
     ]
    },
    {
     "name": "stdout",
     "output_type": "stream",
     "text": [
      "Done...\n"
     ]
    },
    {
     "name": "stderr",
     "output_type": "stream",
     "text": [
      "100%|██████████| 50/50 [00:22<00:00,  2.23it/s]\n",
      "100%|██████████| 10/10 [00:04<00:00,  2.23it/s]\n",
      "100%|██████████| 50/50 [00:27<00:00,  1.80it/s]\n",
      "100%|██████████| 10/10 [00:05<00:00,  1.77it/s]\n"
     ]
    },
    {
     "name": "stdout",
     "output_type": "stream",
     "text": [
      "Done...\n"
     ]
    }
   ],
   "source": [
    "base_dir = \"../../gnosis_checkpoints/aug_ablation/\"\n",
    "process_all_subdirectories(base_dir, process_leaf_directory_fn)"
   ]
  },
  {
   "cell_type": "markdown",
   "id": "willing-bacteria",
   "metadata": {},
   "source": [
    "## Temperature ablation"
   ]
  },
  {
   "cell_type": "code",
   "execution_count": 34,
   "id": "controlling-september",
   "metadata": {},
   "outputs": [
    {
     "name": "stdout",
     "output_type": "stream",
     "text": [
      "Files already downloaded and verified\n",
      "Files already downloaded and verified\n"
     ]
    }
   ],
   "source": [
    "baseline_train_loader, baseline_test_loader = make_cifar100(\n",
    "    [torchvision.transforms.RandomCrop(32, 4), \n",
    "     torchvision.transforms.RandomHorizontalFlip()], [])\n",
    "\n",
    "process_leaf_directory_fn = make_student_process_leaf_directory(\n",
    "    clean_train_loader, clean_test_loader, \n",
    "    make_const_aug_loader(baseline_train_loader, baseline_test_loader), \n",
    "    recompute_existing=False)"
   ]
  },
  {
   "cell_type": "code",
   "execution_count": 35,
   "id": "governmental-store",
   "metadata": {},
   "outputs": [
    {
     "name": "stdout",
     "output_type": "stream",
     "text": [
      "Pocessing ../../gnosis_checkpoints/temp_ablation/temp_ablation/cifar100_temp_4.0/preresnet56_3-preresnet56_1/trial_1/2021-01-26_21-39-42\n",
      "Trial: 1\n",
      "Student:\n",
      "\tDepth: 56\n",
      "Teacher:\n",
      "\tDepth: 56\n",
      "\tNumber of components: 3\n",
      "Files already exist, skipping...\n",
      "Pocessing ../../gnosis_checkpoints/temp_ablation/temp_ablation/cifar100_temp_4.0/preresnet56_3-preresnet56_1/trial_2/2021-01-26_21-39-42\n",
      "Trial: 2\n",
      "Student:\n",
      "\tDepth: 56\n",
      "Teacher:\n",
      "\tDepth: 56\n",
      "\tNumber of components: 3\n",
      "Files already exist, skipping...\n",
      "Pocessing ../../gnosis_checkpoints/temp_ablation/temp_ablation/cifar100_temp_4.0/preresnet56_3-preresnet56_1/trial_0/2021-01-26_21-39-42\n",
      "Trial: 0\n",
      "Student:\n",
      "\tDepth: 56\n",
      "Teacher:\n",
      "\tDepth: 56\n",
      "\tNumber of components: 3\n",
      "Files already exist, skipping...\n",
      "Pocessing ../../gnosis_checkpoints/temp_ablation/temp_ablation/cifar100_temp_4.0/preresnet56_1-preresnet56_1/trial_1/2021-01-26_21-39-42\n",
      "Trial: 1\n",
      "Student:\n",
      "\tDepth: 56\n",
      "Teacher:\n",
      "\tDepth: 56\n",
      "\tNumber of components: 1\n",
      "Files already exist, skipping...\n",
      "Pocessing ../../gnosis_checkpoints/temp_ablation/temp_ablation/cifar100_temp_4.0/preresnet56_1-preresnet56_1/trial_2/2021-01-26_21-39-42\n",
      "Trial: 2\n",
      "Student:\n",
      "\tDepth: 56\n",
      "Teacher:\n",
      "\tDepth: 56\n",
      "\tNumber of components: 1\n",
      "Files already exist, skipping...\n",
      "Pocessing ../../gnosis_checkpoints/temp_ablation/temp_ablation/cifar100_temp_4.0/preresnet56_1-preresnet56_1/trial_0/2021-01-26_21-39-42\n",
      "Trial: 0\n",
      "Student:\n",
      "\tDepth: 56\n",
      "Teacher:\n",
      "\tDepth: 56\n",
      "\tNumber of components: 1\n",
      "Files already exist, skipping...\n",
      "Pocessing ../../gnosis_checkpoints/temp_ablation/temp_ablation/cifar100_temp_4.0/preresnet56_5-preresnet56_1/trial_1/2021-01-26_21-39-42\n",
      "Trial: 1\n",
      "Student:\n",
      "\tDepth: 56\n",
      "Teacher:\n",
      "\tDepth: 56\n",
      "\tNumber of components: 5\n",
      "Files already exist, skipping...\n",
      "Pocessing ../../gnosis_checkpoints/temp_ablation/temp_ablation/cifar100_temp_4.0/preresnet56_5-preresnet56_1/trial_2/2021-01-26_21-39-42\n",
      "Trial: 2\n",
      "Student:\n",
      "\tDepth: 56\n",
      "Teacher:\n",
      "\tDepth: 56\n",
      "\tNumber of components: 5\n",
      "Files already exist, skipping...\n",
      "Pocessing ../../gnosis_checkpoints/temp_ablation/temp_ablation/cifar100_temp_4.0/preresnet56_5-preresnet56_1/trial_0/2021-01-26_21-39-42\n",
      "Trial: 0\n",
      "Student:\n",
      "\tDepth: 56\n",
      "Teacher:\n",
      "\tDepth: 56\n",
      "\tNumber of components: 5\n",
      "Files already exist, skipping...\n",
      "Pocessing ../../gnosis_checkpoints/temp_ablation/temp_ablation/cifar100_temp_2.0/preresnet56_3-preresnet56_1/trial_1/2021-01-26_21-39-42\n",
      "Trial: 1\n",
      "Student:\n",
      "\tDepth: 56\n",
      "Teacher:\n",
      "\tDepth: 56\n",
      "\tNumber of components: 3\n",
      "Files already exist, skipping...\n",
      "Pocessing ../../gnosis_checkpoints/temp_ablation/temp_ablation/cifar100_temp_2.0/preresnet56_3-preresnet56_1/trial_2/2021-01-26_21-39-42\n",
      "Trial: 2\n",
      "Student:\n",
      "\tDepth: 56\n",
      "Teacher:\n",
      "\tDepth: 56\n",
      "\tNumber of components: 3\n",
      "Files already exist, skipping...\n",
      "Pocessing ../../gnosis_checkpoints/temp_ablation/temp_ablation/cifar100_temp_2.0/preresnet56_3-preresnet56_1/trial_0/2021-01-26_21-39-42\n",
      "Trial: 0\n",
      "Student:\n",
      "\tDepth: 56\n",
      "Teacher:\n",
      "\tDepth: 56\n",
      "\tNumber of components: 3\n",
      "Files already exist, skipping...\n",
      "Pocessing ../../gnosis_checkpoints/temp_ablation/temp_ablation/cifar100_temp_2.0/preresnet56_1-preresnet56_1/trial_1/2021-01-26_21-39-42\n",
      "Trial: 1\n",
      "Student:\n",
      "\tDepth: 56\n",
      "Teacher:\n",
      "\tDepth: 56\n",
      "\tNumber of components: 1\n",
      "Files already exist, skipping...\n",
      "Pocessing ../../gnosis_checkpoints/temp_ablation/temp_ablation/cifar100_temp_2.0/preresnet56_1-preresnet56_1/trial_2/2021-01-26_21-39-42\n",
      "Trial: 2\n",
      "Student:\n",
      "\tDepth: 56\n",
      "Teacher:\n",
      "\tDepth: 56\n",
      "\tNumber of components: 1\n",
      "Files already exist, skipping...\n",
      "Pocessing ../../gnosis_checkpoints/temp_ablation/temp_ablation/cifar100_temp_2.0/preresnet56_1-preresnet56_1/trial_0/2021-01-26_21-39-42\n",
      "Trial: 0\n",
      "Student:\n",
      "\tDepth: 56\n",
      "Teacher:\n",
      "\tDepth: 56\n",
      "\tNumber of components: 1\n",
      "Files already exist, skipping...\n",
      "Pocessing ../../gnosis_checkpoints/temp_ablation/temp_ablation/cifar100_temp_2.0/preresnet56_5-preresnet56_1/trial_1/2021-01-26_21-39-42\n",
      "Trial: 1\n",
      "Student:\n",
      "\tDepth: 56\n",
      "Teacher:\n",
      "\tDepth: 56\n",
      "\tNumber of components: 5\n",
      "Files already exist, skipping...\n",
      "Pocessing ../../gnosis_checkpoints/temp_ablation/temp_ablation/cifar100_temp_2.0/preresnet56_5-preresnet56_1/trial_2/2021-01-26_21-39-42\n",
      "Trial: 2\n",
      "Student:\n",
      "\tDepth: 56\n",
      "Teacher:\n",
      "\tDepth: 56\n",
      "\tNumber of components: 5\n",
      "Files already exist, skipping...\n",
      "Pocessing ../../gnosis_checkpoints/temp_ablation/temp_ablation/cifar100_temp_2.0/preresnet56_5-preresnet56_1/trial_0/2021-01-26_21-39-42\n",
      "Trial: 0\n",
      "Student:\n",
      "\tDepth: 56\n",
      "Teacher:\n",
      "\tDepth: 56\n",
      "\tNumber of components: 5\n"
     ]
    },
    {
     "name": "stderr",
     "output_type": "stream",
     "text": [
      "\r",
      "  0%|          | 0/50 [00:00<?, ?it/s]"
     ]
    },
    {
     "name": "stdout",
     "output_type": "stream",
     "text": [
      "Files already exist, skipping...\n",
      "Pocessing ../../gnosis_checkpoints/temp_ablation/temp_ablation/cifar100_temp_1.0/preresnet56_3-preresnet56_1/trial_1/2021-01-18_04-21-35\n",
      "Trial: 1\n",
      "Student:\n",
      "\tDepth: 56\n",
      "Teacher:\n",
      "\tDepth: 56\n",
      "\tNumber of components: 3\n",
      "No teacher checkpoints found\n"
     ]
    },
    {
     "name": "stderr",
     "output_type": "stream",
     "text": [
      "100%|██████████| 50/50 [00:09<00:00,  5.34it/s]\n",
      "100%|██████████| 10/10 [00:01<00:00,  5.38it/s]\n",
      "100%|██████████| 50/50 [00:13<00:00,  3.82it/s]\n",
      "100%|██████████| 10/10 [00:02<00:00,  3.75it/s]\n",
      "  0%|          | 0/50 [00:00<?, ?it/s]"
     ]
    },
    {
     "name": "stdout",
     "output_type": "stream",
     "text": [
      "Done...\n",
      "Warning: no model for teacher_probs.npz\n",
      "Pocessing ../../gnosis_checkpoints/temp_ablation/temp_ablation/cifar100_temp_1.0/preresnet56_3-preresnet56_1/trial_2/2021-01-18_04-21-35\n",
      "Trial: 2\n",
      "Student:\n",
      "\tDepth: 56\n",
      "Teacher:\n",
      "\tDepth: 56\n",
      "\tNumber of components: 3\n",
      "No teacher checkpoints found\n"
     ]
    },
    {
     "name": "stderr",
     "output_type": "stream",
     "text": [
      "100%|██████████| 50/50 [00:09<00:00,  5.37it/s]\n",
      "100%|██████████| 10/10 [00:01<00:00,  5.46it/s]\n",
      "100%|██████████| 50/50 [00:12<00:00,  3.88it/s]\n",
      "100%|██████████| 10/10 [00:02<00:00,  3.79it/s]\n",
      "  0%|          | 0/50 [00:00<?, ?it/s]"
     ]
    },
    {
     "name": "stdout",
     "output_type": "stream",
     "text": [
      "Done...\n",
      "Warning: no model for teacher_probs.npz\n",
      "Pocessing ../../gnosis_checkpoints/temp_ablation/temp_ablation/cifar100_temp_1.0/preresnet56_3-preresnet56_1/trial_0/2021-01-18_04-21-35\n",
      "Trial: 0\n",
      "Student:\n",
      "\tDepth: 56\n",
      "Teacher:\n",
      "\tDepth: 56\n",
      "\tNumber of components: 3\n",
      "No teacher checkpoints found\n"
     ]
    },
    {
     "name": "stderr",
     "output_type": "stream",
     "text": [
      "100%|██████████| 50/50 [00:09<00:00,  5.34it/s]\n",
      "100%|██████████| 10/10 [00:01<00:00,  5.27it/s]\n",
      "100%|██████████| 50/50 [00:13<00:00,  3.79it/s]\n",
      "100%|██████████| 10/10 [00:02<00:00,  3.86it/s]\n"
     ]
    },
    {
     "name": "stdout",
     "output_type": "stream",
     "text": [
      "Done...\n",
      "Warning: no model for teacher_probs.npz\n",
      "Pocessing ../../gnosis_checkpoints/temp_ablation/temp_ablation/cifar100_temp_1.0/preresnet56_3-preresnet110_1/trial_1/2021-01-22_23-51-58\n",
      "Trial: 1\n",
      "Student:\n",
      "\tDepth: 110\n",
      "Teacher:\n",
      "\tDepth: 56\n",
      "\tNumber of components: 3\n"
     ]
    },
    {
     "name": "stderr",
     "output_type": "stream",
     "text": [
      "100%|██████████| 50/50 [00:12<00:00,  4.02it/s]\n",
      "100%|██████████| 10/10 [00:02<00:00,  3.88it/s]\n",
      "100%|██████████| 50/50 [00:15<00:00,  3.13it/s]\n",
      "100%|██████████| 10/10 [00:03<00:00,  3.15it/s]\n",
      "  0%|          | 0/50 [00:00<?, ?it/s]"
     ]
    },
    {
     "name": "stdout",
     "output_type": "stream",
     "text": [
      "Done...\n"
     ]
    },
    {
     "name": "stderr",
     "output_type": "stream",
     "text": [
      "100%|██████████| 50/50 [00:16<00:00,  3.11it/s]\n",
      "100%|██████████| 10/10 [00:03<00:00,  3.08it/s]\n",
      "100%|██████████| 50/50 [00:20<00:00,  2.46it/s]\n",
      "100%|██████████| 10/10 [00:03<00:00,  2.54it/s]\n"
     ]
    },
    {
     "name": "stdout",
     "output_type": "stream",
     "text": [
      "Done...\n",
      "Pocessing ../../gnosis_checkpoints/temp_ablation/temp_ablation/cifar100_temp_1.0/preresnet56_3-preresnet110_1/trial_2/2021-01-22_23-51-58\n",
      "Trial: 2\n",
      "Student:\n",
      "\tDepth: 110\n",
      "Teacher:\n",
      "\tDepth: 56\n",
      "\tNumber of components: 3\n"
     ]
    },
    {
     "name": "stderr",
     "output_type": "stream",
     "text": [
      "100%|██████████| 50/50 [00:12<00:00,  4.00it/s]\n",
      "100%|██████████| 10/10 [00:02<00:00,  4.08it/s]\n",
      "100%|██████████| 50/50 [00:15<00:00,  3.14it/s]\n",
      "100%|██████████| 10/10 [00:03<00:00,  3.14it/s]\n",
      "  0%|          | 0/50 [00:00<?, ?it/s]"
     ]
    },
    {
     "name": "stdout",
     "output_type": "stream",
     "text": [
      "Done...\n"
     ]
    },
    {
     "name": "stderr",
     "output_type": "stream",
     "text": [
      "100%|██████████| 50/50 [00:15<00:00,  3.16it/s]\n",
      "100%|██████████| 10/10 [00:03<00:00,  3.11it/s]\n",
      "100%|██████████| 50/50 [00:19<00:00,  2.57it/s]\n",
      "100%|██████████| 10/10 [00:03<00:00,  2.56it/s]\n"
     ]
    },
    {
     "name": "stdout",
     "output_type": "stream",
     "text": [
      "Done...\n",
      "Pocessing ../../gnosis_checkpoints/temp_ablation/temp_ablation/cifar100_temp_1.0/preresnet56_3-preresnet110_1/trial_0/2021-01-22_23-51-58\n",
      "Trial: 0\n",
      "Student:\n",
      "\tDepth: 110\n",
      "Teacher:\n",
      "\tDepth: 56\n",
      "\tNumber of components: 3\n"
     ]
    },
    {
     "name": "stderr",
     "output_type": "stream",
     "text": [
      "100%|██████████| 50/50 [00:12<00:00,  4.05it/s]\n",
      "100%|██████████| 10/10 [00:02<00:00,  4.04it/s]\n",
      "100%|██████████| 50/50 [00:16<00:00,  3.12it/s]\n",
      "100%|██████████| 10/10 [00:03<00:00,  3.13it/s]\n",
      "  0%|          | 0/50 [00:00<?, ?it/s]"
     ]
    },
    {
     "name": "stdout",
     "output_type": "stream",
     "text": [
      "Done...\n"
     ]
    },
    {
     "name": "stderr",
     "output_type": "stream",
     "text": [
      "100%|██████████| 50/50 [00:15<00:00,  3.16it/s]\n",
      "100%|██████████| 10/10 [00:03<00:00,  3.18it/s]\n",
      "100%|██████████| 50/50 [00:19<00:00,  2.58it/s]\n",
      "100%|██████████| 10/10 [00:03<00:00,  2.57it/s]\n"
     ]
    },
    {
     "name": "stdout",
     "output_type": "stream",
     "text": [
      "Done...\n",
      "Pocessing ../../gnosis_checkpoints/temp_ablation/temp_ablation/cifar100_temp_1.0/preresnet56_1-preresnet56_1/trial_1/2021-01-18_04-21-35\n",
      "Trial: 1\n",
      "Student:\n",
      "\tDepth: 56\n"
     ]
    },
    {
     "name": "stderr",
     "output_type": "stream",
     "text": [
      "\r",
      "  0%|          | 0/50 [00:00<?, ?it/s]"
     ]
    },
    {
     "name": "stdout",
     "output_type": "stream",
     "text": [
      "Teacher:\n",
      "\tDepth: 56\n",
      "\tNumber of components: 1\n",
      "No teacher checkpoints found\n"
     ]
    },
    {
     "name": "stderr",
     "output_type": "stream",
     "text": [
      "100%|██████████| 50/50 [00:09<00:00,  5.28it/s]\n",
      "100%|██████████| 10/10 [00:01<00:00,  5.39it/s]\n",
      "100%|██████████| 50/50 [00:13<00:00,  3.83it/s]\n",
      "100%|██████████| 10/10 [00:02<00:00,  3.79it/s]\n",
      "  0%|          | 0/50 [00:00<?, ?it/s]"
     ]
    },
    {
     "name": "stdout",
     "output_type": "stream",
     "text": [
      "Done...\n",
      "Warning: no model for teacher_probs.npz\n",
      "Pocessing ../../gnosis_checkpoints/temp_ablation/temp_ablation/cifar100_temp_1.0/preresnet56_1-preresnet56_1/trial_2/2021-01-18_04-21-35\n",
      "Trial: 2\n",
      "Student:\n",
      "\tDepth: 56\n",
      "Teacher:\n",
      "\tDepth: 56\n",
      "\tNumber of components: 1\n",
      "No teacher checkpoints found\n"
     ]
    },
    {
     "name": "stderr",
     "output_type": "stream",
     "text": [
      "100%|██████████| 50/50 [00:09<00:00,  5.20it/s]\n",
      "100%|██████████| 10/10 [00:01<00:00,  5.28it/s]\n",
      "100%|██████████| 50/50 [00:12<00:00,  3.85it/s]\n",
      "100%|██████████| 10/10 [00:02<00:00,  3.87it/s]\n",
      "  0%|          | 0/50 [00:00<?, ?it/s]"
     ]
    },
    {
     "name": "stdout",
     "output_type": "stream",
     "text": [
      "Done...\n",
      "Warning: no model for teacher_probs.npz\n",
      "Pocessing ../../gnosis_checkpoints/temp_ablation/temp_ablation/cifar100_temp_1.0/preresnet56_1-preresnet56_1/trial_0/2021-01-18_04-21-35\n",
      "Trial: 0\n",
      "Student:\n",
      "\tDepth: 56\n",
      "Teacher:\n",
      "\tDepth: 56\n",
      "\tNumber of components: 1\n",
      "No teacher checkpoints found\n"
     ]
    },
    {
     "name": "stderr",
     "output_type": "stream",
     "text": [
      "100%|██████████| 50/50 [00:09<00:00,  5.37it/s]\n",
      "100%|██████████| 10/10 [00:01<00:00,  5.40it/s]\n",
      "100%|██████████| 50/50 [00:13<00:00,  3.81it/s]\n",
      "100%|██████████| 10/10 [00:02<00:00,  3.82it/s]\n"
     ]
    },
    {
     "name": "stdout",
     "output_type": "stream",
     "text": [
      "Done...\n",
      "Warning: no model for teacher_probs.npz\n",
      "Pocessing ../../gnosis_checkpoints/temp_ablation/temp_ablation/cifar100_temp_1.0/preresnet56_5-preresnet56_1/trial_1/2021-01-18_04-21-35\n",
      "Trial: 1\n",
      "Student:\n",
      "\tDepth: 56\n",
      "Teacher:\n",
      "\tDepth: 56\n",
      "\tNumber of components: 5\n"
     ]
    },
    {
     "name": "stderr",
     "output_type": "stream",
     "text": [
      "  2%|▏         | 1/50 [00:00<00:09,  5.33it/s]"
     ]
    },
    {
     "name": "stdout",
     "output_type": "stream",
     "text": [
      "No teacher checkpoints found\n"
     ]
    },
    {
     "name": "stderr",
     "output_type": "stream",
     "text": [
      "100%|██████████| 50/50 [00:09<00:00,  5.33it/s]\n",
      "100%|██████████| 10/10 [00:01<00:00,  5.19it/s]\n",
      "100%|██████████| 50/50 [00:13<00:00,  3.78it/s]\n",
      "100%|██████████| 10/10 [00:02<00:00,  3.81it/s]\n"
     ]
    },
    {
     "name": "stdout",
     "output_type": "stream",
     "text": [
      "Done...\n",
      "Warning: no model for teacher_probs.npz\n",
      "Pocessing ../../gnosis_checkpoints/temp_ablation/temp_ablation/cifar100_temp_1.0/preresnet56_5-preresnet56_1/trial_2/2021-01-18_04-21-35\n",
      "Trial: 2\n",
      "Student:\n",
      "\tDepth: 56\n",
      "Teacher:\n",
      "\tDepth: 56\n",
      "\tNumber of components: 5\n"
     ]
    },
    {
     "name": "stderr",
     "output_type": "stream",
     "text": [
      "\r",
      "  0%|          | 0/50 [00:00<?, ?it/s]"
     ]
    },
    {
     "name": "stdout",
     "output_type": "stream",
     "text": [
      "No teacher checkpoints found\n"
     ]
    },
    {
     "name": "stderr",
     "output_type": "stream",
     "text": [
      "100%|██████████| 50/50 [00:09<00:00,  5.29it/s]\n",
      "100%|██████████| 10/10 [00:01<00:00,  5.33it/s]\n",
      "100%|██████████| 50/50 [00:13<00:00,  3.82it/s]\n",
      "100%|██████████| 10/10 [00:02<00:00,  3.78it/s]\n"
     ]
    },
    {
     "name": "stdout",
     "output_type": "stream",
     "text": [
      "Done...\n",
      "Warning: no model for teacher_probs.npz\n",
      "Pocessing ../../gnosis_checkpoints/temp_ablation/temp_ablation/cifar100_temp_1.0/preresnet56_5-preresnet56_1/trial_0/2021-01-18_04-21-35\n",
      "Trial: 0\n",
      "Student:\n",
      "\tDepth: 56\n",
      "Teacher:\n",
      "\tDepth: 56\n",
      "\tNumber of components: 5\n"
     ]
    },
    {
     "name": "stderr",
     "output_type": "stream",
     "text": [
      "  2%|▏         | 1/50 [00:00<00:09,  5.23it/s]"
     ]
    },
    {
     "name": "stdout",
     "output_type": "stream",
     "text": [
      "No teacher checkpoints found\n"
     ]
    },
    {
     "name": "stderr",
     "output_type": "stream",
     "text": [
      "100%|██████████| 50/50 [00:09<00:00,  5.33it/s]\n",
      "100%|██████████| 10/10 [00:01<00:00,  5.34it/s]\n",
      "100%|██████████| 50/50 [00:13<00:00,  3.83it/s]\n",
      "100%|██████████| 10/10 [00:02<00:00,  3.74it/s]\n"
     ]
    },
    {
     "name": "stdout",
     "output_type": "stream",
     "text": [
      "Done...\n",
      "Warning: no model for teacher_probs.npz\n",
      "Pocessing ../../gnosis_checkpoints/temp_ablation/temp_ablation/cifar100_temp_1.0/preresnet56_5-preresnet110_1/trial_1/2021-01-22_23-51-58\n",
      "Trial: 1\n",
      "Student:\n",
      "\tDepth: 110\n",
      "Teacher:\n",
      "\tDepth: 56\n",
      "\tNumber of components: 5\n"
     ]
    },
    {
     "name": "stderr",
     "output_type": "stream",
     "text": [
      "100%|██████████| 50/50 [00:12<00:00,  4.05it/s]\n",
      "100%|██████████| 10/10 [00:02<00:00,  4.00it/s]\n",
      "100%|██████████| 50/50 [00:16<00:00,  3.11it/s]\n",
      "100%|██████████| 10/10 [00:03<00:00,  3.11it/s]\n",
      "  0%|          | 0/50 [00:00<?, ?it/s]"
     ]
    },
    {
     "name": "stdout",
     "output_type": "stream",
     "text": [
      "Done...\n"
     ]
    },
    {
     "name": "stderr",
     "output_type": "stream",
     "text": [
      "100%|██████████| 50/50 [00:22<00:00,  2.22it/s]\n",
      "100%|██████████| 10/10 [00:04<00:00,  2.20it/s]\n",
      "100%|██████████| 50/50 [00:26<00:00,  1.90it/s]\n",
      "100%|██████████| 10/10 [00:05<00:00,  1.91it/s]\n"
     ]
    },
    {
     "name": "stdout",
     "output_type": "stream",
     "text": [
      "Done...\n",
      "Pocessing ../../gnosis_checkpoints/temp_ablation/temp_ablation/cifar100_temp_1.0/preresnet56_5-preresnet110_1/trial_2/2021-01-22_23-51-58\n",
      "Trial: 2\n",
      "Student:\n",
      "\tDepth: 110\n",
      "Teacher:\n",
      "\tDepth: 56\n",
      "\tNumber of components: 5\n"
     ]
    },
    {
     "name": "stderr",
     "output_type": "stream",
     "text": [
      "100%|██████████| 50/50 [00:12<00:00,  4.06it/s]\n",
      "100%|██████████| 10/10 [00:02<00:00,  4.03it/s]\n",
      "100%|██████████| 50/50 [00:16<00:00,  3.10it/s]\n",
      "100%|██████████| 10/10 [00:03<00:00,  3.16it/s]\n",
      "  0%|          | 0/50 [00:00<?, ?it/s]"
     ]
    },
    {
     "name": "stdout",
     "output_type": "stream",
     "text": [
      "Done...\n"
     ]
    },
    {
     "name": "stderr",
     "output_type": "stream",
     "text": [
      "100%|██████████| 50/50 [00:22<00:00,  2.22it/s]\n",
      "100%|██████████| 10/10 [00:04<00:00,  2.21it/s]\n",
      "100%|██████████| 50/50 [00:26<00:00,  1.89it/s]\n",
      "100%|██████████| 10/10 [00:05<00:00,  1.90it/s]\n"
     ]
    },
    {
     "name": "stdout",
     "output_type": "stream",
     "text": [
      "Done...\n",
      "Pocessing ../../gnosis_checkpoints/temp_ablation/temp_ablation/cifar100_temp_1.0/preresnet56_5-preresnet110_1/trial_0/2021-01-22_23-51-58\n",
      "Trial: 0\n",
      "Student:\n",
      "\tDepth: 110\n",
      "Teacher:\n",
      "\tDepth: 56\n",
      "\tNumber of components: 5\n"
     ]
    },
    {
     "name": "stderr",
     "output_type": "stream",
     "text": [
      "100%|██████████| 50/50 [00:12<00:00,  4.06it/s]\n",
      "100%|██████████| 10/10 [00:02<00:00,  4.03it/s]\n",
      "100%|██████████| 50/50 [00:15<00:00,  3.13it/s]\n",
      "100%|██████████| 10/10 [00:03<00:00,  3.10it/s]\n",
      "  0%|          | 0/50 [00:00<?, ?it/s]"
     ]
    },
    {
     "name": "stdout",
     "output_type": "stream",
     "text": [
      "Done...\n"
     ]
    },
    {
     "name": "stderr",
     "output_type": "stream",
     "text": [
      "100%|██████████| 50/50 [00:22<00:00,  2.20it/s]\n",
      "100%|██████████| 10/10 [00:04<00:00,  2.22it/s]\n",
      "100%|██████████| 50/50 [00:26<00:00,  1.88it/s]\n",
      "100%|██████████| 10/10 [00:05<00:00,  1.89it/s]\n"
     ]
    },
    {
     "name": "stdout",
     "output_type": "stream",
     "text": [
      "Done...\n"
     ]
    },
    {
     "name": "stderr",
     "output_type": "stream",
     "text": [
      "\r",
      "  0%|          | 0/50 [00:00<?, ?it/s]"
     ]
    },
    {
     "name": "stdout",
     "output_type": "stream",
     "text": [
      "Pocessing ../../gnosis_checkpoints/temp_ablation/temp_ablation/cifar100_temp_1.0/preresnet56_1-preresnet110_1/trial_1/2021-01-22_23-51-58\n",
      "Trial: 1\n",
      "Student:\n",
      "\tDepth: 110\n",
      "Teacher:\n",
      "\tDepth: 56\n",
      "\tNumber of components: 1\n"
     ]
    },
    {
     "name": "stderr",
     "output_type": "stream",
     "text": [
      "100%|██████████| 50/50 [00:12<00:00,  3.99it/s]\n",
      "100%|██████████| 10/10 [00:02<00:00,  4.03it/s]\n",
      "100%|██████████| 50/50 [00:16<00:00,  3.10it/s]\n",
      "100%|██████████| 10/10 [00:03<00:00,  3.15it/s]\n",
      "  0%|          | 0/50 [00:00<?, ?it/s]"
     ]
    },
    {
     "name": "stdout",
     "output_type": "stream",
     "text": [
      "Done...\n"
     ]
    },
    {
     "name": "stderr",
     "output_type": "stream",
     "text": [
      "100%|██████████| 50/50 [00:09<00:00,  5.37it/s]\n",
      "100%|██████████| 10/10 [00:01<00:00,  5.38it/s]\n",
      "100%|██████████| 50/50 [00:13<00:00,  3.84it/s]\n",
      "100%|██████████| 10/10 [00:02<00:00,  3.81it/s]\n"
     ]
    },
    {
     "name": "stdout",
     "output_type": "stream",
     "text": [
      "Done...\n",
      "Pocessing ../../gnosis_checkpoints/temp_ablation/temp_ablation/cifar100_temp_1.0/preresnet56_1-preresnet110_1/trial_2/2021-01-22_23-51-58\n",
      "Trial: 2\n",
      "Student:\n",
      "\tDepth: 110\n",
      "Teacher:\n",
      "\tDepth: 56\n",
      "\tNumber of components: 1\n"
     ]
    },
    {
     "name": "stderr",
     "output_type": "stream",
     "text": [
      "100%|██████████| 50/50 [00:12<00:00,  4.02it/s]\n",
      "100%|██████████| 10/10 [00:02<00:00,  4.01it/s]\n",
      "100%|██████████| 50/50 [00:15<00:00,  3.15it/s]\n",
      "100%|██████████| 10/10 [00:03<00:00,  3.16it/s]\n",
      "  0%|          | 0/50 [00:00<?, ?it/s]"
     ]
    },
    {
     "name": "stdout",
     "output_type": "stream",
     "text": [
      "Done...\n"
     ]
    },
    {
     "name": "stderr",
     "output_type": "stream",
     "text": [
      "100%|██████████| 50/50 [00:09<00:00,  5.40it/s]\n",
      "100%|██████████| 10/10 [00:01<00:00,  5.33it/s]\n",
      "100%|██████████| 50/50 [00:13<00:00,  3.82it/s]\n",
      "100%|██████████| 10/10 [00:02<00:00,  3.89it/s]\n"
     ]
    },
    {
     "name": "stdout",
     "output_type": "stream",
     "text": [
      "Done...\n",
      "Pocessing ../../gnosis_checkpoints/temp_ablation/temp_ablation/cifar100_temp_1.0/preresnet56_1-preresnet110_1/trial_0/2021-01-22_23-51-58\n",
      "Trial: 0\n",
      "Student:\n",
      "\tDepth: 110\n",
      "Teacher:\n",
      "\tDepth: 56\n",
      "\tNumber of components: 1\n"
     ]
    },
    {
     "name": "stderr",
     "output_type": "stream",
     "text": [
      "100%|██████████| 50/50 [00:12<00:00,  4.03it/s]\n",
      "100%|██████████| 10/10 [00:02<00:00,  4.04it/s]\n",
      "100%|██████████| 50/50 [00:15<00:00,  3.13it/s]\n",
      "100%|██████████| 10/10 [00:03<00:00,  3.17it/s]\n",
      "  0%|          | 0/50 [00:00<?, ?it/s]"
     ]
    },
    {
     "name": "stdout",
     "output_type": "stream",
     "text": [
      "Done...\n"
     ]
    },
    {
     "name": "stderr",
     "output_type": "stream",
     "text": [
      "100%|██████████| 50/50 [00:09<00:00,  5.40it/s]\n",
      "100%|██████████| 10/10 [00:01<00:00,  5.39it/s]\n",
      "100%|██████████| 50/50 [00:12<00:00,  3.85it/s]\n",
      "100%|██████████| 10/10 [00:02<00:00,  3.84it/s]"
     ]
    },
    {
     "name": "stdout",
     "output_type": "stream",
     "text": [
      "Done...\n"
     ]
    },
    {
     "name": "stderr",
     "output_type": "stream",
     "text": [
      "\n"
     ]
    }
   ],
   "source": [
    "base_dir = \"../../gnosis_checkpoints/temp_ablation/temp_ablation/\"\n",
    "process_all_subdirectories(base_dir, process_leaf_directory_fn)"
   ]
  },
  {
   "cell_type": "code",
   "execution_count": null,
   "id": "collectible-apollo",
   "metadata": {},
   "outputs": [],
   "source": []
  },
  {
   "cell_type": "code",
   "execution_count": null,
   "id": "printable-courage",
   "metadata": {},
   "outputs": [],
   "source": []
  },
  {
   "cell_type": "code",
   "execution_count": null,
   "id": "amended-alexandria",
   "metadata": {},
   "outputs": [],
   "source": []
  },
  {
   "cell_type": "code",
   "execution_count": null,
   "id": "brilliant-carolina",
   "metadata": {},
   "outputs": [],
   "source": []
  },
  {
   "cell_type": "markdown",
   "id": "given-flower",
   "metadata": {},
   "source": [
    "## Develop"
   ]
  },
  {
   "cell_type": "code",
   "execution_count": 133,
   "id": "offshore-explanation",
   "metadata": {},
   "outputs": [],
   "source": [
    "teacher_probs = np.load(\"../../gnosis_checkpoints/pavel_baseline_distillation_soft_only_300epochs/synth_aug_0.0_cifar100_ts_soft_cross_ent_v0.0.10/preresnet110_3-preresnet110_1/trial_1/2021-01-24_10-59-18/teacher_probs.npz\")\n",
    "student_probs = np.load(\"../../gnosis_checkpoints/pavel_baseline_distillation_soft_only_300epochs/synth_aug_0.0_cifar100_ts_soft_cross_ent_v0.0.10/preresnet110_3-preresnet110_1/trial_1/2021-01-24_10-59-18/student_probs.npz\")"
   ]
  },
  {
   "cell_type": "code",
   "execution_count": 134,
   "id": "powered-soundtrack",
   "metadata": {},
   "outputs": [
    {
     "name": "stdout",
     "output_type": "stream",
     "text": [
      "0.9998\n",
      "0.7394\n",
      "0.9998\n",
      "0.7377\n",
      "\n",
      "0.9998\n",
      "0.7394\n",
      "0.9998\n",
      "0.7368\n"
     ]
    }
   ],
   "source": [
    "print(get_accuracy(teacher_probs[\"train_probs\"], teacher_probs[\"train_labels\"]))\n",
    "print(get_accuracy(teacher_probs[\"test_probs\"], teacher_probs[\"test_labels\"]))\n",
    "print(get_accuracy(teacher_probs[\"aug_train_probs\"], teacher_probs[\"train_labels\"]))\n",
    "print(get_accuracy(teacher_probs[\"aug_test_probs\"], teacher_probs[\"test_labels\"]))\n",
    "print()\n",
    "print(get_accuracy(student_probs[\"train_probs\"], student_probs[\"train_labels\"]))\n",
    "print(get_accuracy(student_probs[\"test_probs\"], student_probs[\"test_labels\"]))\n",
    "print(get_accuracy(student_probs[\"aug_train_probs\"], student_probs[\"train_labels\"]))\n",
    "print(get_accuracy(student_probs[\"aug_test_probs\"], student_probs[\"test_labels\"]))"
   ]
  },
  {
   "cell_type": "code",
   "execution_count": null,
   "id": "coated-medline",
   "metadata": {},
   "outputs": [],
   "source": []
  },
  {
   "cell_type": "code",
   "execution_count": 27,
   "id": "accepted-hollywood",
   "metadata": {},
   "outputs": [],
   "source": [
    "path = \"../../gnosis_checkpoints/pavel_baseline_distillation_soft_only/synth_aug_0.0_cifar100_ts_soft_cross_ent_v0.0.10/preresnet110_1-preresnet110_1/trial_1/2021-01-21_13-43-40/\""
   ]
  },
  {
   "cell_type": "code",
   "execution_count": 31,
   "id": "explicit-hammer",
   "metadata": {},
   "outputs": [],
   "source": [
    "with open(os.path.join(path, \"hydra_config.txt\"), \"rb\") as f: #\".hydra/config.yaml\"), \"rb\") as f:\n",
    "    config = yaml.full_load(f)"
   ]
  },
  {
   "cell_type": "code",
   "execution_count": 32,
   "id": "social-intellectual",
   "metadata": {},
   "outputs": [
    {
     "data": {
      "text/plain": [
       "{'depth': 110,\n",
       " 'num_components': 1,\n",
       " 'use_ckpts': True,\n",
       " 'shuffle_ckpts': False,\n",
       " 'ckpt_dir': 'data/experiments/image_classification/classifier_checkpoints/preresnet110_cifar100_unitcube'}"
      ]
     },
     "execution_count": 32,
     "metadata": {},
     "output_type": "execute_result"
    }
   ],
   "source": [
    "config['teacher']"
   ]
  },
  {
   "cell_type": "code",
   "execution_count": null,
   "id": "structured-procurement",
   "metadata": {},
   "outputs": [],
   "source": [
    "teacher_model = ClassifierEnsemble()"
   ]
  },
  {
   "cell_type": "code",
   "execution_count": 74,
   "id": "specific-pennsylvania",
   "metadata": {},
   "outputs": [],
   "source": [
    "# def process_file(path):\n",
    "# #     if path.split(\"/\")[-1] == 'student.ckpt':\n",
    "# #         print(path)\n",
    "#     if path.split(\"/\")[-1] == 'config.yaml':\n",
    "#         print(path)\n",
    "\n"
   ]
  },
  {
   "cell_type": "code",
   "execution_count": 75,
   "id": "equipped-advertising",
   "metadata": {},
   "outputs": [
    {
     "name": "stdout",
     "output_type": "stream",
     "text": [
      "../data/experiments/image_classification/pavel_baseline_distillation_soft_only/synth_aug_0.0_cifar100_ts_soft_cross_ent_v0.0.10/preresnet56_3-preresnet56_1/trial_1/2021-01-21_13-43-40\n",
      "../data/experiments/image_classification/pavel_baseline_distillation_soft_only/synth_aug_0.0_cifar100_ts_soft_cross_ent_v0.0.10/preresnet56_3-preresnet56_1/trial_3/2021-01-21_13-43-40\n",
      "../data/experiments/image_classification/pavel_baseline_distillation_soft_only/synth_aug_0.0_cifar100_ts_soft_cross_ent_v0.0.10/preresnet56_3-preresnet56_1/trial_2/2021-01-21_13-43-40\n",
      "../data/experiments/image_classification/pavel_baseline_distillation_soft_only/synth_aug_0.0_cifar100_ts_soft_cross_ent_v0.0.10/preresnet20_5-preresnet20_1/trial_1/2021-01-21_13-43-40\n",
      "../data/experiments/image_classification/pavel_baseline_distillation_soft_only/synth_aug_0.0_cifar100_ts_soft_cross_ent_v0.0.10/preresnet20_5-preresnet20_1/trial_3/2021-01-21_13-43-40\n",
      "../data/experiments/image_classification/pavel_baseline_distillation_soft_only/synth_aug_0.0_cifar100_ts_soft_cross_ent_v0.0.10/preresnet20_5-preresnet20_1/trial_2/2021-01-21_13-43-40\n",
      "../data/experiments/image_classification/pavel_baseline_distillation_soft_only/synth_aug_0.0_cifar100_ts_soft_cross_ent_v0.0.10/preresnet110_3-preresnet110_1/trial_1/2021-01-21_13-43-40\n",
      "../data/experiments/image_classification/pavel_baseline_distillation_soft_only/synth_aug_0.0_cifar100_ts_soft_cross_ent_v0.0.10/preresnet110_3-preresnet110_1/trial_3/2021-01-21_13-43-40\n",
      "../data/experiments/image_classification/pavel_baseline_distillation_soft_only/synth_aug_0.0_cifar100_ts_soft_cross_ent_v0.0.10/preresnet110_3-preresnet110_1/trial_2/2021-01-21_13-43-40\n",
      "../data/experiments/image_classification/pavel_baseline_distillation_soft_only/synth_aug_0.0_cifar100_ts_soft_cross_ent_v0.0.10/preresnet110_1-preresnet110_1/trial_1/2021-01-21_13-43-40\n",
      "../data/experiments/image_classification/pavel_baseline_distillation_soft_only/synth_aug_0.0_cifar100_ts_soft_cross_ent_v0.0.10/preresnet110_1-preresnet110_1/trial_3/2021-01-21_13-43-40\n",
      "../data/experiments/image_classification/pavel_baseline_distillation_soft_only/synth_aug_0.0_cifar100_ts_soft_cross_ent_v0.0.10/preresnet110_1-preresnet110_1/trial_2/2021-01-21_13-43-40\n",
      "../data/experiments/image_classification/pavel_baseline_distillation_soft_only/synth_aug_0.0_cifar100_ts_soft_cross_ent_v0.0.10/preresnet56_1-preresnet56_1/trial_1/2021-01-21_13-43-40\n",
      "../data/experiments/image_classification/pavel_baseline_distillation_soft_only/synth_aug_0.0_cifar100_ts_soft_cross_ent_v0.0.10/preresnet56_1-preresnet56_1/trial_3/2021-01-21_13-43-40\n",
      "../data/experiments/image_classification/pavel_baseline_distillation_soft_only/synth_aug_0.0_cifar100_ts_soft_cross_ent_v0.0.10/preresnet56_1-preresnet56_1/trial_2/2021-01-21_13-43-40\n",
      "../data/experiments/image_classification/pavel_baseline_distillation_soft_only/synth_aug_0.0_cifar100_ts_soft_cross_ent_v0.0.10/preresnet56_5-preresnet56_1/trial_1/2021-01-21_13-43-40\n",
      "../data/experiments/image_classification/pavel_baseline_distillation_soft_only/synth_aug_0.0_cifar100_ts_soft_cross_ent_v0.0.10/preresnet56_5-preresnet56_1/trial_3/2021-01-21_13-43-40\n",
      "../data/experiments/image_classification/pavel_baseline_distillation_soft_only/synth_aug_0.0_cifar100_ts_soft_cross_ent_v0.0.10/preresnet56_5-preresnet56_1/trial_2/2021-01-21_13-43-40\n",
      "../data/experiments/image_classification/pavel_baseline_distillation_soft_only/synth_aug_0.0_cifar100_ts_soft_cross_ent_v0.0.10/preresnet110_5-preresnet110_1/trial_1/2021-01-21_13-43-40\n",
      "../data/experiments/image_classification/pavel_baseline_distillation_soft_only/synth_aug_0.0_cifar100_ts_soft_cross_ent_v0.0.10/preresnet110_5-preresnet110_1/trial_2/2021-01-21_13-43-40\n",
      "../data/experiments/image_classification/pavel_baseline_distillation_soft_only/synth_aug_0.0_cifar100_ts_soft_cross_ent_v0.0.10/preresnet20_1-preresnet20_1/trial_1/2021-01-21_13-43-40\n",
      "../data/experiments/image_classification/pavel_baseline_distillation_soft_only/synth_aug_0.0_cifar100_ts_soft_cross_ent_v0.0.10/preresnet20_1-preresnet20_1/trial_3/2021-01-21_13-43-40\n",
      "../data/experiments/image_classification/pavel_baseline_distillation_soft_only/synth_aug_0.0_cifar100_ts_soft_cross_ent_v0.0.10/preresnet20_1-preresnet20_1/trial_2/2021-01-21_13-43-40\n",
      "../data/experiments/image_classification/pavel_baseline_distillation_soft_only/synth_aug_0.0_cifar100_ts_soft_cross_ent_v0.0.10/preresnet20_3-preresnet20_1/trial_1/2021-01-21_13-43-40\n",
      "../data/experiments/image_classification/pavel_baseline_distillation_soft_only/synth_aug_0.0_cifar100_ts_soft_cross_ent_v0.0.10/preresnet20_3-preresnet20_1/trial_3/2021-01-21_13-43-40\n",
      "../data/experiments/image_classification/pavel_baseline_distillation_soft_only/synth_aug_0.0_cifar100_ts_soft_cross_ent_v0.0.10/preresnet20_3-preresnet20_1/trial_2/2021-01-21_13-43-40\n"
     ]
    }
   ],
   "source": [
    "process_all_subdirectories(base_dir)"
   ]
  },
  {
   "cell_type": "code",
   "execution_count": 91,
   "id": "false-ridge",
   "metadata": {},
   "outputs": [],
   "source": [
    "trial_dir = \"../data/experiments/image_classification/pavel_baseline_distillation_soft_only/synth_aug_0.0_cifar100_ts_soft_cross_ent_v0.0.10/preresnet20_3-preresnet20_1/trial_2/2021-01-21_13-43-40/\"\n",
    "with open(os.path.join(trial_dir, \".hydra/config.yaml\"), \"rb\") as f:\n",
    "    config = yaml.full_load(f)\n",
    "student_model = make_resnet(config['classifier']['depth']).cuda()\n",
    "\n",
    "with open(os.path.join(trial_dir, \"student.ckpt\"), \"rb\") as f:\n",
    "    student_model.load_state_dict(pickle.load(f))\n",
    "\n",
    "probs, labels = compute_probs(student_model, clean_test_loader)"
   ]
  },
  {
   "cell_type": "code",
   "execution_count": 93,
   "id": "electoral-storage",
   "metadata": {},
   "outputs": [
    {
     "data": {
      "text/plain": [
       "0.6047"
      ]
     },
     "execution_count": 93,
     "metadata": {},
     "output_type": "execute_result"
    }
   ],
   "source": [
    "get_accuracy(probs, labels)"
   ]
  },
  {
   "cell_type": "code",
   "execution_count": 90,
   "id": "boxed-howard",
   "metadata": {},
   "outputs": [
    {
     "data": {
      "text/plain": [
       "<All keys matched successfully>"
      ]
     },
     "execution_count": 90,
     "metadata": {},
     "output_type": "execute_result"
    }
   ],
   "source": []
  },
  {
   "cell_type": "code",
   "execution_count": null,
   "id": "structural-rehabilitation",
   "metadata": {},
   "outputs": [],
   "source": []
  },
  {
   "cell_type": "code",
   "execution_count": null,
   "id": "immune-affiliate",
   "metadata": {},
   "outputs": [],
   "source": []
  },
  {
   "cell_type": "code",
   "execution_count": null,
   "id": "public-requirement",
   "metadata": {},
   "outputs": [],
   "source": []
  },
  {
   "cell_type": "code",
   "execution_count": null,
   "id": "adjusted-disposition",
   "metadata": {},
   "outputs": [],
   "source": []
  },
  {
   "cell_type": "code",
   "execution_count": 69,
   "id": "bridal-poison",
   "metadata": {},
   "outputs": [],
   "source": [
    "test_path = \"../data/experiments/image_classification/mixup/cifar100_ts_soft_cross_ent_alpha_0.0_v0.0.10/preresnet56_3-preresnet56_1/trial_1/2021-01-24_02-01-18/teacher_0.ckpt\"\n",
    "config_path = \"../data/experiments/image_classification/pavel_baseline_distillation_soft_only/synth_aug_0.0_cifar100_ts_soft_cross_ent_v0.0.10/preresnet56_3-preresnet56_1/trial_1/2021-01-21_13-43-40/.hydra/config.yaml\""
   ]
  },
  {
   "cell_type": "code",
   "execution_count": 65,
   "id": "secure-furniture",
   "metadata": {},
   "outputs": [],
   "source": [
    "with open(config_path, \"rb\") as f:\n",
    "    config = yaml.full_load(f)"
   ]
  },
  {
   "cell_type": "code",
   "execution_count": 68,
   "id": "executed-jenny",
   "metadata": {},
   "outputs": [
    {
     "data": {
      "text/plain": [
       "56"
      ]
     },
     "execution_count": 68,
     "metadata": {},
     "output_type": "execute_result"
    }
   ],
   "source": [
    "config['classifier']['depth']"
   ]
  },
  {
   "cell_type": "code",
   "execution_count": null,
   "id": "victorian-ivory",
   "metadata": {},
   "outputs": [],
   "source": [
    "for filename in "
   ]
  },
  {
   "cell_type": "code",
   "execution_count": 70,
   "id": "composite-ownership",
   "metadata": {},
   "outputs": [
    {
     "data": {
      "text/plain": [
       "['teacher_test_logits.pkl',\n",
       " 'hydra_config.txt',\n",
       " 'student_train_metrics.csv',\n",
       " 'student.ckpt',\n",
       " 'events.out.tfevents.1611265439.mint',\n",
       " 'teacher_train_logits.pkl',\n",
       " '.hydra',\n",
       " 'student_train_logits.pkl',\n",
       " 'image_classification.log',\n",
       " 'student_test_logits.pkl',\n",
       " 'teacher_ensemble.ckpt']"
      ]
     },
     "execution_count": 70,
     "metadata": {},
     "output_type": "execute_result"
    }
   ],
   "source": [
    "os.listdir(test_path)"
   ]
  },
  {
   "cell_type": "code",
   "execution_count": 55,
   "id": "extensive-delicious",
   "metadata": {},
   "outputs": [],
   "source": [
    "filepath = os.path.join(base_dir,\n",
    "                        \"preresnet110_1-preresnet110_1/trial_1/2021-01-21_13-43-40/.hydra\")"
   ]
  },
  {
   "cell_type": "code",
   "execution_count": null,
   "id": "literary-river",
   "metadata": {},
   "outputs": [],
   "source": []
  },
  {
   "cell_type": "code",
   "execution_count": null,
   "id": "connected-settlement",
   "metadata": {},
   "outputs": [],
   "source": []
  },
  {
   "cell_type": "code",
   "execution_count": 13,
   "id": "exact-satin",
   "metadata": {},
   "outputs": [],
   "source": [
    "base_dir = \"../data/experiments/image_classification/pavel_baseline_distillation_soft_only/synth_aug_0.0_cifar100_ts_soft_cross_ent_v0.0.10/\"\n",
    "filepath = \"preresnet110_1-preresnet110_1/trial_1/2021-01-21_13-43-40/teacher_test_logits.pkl\"\n",
    "filepath = os.path.join(base_dir, filepath)\n",
    "\n",
    "with open(filepath, \"rb\") as f:\n",
    "    logits = pickle.load(f)"
   ]
  },
  {
   "cell_type": "code",
   "execution_count": 15,
   "id": "informed-paint",
   "metadata": {},
   "outputs": [
    {
     "data": {
      "text/plain": [
       "torch.Size([10000, 100])"
      ]
     },
     "execution_count": 15,
     "metadata": {},
     "output_type": "execute_result"
    }
   ],
   "source": [
    "logits.shape"
   ]
  },
  {
   "cell_type": "code",
   "execution_count": 25,
   "id": "literary-source",
   "metadata": {},
   "outputs": [],
   "source": [
    "from collections import namedtuple"
   ]
  },
  {
   "cell_type": "code",
   "execution_count": 18,
   "id": "retired-taylor",
   "metadata": {},
   "outputs": [],
   "source": [
    "filepath = \"../data/experiments/image_classification/pavel_baseline_distillation_soft_only/synth_aug_0.0_cifar100_ts_soft_cross_ent_v0.0.10/preresnet20_1-preresnet20_1/trial_1/2021-01-21_13-43-40/hydra_config.txt\"\n",
    "with open(filepath, \"rb\") as f:\n",
    "    config = yaml.full_load(f)"
   ]
  }
 ],
 "metadata": {
  "kernelspec": {
   "display_name": "py38",
   "language": "python",
   "name": "py38"
  },
  "language_info": {
   "codemirror_mode": {
    "name": "ipython",
    "version": 3
   },
   "file_extension": ".py",
   "mimetype": "text/x-python",
   "name": "python",
   "nbconvert_exporter": "python",
   "pygments_lexer": "ipython3",
   "version": "3.8.5"
  }
 },
 "nbformat": 4,
 "nbformat_minor": 5
}
