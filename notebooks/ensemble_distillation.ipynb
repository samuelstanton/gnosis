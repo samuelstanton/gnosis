{
 "cells": [
  {
   "cell_type": "markdown",
   "metadata": {},
   "source": [
    "### Can three ResNet-20 models be distilled into another ResNet-20?"
   ]
  },
  {
   "cell_type": "code",
   "execution_count": null,
   "metadata": {},
   "outputs": [],
   "source": [
    "import pandas as pd\n",
    "import matplotlib.pyplot as plt\n",
    "import seaborn as sns\n",
    "import numpy as np\n",
    "import math\n",
    "\n",
    "from upcycle.plotting.credible_regions import get_arm, draw_arm_comparison\n",
    "from pathlib import Path\n",
    "\n",
    "sns.set(style='whitegrid', font_scale=1.25)"
   ]
  },
  {
   "cell_type": "code",
   "execution_count": null,
   "metadata": {},
   "outputs": [],
   "source": [
    "exp_dir = '../data/experiments/image_classification'\n",
    "dataset = 'cifar10'\n",
    "\n",
    "soft_label_arms = {\n",
    "    '1 --> 1 (no synth)': f'synth_aug_0.0_{dataset}_v0.0.7/preresnet20_1-preresnet20_1',\n",
    "    '3 --> 1 (no synth)': f'synth_aug_0.0_{dataset}_v0.0.7/preresnet20_3-preresnet20_1',\n",
    "    '1 --> 1 (1:5 synth)': f'synth_aug_0.2_{dataset}_v0.0.7/preresnet20_1-preresnet20_1',\n",
    "    '3 --> 1 (1:5 synth)': f'synth_aug_0.2_{dataset}_v0.0.7/preresnet20_3-preresnet20_1',\n",
    "#     '4 --> 1 (no synth)': f'synth_aug_0.0_{dataset}_v0.0.7/preresnet20_4-preresnet20_1',\n",
    "#     '4 --> 1 (1:5 synth)': f'synth_aug_0.2_{dataset}_v0.0.7/preresnet20_4-preresnet20_1',\n",
    "    '5 --> 1 (no synth)': f'synth_aug_0.0_{dataset}_v0.0.7/preresnet20_5-preresnet20_1',\n",
    "    '5 --> 1 (1:5 synth)': f'synth_aug_0.2_{dataset}_v0.0.7/preresnet20_5-preresnet20_1',\n",
    "}\n",
    "\n",
    "hard_label_arms = {\n",
    "    '1 --> 1 (no synth)': f'synth_aug_0.0_{dataset}_hard_labels_v0.0.7/preresnet20_1-preresnet20_1',\n",
    "    '3 --> 1 (no synth)': f'synth_aug_0.0_{dataset}_hard_labels_v0.0.7/preresnet20_3-preresnet20_1',\n",
    "    '1 --> 1 (1:5 synth)': f'synth_aug_0.2_{dataset}_hard_labels_v0.0.7/preresnet20_1-preresnet20_1',\n",
    "    '3 --> 1 (1:5 synth)': f'synth_aug_0.2_{dataset}_hard_labels_v0.0.7/preresnet20_3-preresnet20_1',\n",
    "#     '4 --> 1 (no synth)': f'synth_aug_0.0_{dataset}_hard_labels_v0.0.7/preresnet20_4-preresnet20_1',\n",
    "#     '4 --> 1 (1:5 synth)': f'synth_aug_0.2_{dataset}_hard_labels_v0.0.7/preresnet20_4-preresnet20_1',\n",
    "    '5 --> 1 (no synth)': f'synth_aug_0.0_{dataset}_hard_labels_v0.0.7/preresnet20_5-preresnet20_1',\n",
    "    '5 --> 1 (1:5 synth)': f'synth_aug_0.2_{dataset}_hard_labels_v0.0.7/preresnet20_5-preresnet20_1',\n",
    "}"
   ]
  },
  {
   "cell_type": "code",
   "execution_count": null,
   "metadata": {},
   "outputs": [],
   "source": [
    "plot_config = dict(\n",
    "    table_name='student_train_metrics',\n",
    "    x_key='epoch',\n",
    "    window=4,\n",
    "    xlim=(100, 200),\n",
    ")"
   ]
  },
  {
   "cell_type": "code",
   "execution_count": null,
   "metadata": {},
   "outputs": [],
   "source": [
    "plot_config['y_key'] = 'train_loss'\n",
    "plot_config['ylim'] = (0, 1)\n",
    "fig = plt.figure(figsize=(12, 5))\n",
    "fig.suptitle(dataset.upper())\n",
    "\n",
    "ax_1 = fig.add_subplot(1, 2, 1)\n",
    "ax_1.set_title('Hard Labels')\n",
    "ax_1 = draw_arm_comparison(ax_1, exp_dir, hard_label_arms, **plot_config)\n",
    "\n",
    "ax_2 = fig.add_subplot(1, 2, 2)\n",
    "ax_2.set_title('Soft Labels')\n",
    "ax_2 = draw_arm_comparison(ax_2, exp_dir, soft_label_arms, **plot_config)\n",
    "ax_2.legend(loc='upper right')\n",
    "\n",
    "plt.tight_layout()"
   ]
  },
  {
   "cell_type": "code",
   "execution_count": null,
   "metadata": {},
   "outputs": [],
   "source": [
    "plot_config['y_key'] = 'train_acc'\n",
    "plot_config['ylabel'] = 'train error'\n",
    "plot_config['ylim'] = (0, 0.06)\n",
    "plot_config['transform'] = lambda x: 1 - x / 100\n",
    "fig = plt.figure(figsize=(12, 5))\n",
    "fig.suptitle(dataset.upper())\n",
    "\n",
    "ax_1 = fig.add_subplot(1, 2, 1)\n",
    "ax_1.set_title('Hard Labels')\n",
    "ax_1 = draw_arm_comparison(ax_1, exp_dir, hard_label_arms, **plot_config)\n",
    "x_range, mean, lb, ub = get_arm(exp_dir, hard_label_arms['1 --> 1 (no synth)'], 'student_train_metrics.csv', 'epoch', 'teacher_train_acc',\n",
    "                              plot_config['window'], transform=lambda x: 1 - x / 100)\n",
    "ax_1.hlines(mean[-1], x_range[0], x_range[-1], color='blue', linestyle='--')\n",
    "x_range, mean, lb, ub = get_arm(exp_dir, hard_label_arms['3 --> 1 (no synth)'], 'student_train_metrics.csv', 'epoch', 'teacher_train_acc',\n",
    "                              plot_config['window'], transform=lambda x: 1 - x / 100)\n",
    "ax_1.hlines(mean[-1], x_range[0], x_range[-1], color='orange', linestyle='--')\n",
    "\n",
    "ax_2 = fig.add_subplot(1, 2, 2)\n",
    "ax_2.set_title('Soft Labels')\n",
    "ax_2 = draw_arm_comparison(ax_2, exp_dir, soft_label_arms, **plot_config)\n",
    "x_range, mean, _, _ = get_arm(exp_dir, soft_label_arms['1 --> 1 (no synth)'], 'student_train_metrics.csv', 'epoch', 'teacher_train_acc',\n",
    "                              plot_config['window'], transform=lambda x: 1 - x / 100)\n",
    "ax_2.hlines(mean[-1], x_range[0], x_range[-1], color='blue', linestyle='--')\n",
    "x_range, mean, lb, ub = get_arm(exp_dir, soft_label_arms['3 --> 1 (no synth)'], 'student_train_metrics.csv', 'epoch', 'teacher_train_acc',\n",
    "                              plot_config['window'], transform=lambda x: 1 - x / 100)\n",
    "ax_2.hlines(mean[-1], x_range[0], x_range[-1], color='orange', linestyle='--')\n",
    "    \n",
    "ax_2.legend(loc='upper right')\n",
    "\n",
    "plt.tight_layout()\n",
    "# plt.savefig(f'figures/image_classification/sngan_preresnet20_{dataset}_train_err.pdf')"
   ]
  },
  {
   "cell_type": "code",
   "execution_count": null,
   "metadata": {},
   "outputs": [],
   "source": [
    "plot_config['y_key'] = 'test_acc'\n",
    "plot_config['ylabel'] = 'test error'\n",
    "plot_config['ylim'] = (0.05, 0.15)\n",
    "plot_config['transform'] = lambda x: 1 - x / 100\n",
    "fig = plt.figure(figsize=(12, 5))\n",
    "fig.suptitle(dataset.upper())\n",
    "\n",
    "ax_1 = fig.add_subplot(1, 2, 1)\n",
    "ax_1.set_title('Hard Labels')\n",
    "ax_1 = draw_arm_comparison(ax_1, exp_dir, hard_label_arms, **plot_config)\n",
    "x_range, mean, _, _ = get_arm(exp_dir, hard_label_arms['1 --> 1 (no synth)'], 'student_train_metrics.csv', 'epoch', 'teacher_test_acc',\n",
    "                              plot_config['window'], transform=lambda x: 1 - x / 100)\n",
    "ax_1.hlines(mean[-1], x_range[0], x_range[-1], color='blue', linestyle='--')\n",
    "x_range, mean, _, _ = get_arm(exp_dir, hard_label_arms['3 --> 1 (no synth)'], 'student_train_metrics.csv', 'epoch', 'teacher_test_acc',\n",
    "                              plot_config['window'], transform=lambda x: 1 - x / 100)\n",
    "ax_1.hlines(mean[-1], x_range[0], x_range[-1], color='orange', linestyle='--')\n",
    "\n",
    "ax_2 = fig.add_subplot(1, 2, 2)\n",
    "ax_2.set_title('Soft Labels')\n",
    "ax_2 = draw_arm_comparison(ax_2, exp_dir, soft_label_arms, **plot_config)\n",
    "x_range, mean, _, _ = get_arm(exp_dir, soft_label_arms['1 --> 1 (no synth)'], 'student_train_metrics.csv', 'epoch', 'teacher_test_acc',\n",
    "                              plot_config['window'], transform=lambda x: 1 - x / 100)\n",
    "ax_2.hlines(mean[-1], x_range[0], x_range[-1], color='blue', linestyle='--')\n",
    "x_range, mean, _, _ = get_arm(exp_dir, soft_label_arms['3 --> 1 (no synth)'], 'student_train_metrics.csv', 'epoch', 'teacher_test_acc',\n",
    "                              plot_config['window'], transform=lambda x: 1 - x / 100)\n",
    "ax_2.hlines(mean[-1], x_range[0], x_range[-1], color='orange', linestyle='--')\n",
    "    \n",
    "ax_2.legend(loc='upper right')\n",
    "\n",
    "plt.tight_layout()"
   ]
  },
  {
   "cell_type": "code",
   "execution_count": null,
   "metadata": {},
   "outputs": [],
   "source": []
  }
 ],
 "metadata": {
  "kernelspec": {
   "display_name": "Python 3",
   "language": "python",
   "name": "python3"
  },
  "language_info": {
   "codemirror_mode": {
    "name": "ipython",
    "version": 3
   },
   "file_extension": ".py",
   "mimetype": "text/x-python",
   "name": "python",
   "nbconvert_exporter": "python",
   "pygments_lexer": "ipython3",
   "version": "3.8.5"
  }
 },
 "nbformat": 4,
 "nbformat_minor": 4
}
